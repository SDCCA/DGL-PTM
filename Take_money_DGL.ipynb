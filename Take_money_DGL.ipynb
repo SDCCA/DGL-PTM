{
 "cells": [
  {
   "cell_type": "code",
   "execution_count": 1,
   "id": "6fbe6c39-8c82-40a3-b9f6-0ffad3bcbd69",
   "metadata": {},
   "outputs": [],
   "source": [
    "import os"
   ]
  },
  {
   "cell_type": "code",
   "execution_count": 2,
   "id": "eb485a6b-4ac5-481d-9698-065078a1153d",
   "metadata": {},
   "outputs": [],
   "source": [
    "os.environ[\"DGLBACKEND\"] = \"pytorch\""
   ]
  },
  {
   "cell_type": "code",
   "execution_count": 51,
   "id": "4afb538b-7c04-47cc-b18f-1005f1c69307",
   "metadata": {},
   "outputs": [],
   "source": [
    "import torch \n",
    "import pandas as pd\n",
    "import dgl\n",
    "from dgl.data import DGLDataset\n",
    "import dgl.function as fn\n",
    "import numpy as np"
   ]
  },
  {
   "cell_type": "code",
   "execution_count": 4,
   "id": "2993410a-471e-43de-a127-9cdb4d5010d3",
   "metadata": {},
   "outputs": [
    {
     "name": "stdout",
     "output_type": "stream",
     "text": [
      "Done loading data from cached files.\n"
     ]
    }
   ],
   "source": [
    "ds = dgl.data.CSVDataset('./DGL_playground/toy_dataset/')"
   ]
  },
  {
   "cell_type": "code",
   "execution_count": 5,
   "id": "d0caa888-26ee-4d09-87ff-ca5e9bbe80d7",
   "metadata": {},
   "outputs": [],
   "source": [
    "g = ds[0]"
   ]
  },
  {
   "cell_type": "code",
   "execution_count": 6,
   "id": "cd74092f-5caa-4cd9-966c-8e81ef278bdb",
   "metadata": {},
   "outputs": [
    {
     "name": "stdout",
     "output_type": "stream",
     "text": [
      "Graph(num_nodes=10, num_edges=20,\n",
      "      ndata_schemes={' na2': Scheme(shape=(), dtype=torch.int64), ' na1': Scheme(shape=(), dtype=torch.int64)}\n",
      "      edata_schemes={'ea2': Scheme(shape=(), dtype=torch.int64), 'ea1': Scheme(shape=(), dtype=torch.int64), 'w': Scheme(shape=(), dtype=torch.int64)})\n"
     ]
    }
   ],
   "source": [
    "print(g)\n"
   ]
  },
  {
   "cell_type": "code",
   "execution_count": 119,
   "id": "7a85ae11-826b-464e-8a7f-4bd367ad2db4",
   "metadata": {},
   "outputs": [
    {
     "data": {
      "text/plain": [
       "tensor([[0.8746],\n",
       "        [0.4106],\n",
       "        [0.2491],\n",
       "        [0.9596],\n",
       "        [0.3840],\n",
       "        [0.8732],\n",
       "        [0.6992],\n",
       "        [0.7689],\n",
       "        [0.4988],\n",
       "        [0.7450],\n",
       "        [0.1181],\n",
       "        [0.3896],\n",
       "        [0.6899],\n",
       "        [0.3884],\n",
       "        [0.3385],\n",
       "        [0.9596],\n",
       "        [0.4583],\n",
       "        [0.0301],\n",
       "        [0.1538],\n",
       "        [0.6074]])"
      ]
     },
     "execution_count": 119,
     "metadata": {},
     "output_type": "execute_result"
    }
   ],
   "source": [
    "g.edata['w'] = torch.rand(g.num_edges(),1)\n",
    "g.edata['w']"
   ]
  },
  {
   "cell_type": "code",
   "execution_count": 8,
   "id": "d5359e8e",
   "metadata": {},
   "outputs": [],
   "source": [
    "#Create wealth per node/agent in the network as a node feature/attribute\n",
    "g.ndata['k'] = torch.rand(g.num_nodes(),1)*1000"
   ]
  },
  {
   "cell_type": "code",
   "execution_count": 9,
   "id": "37bb7a8a",
   "metadata": {},
   "outputs": [],
   "source": [
    "#Create savings propensity as a node features per agent\n",
    "g.ndata['lambda'] = torch.rand(g.num_nodes(),1)"
   ]
  },
  {
   "cell_type": "code",
   "execution_count": 25,
   "id": "43062834",
   "metadata": {},
   "outputs": [
    {
     "data": {
      "text/plain": [
       "tensor([0, 0, 0, 1, 1, 2, 2, 3, 3, 3, 4, 4, 5, 5, 6, 6, 7, 7, 8, 8])"
      ]
     },
     "execution_count": 25,
     "metadata": {},
     "output_type": "execute_result"
    }
   ],
   "source": [
    "g.edges(form='uv')[0]"
   ]
  },
  {
   "cell_type": "code",
   "execution_count": 26,
   "id": "bd07fc03",
   "metadata": {},
   "outputs": [],
   "source": [
    "g.ndata['n_neighbours'] = torch.zeros(g.num_nodes(),1)"
   ]
  },
  {
   "cell_type": "code",
   "execution_count": 31,
   "id": "f56096f2",
   "metadata": {},
   "outputs": [],
   "source": [
    "for i in g.nodes():\n",
    "    g.ndata['n_neighbours'][i] =  np.count_nonzero(g.edges(form='uv')[0] == i)\n"
   ]
  },
  {
   "cell_type": "code",
   "execution_count": 80,
   "id": "7534fd4f",
   "metadata": {},
   "outputs": [],
   "source": [
    "g.ndata['zeros'] = torch.zeros(g.num_nodes(),1)\n"
   ]
  },
  {
   "cell_type": "code",
   "execution_count": 81,
   "metadata": {},
   "outputs": [],
   "source": [
    "g.ndata['ones'] = torch.ones(g.num_nodes(),1)"
   ]
  },
  {
   "cell_type": "code",
   "execution_count": 90,
   "id": "c4375e49",
   "metadata": {},
   "outputs": [],
   "source": [
    "g.update_all(fn.u_add_v('zeros','ones','ones'), fn.sum('ones', 'tot_nbr'))"
   ]
  },
  {
   "cell_type": "code",
   "execution_count": 155,
   "metadata": {},
   "outputs": [
    {
     "data": {
      "text/plain": [
       "tensor([[2.6016],\n",
       "        [1.5738],\n",
       "        [0.7945],\n",
       "        [1.0572],\n",
       "        [0.8872],\n",
       "        [1.1346],\n",
       "        [0.6120],\n",
       "        [0.9459],\n",
       "        [0.9897],\n",
       "        [0.0000]])"
      ]
     },
     "execution_count": 155,
     "metadata": {},
     "output_type": "execute_result"
    }
   ],
   "source": [
    "g.ndata['tot_wgt'] = torch.zeros(g.num_nodes(),1)\n",
    "g.update_all(fn.u_add_e('tot_wgt','w','m'), fn.sum('m', 'tot_wgt'))\n",
    "g.ndata['tot_wgt']"
   ]
  },
  {
   "cell_type": "code",
   "execution_count": 99,
   "id": "ba23e1bf",
   "metadata": {},
   "outputs": [],
   "source": [
    "g.apply_edges(fn.e_div_u('w','tot_wgt','per_wgt'))"
   ]
  },
  {
   "cell_type": "code",
   "execution_count": 122,
   "id": "3d23ed7e",
   "metadata": {},
   "outputs": [
    {
     "data": {
      "text/plain": [
       "tensor([[0.8746],\n",
       "        [0.4106],\n",
       "        [0.2491],\n",
       "        [0.9596],\n",
       "        [0.3840],\n",
       "        [0.8732],\n",
       "        [0.6992],\n",
       "        [0.7689],\n",
       "        [0.4988],\n",
       "        [0.7450],\n",
       "        [0.1181],\n",
       "        [0.3896],\n",
       "        [0.6899],\n",
       "        [0.3884],\n",
       "        [0.3385],\n",
       "        [0.9596],\n",
       "        [0.4583],\n",
       "        [0.0301],\n",
       "        [0.1538],\n",
       "        [0.6074]])"
      ]
     },
     "execution_count": 122,
     "metadata": {},
     "output_type": "execute_result"
    }
   ],
   "source": [
    "g.edata['w']"
   ]
  },
  {
   "cell_type": "code",
   "execution_count": 106,
   "id": "74a882f2",
   "metadata": {},
   "outputs": [
    {
     "data": {
      "text/plain": [
       "(tensor([0, 0, 0, 1, 1, 2, 2, 3, 3, 3, 4, 4, 5, 5, 6, 6, 7, 7, 8, 8]),\n",
       " tensor([1, 2, 3, 0, 2, 0, 1, 0, 4, 5, 3, 5, 3, 4, 7, 8, 6, 8, 6, 7]))"
      ]
     },
     "execution_count": 106,
     "metadata": {},
     "output_type": "execute_result"
    }
   ],
   "source": [
    "g.edges()"
   ]
  },
  {
   "cell_type": "code",
   "execution_count": null,
   "id": "9fd3f8cb",
   "metadata": {},
   "outputs": [],
   "source": []
  }
 ],
 "metadata": {
  "kernelspec": {
   "display_name": "ptm",
   "language": "python",
   "name": "python3"
  },
  "language_info": {
   "codemirror_mode": {
    "name": "ipython",
    "version": 3
   },
   "file_extension": ".py",
   "mimetype": "text/x-python",
   "name": "python",
   "nbconvert_exporter": "python",
   "pygments_lexer": "ipython3",
   "version": "3.11.4"
  }
 },
 "nbformat": 4,
 "nbformat_minor": 5
}

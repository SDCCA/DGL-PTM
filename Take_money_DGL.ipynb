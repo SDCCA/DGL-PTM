{
 "cells": [
  {
   "cell_type": "code",
   "execution_count": 1,
   "id": "6fbe6c39-8c82-40a3-b9f6-0ffad3bcbd69",
   "metadata": {},
   "outputs": [],
   "source": [
    "import os"
   ]
  },
  {
   "cell_type": "code",
   "execution_count": 2,
   "id": "eb485a6b-4ac5-481d-9698-065078a1153d",
   "metadata": {},
   "outputs": [],
   "source": [
    "os.environ[\"DGLBACKEND\"] = \"pytorch\""
   ]
  },
  {
   "cell_type": "code",
   "execution_count": 3,
   "id": "4afb538b-7c04-47cc-b18f-1005f1c69307",
   "metadata": {},
   "outputs": [],
   "source": [
    "import torch \n",
    "import pandas as pd\n",
    "import dgl\n",
    "from dgl.data import DGLDataset\n",
    "import dgl.function as fn\n",
    "import numpy as np"
   ]
  },
  {
   "cell_type": "code",
   "execution_count": 4,
   "id": "2993410a-471e-43de-a127-9cdb4d5010d3",
   "metadata": {},
   "outputs": [
    {
     "name": "stdout",
     "output_type": "stream",
     "text": [
      "Done loading data from cached files.\n"
     ]
    }
   ],
   "source": [
    "ds = dgl.data.CSVDataset('./DGL_playground/toy_dataset/')"
   ]
  },
  {
   "cell_type": "code",
   "execution_count": 5,
   "id": "d0caa888-26ee-4d09-87ff-ca5e9bbe80d7",
   "metadata": {},
   "outputs": [],
   "source": [
    "g = ds[0]"
   ]
  },
  {
   "cell_type": "code",
   "execution_count": 6,
   "id": "cd74092f-5caa-4cd9-966c-8e81ef278bdb",
   "metadata": {},
   "outputs": [
    {
     "name": "stdout",
     "output_type": "stream",
     "text": [
      "Graph(num_nodes=10, num_edges=20,\n",
      "      ndata_schemes={' na2': Scheme(shape=(), dtype=torch.int64), ' na1': Scheme(shape=(), dtype=torch.int64)}\n",
      "      edata_schemes={'ea2': Scheme(shape=(), dtype=torch.int64), 'ea1': Scheme(shape=(), dtype=torch.int64), 'w': Scheme(shape=(), dtype=torch.int64)})\n"
     ]
    }
   ],
   "source": [
    "print(g)\n"
   ]
  },
  {
   "attachments": {},
   "cell_type": "markdown",
   "id": "d45b3df4",
   "metadata": {},
   "source": [
    "### Define Weights\n",
    "\n",
    "The weights need to be constant along any bi-directed edge. DGL does not provide a function to ensure this happens. Currently a for loop is being used to ensure identical weights along edges - a better solution needs to be found to ensure scalability of the model."
   ]
  },
  {
   "cell_type": "code",
   "execution_count": 42,
   "id": "7a85ae11-826b-464e-8a7f-4bd367ad2db4",
   "metadata": {},
   "outputs": [],
   "source": [
    "g.edata['w'] = torch.rand(g.num_edges(),1)\n",
    "# g.edata['w']"
   ]
  },
  {
   "cell_type": "code",
   "execution_count": 44,
   "id": "1a79e7ea",
   "metadata": {},
   "outputs": [
    {
     "data": {
      "text/plain": [
       "(tensor([0, 0, 0, 1, 1, 2, 2, 3, 3, 3, 4, 4, 5, 5, 6, 6, 7, 7, 8, 8]),\n",
       " tensor([1, 2, 3, 0, 2, 0, 1, 0, 4, 5, 3, 5, 3, 4, 7, 8, 6, 8, 6, 7]),\n",
       " tensor([ 0,  1,  2,  3,  4,  5,  6,  7,  8,  9, 10, 11, 12, 13, 14, 15, 16, 17,\n",
       "         18, 19]))"
      ]
     },
     "execution_count": 44,
     "metadata": {},
     "output_type": "execute_result"
    }
   ],
   "source": [
    "g.edges(\"all\")"
   ]
  },
  {
   "cell_type": "code",
   "execution_count": 61,
   "metadata": {},
   "outputs": [
    {
     "data": {
      "text/plain": [
       "tensor([[0.3884],\n",
       "        [0.2080],\n",
       "        [0.3543],\n",
       "        [0.3884],\n",
       "        [0.4906],\n",
       "        [0.2080],\n",
       "        [0.4906],\n",
       "        [0.3543],\n",
       "        [0.0083],\n",
       "        [0.5370],\n",
       "        [0.0083],\n",
       "        [0.1887],\n",
       "        [0.5370],\n",
       "        [0.1887],\n",
       "        [0.6262],\n",
       "        [0.7805],\n",
       "        [0.6262],\n",
       "        [0.4563],\n",
       "        [0.7805],\n",
       "        [0.4563]])"
      ]
     },
     "execution_count": 61,
     "metadata": {},
     "output_type": "execute_result"
    }
   ],
   "source": [
    "# Obtain source, destination and edge ids for all edges\n",
    "[src, dst, eid] = g.edges(form = 'all')\n",
    "\n",
    "# Loop through edges to identify bi-directional edges to then assign same weights\n",
    "# This loop can be optimized but ideally needs to be replaced with an parallelisable function\n",
    "for i in eid:\n",
    "    for j in eid:\n",
    "        if (src[i] == dst[j] and dst[i] == src[j]): #For edges with same nodes\n",
    "            g.edata['w'][j] = g.edata['w'][i]\n",
    "            break\n",
    "g.edata['w']"
   ]
  },
  {
   "cell_type": "code",
   "execution_count": 62,
   "id": "d5359e8e",
   "metadata": {},
   "outputs": [],
   "source": [
    "#Create wealth per node/agent in the network as a node feature/attribute\n",
    "g.ndata['k'] = torch.rand(g.num_nodes(),1)*1000"
   ]
  },
  {
   "cell_type": "code",
   "execution_count": 63,
   "id": "37bb7a8a",
   "metadata": {},
   "outputs": [],
   "source": [
    "#Create savings propensity as a node features per agent\n",
    "g.ndata['lambda'] = torch.rand(g.num_nodes(),1)"
   ]
  },
  {
   "cell_type": "code",
   "execution_count": 65,
   "id": "7534fd4f",
   "metadata": {},
   "outputs": [],
   "source": [
    "#Initialize some base node attributes (0s, and 1s)\n",
    "g.ndata['zeros'] = torch.zeros(g.num_nodes(),1)\n",
    "g.ndata['ones'] = torch.ones(g.num_nodes(),1)"
   ]
  },
  {
   "cell_type": "code",
   "execution_count": 91,
   "id": "c4375e49",
   "metadata": {},
   "outputs": [
    {
     "data": {
      "text/plain": [
       "tensor([[3.],\n",
       "        [2.],\n",
       "        [2.],\n",
       "        [3.],\n",
       "        [2.],\n",
       "        [2.],\n",
       "        [2.],\n",
       "        [2.],\n",
       "        [2.],\n",
       "        [0.]])"
      ]
     },
     "execution_count": 91,
     "metadata": {},
     "output_type": "execute_result"
    }
   ],
   "source": [
    "#Calculate number of neighbours (tot_nbr) each node has using built-in functions\n",
    "g.update_all(fn.u_add_v('zeros','ones','tot_nbr'), fn.sum('tot_nbr', 'tot_nbr'))\n",
    "g.ndata['tot_nbr']"
   ]
  },
  {
   "cell_type": "code",
   "execution_count": 69,
   "metadata": {},
   "outputs": [
    {
     "data": {
      "text/plain": [
       "tensor([[0.9508],\n",
       "        [0.8791],\n",
       "        [0.6987],\n",
       "        [0.8996],\n",
       "        [0.1970],\n",
       "        [0.7257],\n",
       "        [1.4066],\n",
       "        [1.0825],\n",
       "        [1.2368],\n",
       "        [0.0000]])"
      ]
     },
     "execution_count": 69,
     "metadata": {},
     "output_type": "execute_result"
    }
   ],
   "source": [
    "#Calculate total weight of all incoming (or outgoing, equivalent bidirectional graph) edges to each node\n",
    "g.ndata['tot_wgt'] = torch.zeros(g.num_nodes(),1)\n",
    "g.update_all(fn.u_add_e('tot_wgt','w','tot_wgt'), fn.sum('tot_wgt', 'tot_wgt'))\n",
    "g.ndata['tot_wgt']"
   ]
  },
  {
   "cell_type": "code",
   "execution_count": 71,
   "id": "ba23e1bf",
   "metadata": {},
   "outputs": [
    {
     "data": {
      "text/plain": [
       "tensor([[0.4085],\n",
       "        [0.2188],\n",
       "        [0.3727],\n",
       "        [0.4419],\n",
       "        [0.5581],\n",
       "        [0.2978],\n",
       "        [0.7022],\n",
       "        [0.3939],\n",
       "        [0.0092],\n",
       "        [0.5969],\n",
       "        [0.0420],\n",
       "        [0.9580],\n",
       "        [0.7399],\n",
       "        [0.2601],\n",
       "        [0.4451],\n",
       "        [0.5549],\n",
       "        [0.5784],\n",
       "        [0.4216],\n",
       "        [0.6310],\n",
       "        [0.3690]])"
      ]
     },
     "execution_count": 71,
     "metadata": {},
     "output_type": "execute_result"
    }
   ],
   "source": [
    "# e_div_u divides the edge feature by the feature of the source node for outgoing edges\n",
    "# However, u_add_e addes the features of edges with source node for incoming edges\n",
    "# Not sure if this discrepancy is intentional\n",
    "g.apply_edges(fn.e_div_u('w','tot_wgt','per_wgt'))\n",
    "g.edata['per_wgt']"
   ]
  },
  {
   "cell_type": "code",
   "execution_count": 77,
   "id": "9fd3f8cb",
   "metadata": {},
   "outputs": [
    {
     "data": {
      "text/plain": [
       "tensor([[168.6985],\n",
       "        [228.1343],\n",
       "        [ 23.8596],\n",
       "        [183.6691],\n",
       "        [163.6480],\n",
       "        [ 95.3177],\n",
       "        [334.3804],\n",
       "        [392.6791],\n",
       "        [176.9619],\n",
       "        [ 41.7966]])"
      ]
     },
     "execution_count": 77,
     "metadata": {},
     "output_type": "execute_result"
    }
   ],
   "source": [
    "# Calculate disposable wealth depending on savings propensity (lambda) and wealth (k)\n",
    "g.ndata['disp_wealth'] = g.ndata['lambda']*g.ndata['k']\n",
    "g.ndata['disp_wealth']"
   ]
  },
  {
   "cell_type": "code",
   "execution_count": 78,
   "id": "b7c0870a",
   "metadata": {},
   "outputs": [
    {
     "data": {
      "text/plain": [
       "tensor([[ 68.9184],\n",
       "        [ 36.9117],\n",
       "        [ 62.8684],\n",
       "        [100.8042],\n",
       "        [127.3301],\n",
       "        [  7.1044],\n",
       "        [ 16.7553],\n",
       "        [ 72.3448],\n",
       "        [  1.6881],\n",
       "        [109.6362],\n",
       "        [  6.8678],\n",
       "        [156.7802],\n",
       "        [ 70.5273],\n",
       "        [ 24.7904],\n",
       "        [148.8491],\n",
       "        [185.5313],\n",
       "        [227.1392],\n",
       "        [165.5399],\n",
       "        [111.6684],\n",
       "        [ 65.2935]])"
      ]
     },
     "execution_count": 78,
     "metadata": {},
     "output_type": "execute_result"
    }
   ],
   "source": [
    "#Calculate income to be transferred along an edge\n",
    "g.apply_edges(fn.e_mul_u('per_wgt','disp_wealth','trfr_wealth'))\n",
    "g.edata['trfr_wealth']"
   ]
  },
  {
   "cell_type": "code",
   "execution_count": 81,
   "id": "fb3aa4a9",
   "metadata": {},
   "outputs": [
    {
     "data": {
      "text/plain": [
       "tensor([[180.2534],\n",
       "        [ 85.6737],\n",
       "        [164.2418],\n",
       "        [140.2636],\n",
       "        [ 26.4785],\n",
       "        [266.4163],\n",
       "        [338.8076],\n",
       "        [214.1426],\n",
       "        [351.0713],\n",
       "        [  0.0000]])"
      ]
     },
     "execution_count": 81,
     "metadata": {},
     "output_type": "execute_result"
    }
   ],
   "source": [
    "# Message passing along edges to sum total income obtained from neighbours for each node/agent\n",
    "g.update_all(fn.v_add_e('zeros','trfr_wealth','delta_inc'), fn.sum('delta_inc', 'delta_inc'))\n",
    "g.ndata['delta_inc']"
   ]
  },
  {
   "cell_type": "code",
   "execution_count": 83,
   "id": "ee1cce1e",
   "metadata": {},
   "outputs": [
    {
     "data": {
      "text/plain": [
       "tensor([[ 660.7891],\n",
       "        [ 329.8923],\n",
       "        [ 407.0394],\n",
       "        [ 414.1487],\n",
       "        [ 812.1682],\n",
       "        [1132.3524],\n",
       "        [ 682.6328],\n",
       "        [ 868.2972],\n",
       "        [ 632.1979],\n",
       "        [ 122.4313]])"
      ]
     },
     "execution_count": 83,
     "metadata": {},
     "output_type": "execute_result"
    }
   ],
   "source": [
    "# Update income for next time-step\n",
    "# This and the previous step can be simplified by directly updating k in the final model\n",
    "g.ndata['k_new'] = g.ndata['k'] + g.ndata['delta_inc']\n",
    "g.ndata['k_new']"
   ]
  },
  {
   "cell_type": "code",
   "execution_count": 87,
   "id": "2abf9140",
   "metadata": {},
   "outputs": [
    {
     "data": {
      "text/plain": [
       "[<matplotlib.lines.Line2D at 0x7f09c03b1950>]"
      ]
     },
     "execution_count": 87,
     "metadata": {},
     "output_type": "execute_result"
    },
    {
     "data": {
      "image/png": "[encoded data removed]",
      "text/plain": [
       "<Figure size 640x480 with 1 Axes>"
      ]
     },
     "metadata": {},
     "output_type": "display_data"
    }
   ],
   "source": [
    "#Plotting current wealth and updated wealth for each agent for one time-step\n",
    "import matplotlib.pyplot as plt\n",
    "\n",
    "plt.plot(g.ndata['k'])\n",
    "plt.plot(g.ndata['k_new'])"
   ]
  },
  {
   "cell_type": "code",
   "execution_count": null,
   "id": "350d99e4",
   "metadata": {},
   "outputs": [],
   "source": []
  }
 ],
 "metadata": {
  "kernelspec": {
   "display_name": "ptm",
   "language": "python",
   "name": "python3"
  },
  "language_info": {
   "codemirror_mode": {
    "name": "ipython",
    "version": 3
   },
   "file_extension": ".py",
   "mimetype": "text/x-python",
   "name": "python",
   "nbconvert_exporter": "python",
   "pygments_lexer": "ipython3",
   "version": "3.11.4"
  }
 },
 "nbformat": 4,
 "nbformat_minor": 5
}

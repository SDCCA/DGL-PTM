{
 "cells": [
  {
   "cell_type": "code",
   "execution_count": 1,
   "id": "6fbe6c39-8c82-40a3-b9f6-0ffad3bcbd69",
   "metadata": {},
   "outputs": [],
   "source": [
    "import os"
   ]
  },
  {
   "cell_type": "code",
   "execution_count": 2,
   "id": "eb485a6b-4ac5-481d-9698-065078a1153d",
   "metadata": {},
   "outputs": [],
   "source": [
    "os.environ[\"DGLBACKEND\"] = \"pytorch\""
   ]
  },
  {
   "cell_type": "code",
   "execution_count": 3,
   "id": "4afb538b-7c04-47cc-b18f-1005f1c69307",
   "metadata": {},
   "outputs": [],
   "source": [
    "import torch \n",
    "import pandas as pd\n",
    "import dgl\n",
    "from dgl.data import DGLDataset\n",
    "import dgl.function as fn\n",
    "import numpy as np"
   ]
  },
  {
   "cell_type": "code",
   "execution_count": 4,
   "id": "2993410a-471e-43de-a127-9cdb4d5010d3",
   "metadata": {},
   "outputs": [
    {
     "name": "stdout",
     "output_type": "stream",
     "text": [
      "Done loading data from cached files.\n"
     ]
    }
   ],
   "source": [
    "ds = dgl.data.CSVDataset('./DGL_playground/toy_dataset/')"
   ]
  },
  {
   "cell_type": "code",
   "execution_count": 5,
   "id": "d0caa888-26ee-4d09-87ff-ca5e9bbe80d7",
   "metadata": {},
   "outputs": [],
   "source": [
    "g = ds[0]"
   ]
  },
  {
   "cell_type": "code",
   "execution_count": 6,
   "id": "cd74092f-5caa-4cd9-966c-8e81ef278bdb",
   "metadata": {},
   "outputs": [
    {
     "name": "stdout",
     "output_type": "stream",
     "text": [
      "Graph(num_nodes=10, num_edges=20,\n",
      "      ndata_schemes={' na2': Scheme(shape=(), dtype=torch.int64), ' na1': Scheme(shape=(), dtype=torch.int64)}\n",
      "      edata_schemes={'ea2': Scheme(shape=(), dtype=torch.int64), 'ea1': Scheme(shape=(), dtype=torch.int64), 'w': Scheme(shape=(), dtype=torch.int64)})\n"
     ]
    }
   ],
   "source": [
    "print(g)\n"
   ]
  },
  {
   "attachments": {},
   "cell_type": "markdown",
   "id": "d45b3df4",
   "metadata": {},
   "source": [
    "### Define Weights\n",
    "\n",
    "The weights need to be constant along any bi-directed edge. DGL does not provide a function to ensure this happens. Currently a for loop is being used to ensure identical weights along edges - a better solution needs to be found to ensure scalability of the model."
   ]
  },
  {
   "cell_type": "code",
   "execution_count": 7,
   "id": "7a85ae11-826b-464e-8a7f-4bd367ad2db4",
   "metadata": {},
   "outputs": [],
   "source": [
    "g.edata['w'] = torch.rand(g.num_edges(),1)\n",
    "# g.edata['w']"
   ]
  },
  {
   "cell_type": "code",
   "execution_count": 8,
   "id": "1a79e7ea",
   "metadata": {},
   "outputs": [
    {
     "data": {
      "text/plain": [
       "(tensor([0, 0, 0, 1, 1, 2, 2, 3, 3, 3, 4, 4, 5, 5, 6, 6, 7, 7, 8, 8]),\n",
       " tensor([1, 2, 3, 0, 2, 0, 1, 0, 4, 5, 3, 5, 3, 4, 7, 8, 6, 8, 6, 7]),\n",
       " tensor([ 0,  1,  2,  3,  4,  5,  6,  7,  8,  9, 10, 11, 12, 13, 14, 15, 16, 17,\n",
       "         18, 19]))"
      ]
     },
     "execution_count": 8,
     "metadata": {},
     "output_type": "execute_result"
    }
   ],
   "source": [
    "g.edges(\"all\")"
   ]
  },
  {
   "cell_type": "code",
   "execution_count": 9,
   "metadata": {},
   "outputs": [
    {
     "data": {
      "text/plain": [
       "tensor([[0.1481],\n",
       "        [0.2770],\n",
       "        [0.4437],\n",
       "        [0.1481],\n",
       "        [0.0310],\n",
       "        [0.2770],\n",
       "        [0.0310],\n",
       "        [0.4437],\n",
       "        [0.1952],\n",
       "        [0.5063],\n",
       "        [0.1952],\n",
       "        [0.3453],\n",
       "        [0.5063],\n",
       "        [0.3453],\n",
       "        [0.6656],\n",
       "        [0.0986],\n",
       "        [0.6656],\n",
       "        [0.1854],\n",
       "        [0.0986],\n",
       "        [0.1854]])"
      ]
     },
     "execution_count": 9,
     "metadata": {},
     "output_type": "execute_result"
    }
   ],
   "source": [
    "# Obtain source, destination and edge ids for all edges\n",
    "[src, dst, eid] = g.edges(form = 'all')\n",
    "\n",
    "# Loop through edges to identify bi-directional edges to then assign same weights\n",
    "# This loop can be optimized but ideally needs to be replaced with an parallelisable function\n",
    "for i in eid:\n",
    "    for j in eid:\n",
    "        if (src[i] == dst[j] and dst[i] == src[j]): #For edges with same nodes\n",
    "            g.edata['w'][j] = g.edata['w'][i]\n",
    "            break\n",
    "g.edata['w']"
   ]
  },
  {
   "cell_type": "code",
   "execution_count": 10,
   "id": "d5359e8e",
   "metadata": {},
   "outputs": [],
   "source": [
    "#Create wealth per node/agent in the network as a node feature/attribute\n",
    "g.ndata['k'] = torch.rand(g.num_nodes(),1)*1000"
   ]
  },
  {
   "cell_type": "code",
   "execution_count": 11,
   "id": "37bb7a8a",
   "metadata": {},
   "outputs": [],
   "source": [
    "#Create savings propensity as a node features per agent\n",
    "g.ndata['lambda'] = torch.rand(g.num_nodes(),1)"
   ]
  },
  {
   "cell_type": "code",
   "execution_count": 12,
   "id": "7534fd4f",
   "metadata": {},
   "outputs": [],
   "source": [
    "#Initialize some base node attributes (0s, and 1s)\n",
    "g.ndata['zeros'] = torch.zeros(g.num_nodes(),1)\n",
    "g.ndata['ones'] = torch.ones(g.num_nodes(),1)"
   ]
  },
  {
   "cell_type": "code",
   "execution_count": 13,
   "id": "c4375e49",
   "metadata": {},
   "outputs": [
    {
     "data": {
      "text/plain": [
       "tensor([[3.],\n",
       "        [2.],\n",
       "        [2.],\n",
       "        [3.],\n",
       "        [2.],\n",
       "        [2.],\n",
       "        [2.],\n",
       "        [2.],\n",
       "        [2.],\n",
       "        [0.]])"
      ]
     },
     "execution_count": 13,
     "metadata": {},
     "output_type": "execute_result"
    }
   ],
   "source": [
    "#Calculate number of neighbours (tot_nbr) each node has using built-in functions\n",
    "g.update_all(fn.u_add_v('zeros','ones','tot_nbr'), fn.sum('tot_nbr', 'tot_nbr'))\n",
    "g.ndata['tot_nbr']"
   ]
  },
  {
   "cell_type": "code",
   "execution_count": 14,
   "metadata": {},
   "outputs": [
    {
     "data": {
      "text/plain": [
       "tensor([[0.8688],\n",
       "        [0.1791],\n",
       "        [0.3080],\n",
       "        [1.1451],\n",
       "        [0.5405],\n",
       "        [0.8516],\n",
       "        [0.7642],\n",
       "        [0.8510],\n",
       "        [0.2839],\n",
       "        [0.0000]])"
      ]
     },
     "execution_count": 14,
     "metadata": {},
     "output_type": "execute_result"
    }
   ],
   "source": [
    "#Calculate total weight of all incoming (or outgoing, equivalent bidirectional graph) edges to each node\n",
    "g.ndata['tot_wgt'] = torch.zeros(g.num_nodes(),1)\n",
    "g.update_all(fn.u_add_e('tot_wgt','w','tot_wgt'), fn.sum('tot_wgt', 'tot_wgt'))\n",
    "g.ndata['tot_wgt']"
   ]
  },
  {
   "cell_type": "code",
   "execution_count": 15,
   "id": "ba23e1bf",
   "metadata": {},
   "outputs": [
    {
     "data": {
      "text/plain": [
       "tensor([[0.1705],\n",
       "        [0.3188],\n",
       "        [0.5107],\n",
       "        [0.8272],\n",
       "        [0.1728],\n",
       "        [0.8995],\n",
       "        [0.1005],\n",
       "        [0.3875],\n",
       "        [0.1705],\n",
       "        [0.4421],\n",
       "        [0.3611],\n",
       "        [0.6389],\n",
       "        [0.5945],\n",
       "        [0.4055],\n",
       "        [0.8710],\n",
       "        [0.1290],\n",
       "        [0.7822],\n",
       "        [0.2178],\n",
       "        [0.3471],\n",
       "        [0.6529]])"
      ]
     },
     "execution_count": 15,
     "metadata": {},
     "output_type": "execute_result"
    }
   ],
   "source": [
    "# e_div_u divides the edge feature by the feature of the source node for outgoing edges\n",
    "# However, u_add_e addes the features of edges with source node for incoming edges\n",
    "# Not sure if this discrepancy is intentional\n",
    "g.apply_edges(fn.e_div_u('w','tot_wgt','per_wgt'))\n",
    "g.edata['per_wgt']"
   ]
  },
  {
   "cell_type": "code",
   "execution_count": 16,
   "id": "9fd3f8cb",
   "metadata": {},
   "outputs": [
    {
     "data": {
      "text/plain": [
       "tensor([[646.1075],\n",
       "        [380.2073],\n",
       "        [498.8342],\n",
       "        [  2.6909],\n",
       "        [115.3596],\n",
       "        [ 16.6367],\n",
       "        [167.3600],\n",
       "        [343.3603],\n",
       "        [  9.5887],\n",
       "        [224.8705]])"
      ]
     },
     "execution_count": 16,
     "metadata": {},
     "output_type": "execute_result"
    }
   ],
   "source": [
    "# Calculate disposable wealth depending on savings propensity (lambda) and wealth (k)\n",
    "g.ndata['disp_wealth'] = g.ndata['lambda']*g.ndata['k']\n",
    "g.ndata['disp_wealth']"
   ]
  },
  {
   "cell_type": "code",
   "execution_count": 17,
   "id": "b7c0870a",
   "metadata": {},
   "outputs": [
    {
     "data": {
      "text/plain": [
       "tensor([[110.1620],\n",
       "        [205.9955],\n",
       "        [329.9500],\n",
       "        [314.4943],\n",
       "        [ 65.7130],\n",
       "        [448.6964],\n",
       "        [ 50.1378],\n",
       "        [  1.0426],\n",
       "        [  0.4587],\n",
       "        [  1.1897],\n",
       "        [ 41.6604],\n",
       "        [ 73.6992],\n",
       "        [  9.8906],\n",
       "        [  6.7460],\n",
       "        [145.7752],\n",
       "        [ 21.5849],\n",
       "        [268.5634],\n",
       "        [ 74.7969],\n",
       "        [  3.3284],\n",
       "        [  6.2604]])"
      ]
     },
     "execution_count": 17,
     "metadata": {},
     "output_type": "execute_result"
    }
   ],
   "source": [
    "#Calculate income to be transferred along an edge\n",
    "g.apply_edges(fn.e_mul_u('per_wgt','disp_wealth','trfr_wealth'))\n",
    "g.edata['trfr_wealth']"
   ]
  },
  {
   "cell_type": "code",
   "execution_count": 18,
   "id": "fb3aa4a9",
   "metadata": {},
   "outputs": [
    {
     "data": {
      "text/plain": [
       "tensor([[764.2333],\n",
       "        [160.2999],\n",
       "        [271.7084],\n",
       "        [381.5011],\n",
       "        [  7.2047],\n",
       "        [ 74.8889],\n",
       "        [271.8917],\n",
       "        [152.0356],\n",
       "        [ 96.3818],\n",
       "        [  0.0000]])"
      ]
     },
     "execution_count": 18,
     "metadata": {},
     "output_type": "execute_result"
    }
   ],
   "source": [
    "# Message passing along edges to sum total income obtained from neighbours for each node/agent\n",
    "g.update_all(fn.v_add_e('zeros','trfr_wealth','delta_inc'), fn.sum('delta_inc', 'delta_inc'))\n",
    "g.ndata['delta_inc']"
   ]
  },
  {
   "cell_type": "code",
   "execution_count": 114,
   "id": "862f251d",
   "metadata": {},
   "outputs": [
    {
     "data": {
      "text/plain": [
       "tensor([ True,  True,  True,  True,  True,  True,  True,  True,  True, False])"
      ]
     },
     "execution_count": 114,
     "metadata": {},
     "output_type": "execute_result"
    }
   ],
   "source": [
    "torch.transpose(torch.tensor([i in src for i in g.nodes()]), 0, -1)"
   ]
  },
  {
   "cell_type": "code",
   "execution_count": 105,
   "metadata": {},
   "outputs": [
    {
     "ename": "SyntaxError",
     "evalue": "unterminated string literal (detected at line 2) (4000761976.py, line 2)",
     "output_type": "error",
     "traceback": [
      "\u001b[0;36m  Cell \u001b[0;32mIn[105], line 2\u001b[0;36m\u001b[0m\n\u001b[0;31m    g.ndata['mask'] = torch.tensor([i in src for i in g.nodes()]')\u001b[0m\n\u001b[0m                                                                ^\u001b[0m\n\u001b[0;31mSyntaxError\u001b[0m\u001b[0;31m:\u001b[0m unterminated string literal (detected at line 2)\n"
     ]
    }
   ],
   "source": [
    "g.ndata['mask'] = torch.zeros(g.num_nodes(),1)\n",
    "g.ndata['mask'] = torch.tensor([i in src for i in g.nodes()]')\n",
    "g.ndata['mask']"
   ]
  },
  {
   "cell_type": "code",
   "execution_count": 100,
   "id": "ee1cce1e",
   "metadata": {},
   "outputs": [
    {
     "ename": "SyntaxError",
     "evalue": "invalid syntax (2644979845.py, line 3)",
     "output_type": "error",
     "traceback": [
      "\u001b[0;36m  Cell \u001b[0;32mIn[100], line 3\u001b[0;36m\u001b[0m\n\u001b[0;31m    g.ndata['k_new'] = g.ndata['k'] - g.ndata['disp_wealth'].*g.ndata['mask'] + g.ndata['delta_inc']\u001b[0m\n\u001b[0m                                                             ^\u001b[0m\n\u001b[0;31mSyntaxError\u001b[0m\u001b[0;31m:\u001b[0m invalid syntax\n"
     ]
    }
   ],
   "source": [
    "# Update income for next time-step\n",
    "# This and the previous step can be simplified by directly updating k in the final model\n",
    "g.ndata['k_new'] = g.ndata['k'] - g.ndata['disp_wealth']*g.ndata['mask'] + g.ndata['delta_inc']\n",
    "g.ndata['k_new']"
   ]
  },
  {
   "cell_type": "code",
   "execution_count": 22,
   "id": "2abf9140",
   "metadata": {},
   "outputs": [
    {
     "data": {
      "text/plain": [
       "[<matplotlib.lines.Line2D at 0x7f3d47924510>]"
      ]
     },
     "execution_count": 22,
     "metadata": {},
     "output_type": "execute_result"
    },
    {
     "data": {
      "image/png": "[encoded data removed]",
      "text/plain": [
       "<Figure size 640x480 with 1 Axes>"
      ]
     },
     "metadata": {},
     "output_type": "display_data"
    }
   ],
   "source": [
    "#Plotting current wealth and updated wealth for each agent for one time-step\n",
    "import matplotlib.pyplot as plt\n",
    "\n",
    "plt.plot(g.ndata['k'])\n",
    "plt.plot(g.ndata['k_new'])"
   ]
  },
  {
   "cell_type": "code",
   "execution_count": 23,
   "id": "350d99e4",
   "metadata": {},
   "outputs": [
    {
     "name": "stdout",
     "output_type": "stream",
     "text": [
      "tensor([4181.8662])\n"
     ]
    }
   ],
   "source": [
    "print (sum(g.ndata['k']))"
   ]
  },
  {
   "cell_type": "code",
   "execution_count": 33,
   "id": "7520e1b7",
   "metadata": {},
   "outputs": [
    {
     "name": "stdout",
     "output_type": "stream",
     "text": [
      "tensor([4213.1240])\n"
     ]
    }
   ],
   "source": [
    "print (sum(g.ndata['k_new']) + g.ndata['k'][-1])"
   ]
  },
  {
   "cell_type": "code",
   "execution_count": 25,
   "id": "b69875ed",
   "metadata": {},
   "outputs": [
    {
     "name": "stdout",
     "output_type": "stream",
     "text": [
      "tensor([2405.0159])\n"
     ]
    }
   ],
   "source": [
    "print (sum(g.ndata['disp_wealth']))"
   ]
  },
  {
   "cell_type": "code",
   "execution_count": 26,
   "id": "404ab8c5",
   "metadata": {},
   "outputs": [
    {
     "name": "stdout",
     "output_type": "stream",
     "text": [
      "tensor([2180.1455])\n"
     ]
    }
   ],
   "source": [
    "print (sum(g.ndata['delta_inc']))"
   ]
  },
  {
   "cell_type": "code",
   "execution_count": 27,
   "id": "15e6230b",
   "metadata": {},
   "outputs": [
    {
     "name": "stdout",
     "output_type": "stream",
     "text": [
      "tensor([2180.1450])\n"
     ]
    }
   ],
   "source": [
    "print (sum(g.edata['trfr_wealth']))"
   ]
  },
  {
   "cell_type": "code",
   "execution_count": 32,
   "id": "901a249f",
   "metadata": {},
   "outputs": [
    {
     "name": "stdout",
     "output_type": "stream",
     "text": [
      "tensor([0.1705]) tensor([646.1075]) tensor([110.1620])\n",
      "tensor([0.3188]) tensor([646.1075]) tensor([205.9955])\n",
      "tensor([0.5107]) tensor([646.1075]) tensor([329.9500])\n",
      "tensor([0.8272]) tensor([380.2073]) tensor([314.4943])\n",
      "tensor([0.1728]) tensor([380.2073]) tensor([65.7130])\n",
      "tensor([0.8995]) tensor([498.8342]) tensor([448.6964])\n",
      "tensor([0.1005]) tensor([498.8342]) tensor([50.1378])\n",
      "tensor([0.3875]) tensor([2.6909]) tensor([1.0426])\n",
      "tensor([0.1705]) tensor([2.6909]) tensor([0.4587])\n",
      "tensor([0.4421]) tensor([2.6909]) tensor([1.1897])\n",
      "tensor([0.3611]) tensor([115.3596]) tensor([41.6604])\n",
      "tensor([0.6389]) tensor([115.3596]) tensor([73.6992])\n",
      "tensor([0.5945]) tensor([16.6367]) tensor([9.8906])\n",
      "tensor([0.4055]) tensor([16.6367]) tensor([6.7460])\n",
      "tensor([0.8710]) tensor([167.3600]) tensor([145.7752])\n",
      "tensor([0.1290]) tensor([167.3600]) tensor([21.5849])\n",
      "tensor([0.7822]) tensor([343.3603]) tensor([268.5634])\n",
      "tensor([0.2178]) tensor([343.3603]) tensor([74.7969])\n",
      "tensor([0.3471]) tensor([9.5887]) tensor([3.3284])\n",
      "tensor([0.6529]) tensor([9.5887]) tensor([6.2604])\n"
     ]
    }
   ],
   "source": [
    "for i in eid:\n",
    "    print (g.edata['per_wgt'][i], g.ndata['disp_wealth'][src[i]], g.edata['trfr_wealth'][i])"
   ]
  },
  {
   "cell_type": "code",
   "execution_count": 34,
   "id": "6fc9fc82",
   "metadata": {},
   "outputs": [
    {
     "data": {
      "text/plain": [
       "tensor([[689.2941],\n",
       "        [415.3662],\n",
       "        [677.7705],\n",
       "        [175.1773],\n",
       "        [639.7654],\n",
       "        [134.7452],\n",
       "        [259.0610],\n",
       "        [863.2845],\n",
       "        [ 71.2737],\n",
       "        [256.1285]])"
      ]
     },
     "execution_count": 34,
     "metadata": {},
     "output_type": "execute_result"
    }
   ],
   "source": [
    "g.ndata['k']"
   ]
  },
  {
   "cell_type": "code",
   "execution_count": 35,
   "id": "0060e1f6",
   "metadata": {},
   "outputs": [
    {
     "data": {
      "text/plain": [
       "tensor([[807.4199],\n",
       "        [195.4588],\n",
       "        [450.6447],\n",
       "        [553.9874],\n",
       "        [531.6105],\n",
       "        [192.9975],\n",
       "        [363.5926],\n",
       "        [671.9598],\n",
       "        [158.0667],\n",
       "        [ 31.2580]])"
      ]
     },
     "execution_count": 35,
     "metadata": {},
     "output_type": "execute_result"
    }
   ],
   "source": [
    "g.ndata['k_new']"
   ]
  },
  {
   "cell_type": "code",
   "execution_count": 36,
   "id": "4fbaaa79",
   "metadata": {},
   "outputs": [
    {
     "data": {
      "text/plain": [
       "tensor([[646.1075],\n",
       "        [380.2073],\n",
       "        [498.8342],\n",
       "        [  2.6909],\n",
       "        [115.3596],\n",
       "        [ 16.6367],\n",
       "        [167.3600],\n",
       "        [343.3603],\n",
       "        [  9.5887],\n",
       "        [224.8705]])"
      ]
     },
     "execution_count": 36,
     "metadata": {},
     "output_type": "execute_result"
    }
   ],
   "source": [
    "g.ndata['disp_wealth']"
   ]
  },
  {
   "cell_type": "code",
   "execution_count": null,
   "id": "c87c2a62",
   "metadata": {},
   "outputs": [],
   "source": []
  }
 ],
 "metadata": {
  "kernelspec": {
   "display_name": "ptm",
   "language": "python",
   "name": "python3"
  },
  "language_info": {
   "codemirror_mode": {
    "name": "ipython",
    "version": 3
   },
   "file_extension": ".py",
   "mimetype": "text/x-python",
   "name": "python",
   "nbconvert_exporter": "python",
   "pygments_lexer": "ipython3",
   "version": "3.11.4"
  }
 },
 "nbformat": 4,
 "nbformat_minor": 5
}

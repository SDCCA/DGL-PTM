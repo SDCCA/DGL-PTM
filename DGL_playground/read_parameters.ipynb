{
 "cells": [
  {
   "cell_type": "code",
   "execution_count": 2,
   "metadata": {},
   "outputs": [],
   "source": [
    "import dgl_ptm\n",
    "import os\n",
    "import torch\n",
    "os.environ[\"DGLBACKEND\"] = \"pytorch\""
   ]
  },
  {
   "cell_type": "code",
   "execution_count": 3,
   "metadata": {},
   "outputs": [],
   "source": [
    "model = dgl_ptm.PovertyTrapModel(model_identifier='test')"
   ]
  },
  {
   "cell_type": "code",
   "execution_count": 4,
   "metadata": {},
   "outputs": [],
   "source": [
    "model.set_model_parameters(default=True)"
   ]
  },
  {
   "cell_type": "code",
   "execution_count": 9,
   "metadata": {},
   "outputs": [],
   "source": [
    "# Write parameters to config file:\n",
    "# Note that torch tensor of written to yaml file creates a binary string.\n",
    "# For creating this config file, tensors were converted to lists in initialize_model\n",
    "\n",
    "import yaml\n",
    "with open('../dgl_ptm/dgl_ptm/config.yaml', 'w') as outfile:\n",
    "    yaml.dump(model.__dict__, outfile, default_flow_style=False)"
   ]
  },
  {
   "cell_type": "code",
   "execution_count": 45,
   "metadata": {},
   "outputs": [
    {
     "ename": "SyntaxError",
     "evalue": "mapping values are not allowed here\n  in \"../dgl_ptm/dgl_ptm/config.yaml\", line 2, column 11 (<string>)",
     "output_type": "error",
     "traceback": [
      "Traceback \u001b[0;36m(most recent call last)\u001b[0m:\n",
      "\u001b[0m  Cell \u001b[1;32mIn[45], line 6\u001b[0m\n    model.__dict__ = yaml.safe_load(readfile)\u001b[0m\n",
      "\u001b[0m  File \u001b[1;32m~/miniconda3/envs/dgl_ptm/lib/python3.10/site-packages/yaml/__init__.py:125\u001b[0m in \u001b[1;35msafe_load\u001b[0m\n    return load(stream, SafeLoader)\u001b[0m\n",
      "\u001b[0m  File \u001b[1;32m~/miniconda3/envs/dgl_ptm/lib/python3.10/site-packages/yaml/__init__.py:81\u001b[0m in \u001b[1;35mload\u001b[0m\n    return loader.get_single_data()\u001b[0m\n",
      "\u001b[0m  File \u001b[1;32m~/miniconda3/envs/dgl_ptm/lib/python3.10/site-packages/yaml/constructor.py:49\u001b[0m in \u001b[1;35mget_single_data\u001b[0m\n    node = self.get_single_node()\u001b[0m\n",
      "\u001b[0m  File \u001b[1;32m~/miniconda3/envs/dgl_ptm/lib/python3.10/site-packages/yaml/composer.py:36\u001b[0m in \u001b[1;35mget_single_node\u001b[0m\n    document = self.compose_document()\u001b[0m\n",
      "\u001b[0m  File \u001b[1;32m~/miniconda3/envs/dgl_ptm/lib/python3.10/site-packages/yaml/composer.py:58\u001b[0m in \u001b[1;35mcompose_document\u001b[0m\n    self.get_event()\u001b[0m\n",
      "\u001b[0m  File \u001b[1;32m~/miniconda3/envs/dgl_ptm/lib/python3.10/site-packages/yaml/parser.py:118\u001b[0m in \u001b[1;35mget_event\u001b[0m\n    self.current_event = self.state()\u001b[0m\n",
      "\u001b[0m  File \u001b[1;32m~/miniconda3/envs/dgl_ptm/lib/python3.10/site-packages/yaml/parser.py:193\u001b[0m in \u001b[1;35mparse_document_end\u001b[0m\n    token = self.peek_token()\u001b[0m\n",
      "\u001b[0m  File \u001b[1;32m~/miniconda3/envs/dgl_ptm/lib/python3.10/site-packages/yaml/scanner.py:129\u001b[0m in \u001b[1;35mpeek_token\u001b[0m\n    self.fetch_more_tokens()\u001b[0m\n",
      "\u001b[0m  File \u001b[1;32m~/miniconda3/envs/dgl_ptm/lib/python3.10/site-packages/yaml/scanner.py:223\u001b[0m in \u001b[1;35mfetch_more_tokens\u001b[0m\n    return self.fetch_value()\u001b[0m\n",
      "\u001b[0;36m  File \u001b[0;32m~/miniconda3/envs/dgl_ptm/lib/python3.10/site-packages/yaml/scanner.py:577\u001b[0;36m in \u001b[0;35mfetch_value\u001b[0;36m\n\u001b[0;31m    raise ScannerError(None, None,\u001b[0;36m\n",
      "\u001b[0;31mScannerError\u001b[0m\u001b[0;31m:\u001b[0m mapping values are not allowed here\n  in \"../dgl_ptm/dgl_ptm/config.yaml\", line 2, column 11\n",
      "\nDuring handling of the above exception, another exception occurred:\n",
      "Traceback \u001b[0;36m(most recent call last)\u001b[0m:\n",
      "\u001b[0m  File \u001b[1;32m~/.local/lib/python3.10/site-packages/IPython/core/interactiveshell.py:3508\u001b[0m in \u001b[1;35mrun_code\u001b[0m\n    exec(code_obj, self.user_global_ns, self.user_ns)\u001b[0m\n",
      "\u001b[0;36m  Cell \u001b[0;32mIn[45], line 8\u001b[0;36m\n\u001b[0;31m    raise SyntaxError(exc)\u001b[0;36m\n",
      "\u001b[0;36m  File \u001b[0;32m<string>\u001b[0;36m\u001b[0m\n\u001b[0;31mSyntaxError\u001b[0m\u001b[0;31m:\u001b[0m mapping values are not allowed here\n  in \"../dgl_ptm/dgl_ptm/config.yaml\", line 2, column 11\n"
     ]
    }
   ],
   "source": [
    "# Read parameter config file and set model parameters:\n",
    "\n",
    "import yaml\n",
    "with open('../dgl_ptm/dgl_ptm/config.yaml', 'r') as readfile:\n",
    "    try:\n",
    "        model.__dict__ = yaml.safe_load(readfile)\n",
    "    except yaml.YAMLError as exc:\n",
    "        raise SyntaxError(exc)"
   ]
  },
  {
   "cell_type": "code",
   "execution_count": 42,
   "metadata": {},
   "outputs": [],
   "source": [
    "for modelpar in modelpars:\n",
    "    if modelpar not in ['_model_identifier','model_graph']:\n",
    "    #     model.__dict__[modelpar] = a[modelpar]\n",
    "        if type(model.__dict__[modelpar]) is list:\n",
    "            model.__dict__[modelpar] = torch.tensor(model.__dict__[modelpar])"
   ]
  },
  {
   "cell_type": "code",
   "execution_count": 43,
   "metadata": {},
   "outputs": [
    {
     "data": {
      "text/plain": [
       "{'alpha_dist': {'decimals': None,\n",
       "  'parameters': [1.08, 0.074],\n",
       "  'round': False,\n",
       "  'type': 'normal'},\n",
       " 'capital_dist': {'decimals': None,\n",
       "  'parameters': [0.1, 10.0],\n",
       "  'round': False,\n",
       "  'type': 'uniform'},\n",
       " 'cost_vals': tensor([0.0000, 0.4500]),\n",
       " 'gamma_vals': tensor([0.3000, 0.4500]),\n",
       " 'initial_graph_type': 'barabasi-albert',\n",
       " 'lam_dist': {'decimals': 1,\n",
       "  'parameters': [0.1, 0.9],\n",
       "  'round': True,\n",
       "  'type': 'uniform'},\n",
       " 'number_agents': 1000,\n",
       " 'sigma': 0.5,\n",
       " 'steering_parameters': {'del_prob': 0.05,\n",
       "  'edata': ['all'],\n",
       "  'epath': './edge_data',\n",
       "  'mode': 'xarray',\n",
       "  'ndata': ['all'],\n",
       "  'npath': './agent_data.zarr',\n",
       "  'ratio': 0.1,\n",
       "  'wealth_method': 'weighted_transfer',\n",
       "  'weight_a': 0.69,\n",
       "  'weight_b': 35},\n",
       " 'step_count': 0,\n",
       " 'step_target': 20,\n",
       " 'tec_dist': {'decimals': None,\n",
       "  'parameters': [0.5, None],\n",
       "  'round': False,\n",
       "  'type': 'bernoulli'},\n",
       " 'tec_levels': tensor([0, 1])}"
      ]
     },
     "execution_count": 43,
     "metadata": {},
     "output_type": "execute_result"
    }
   ],
   "source": [
    "model.__dict__"
   ]
  },
  {
   "cell_type": "code",
   "execution_count": null,
   "metadata": {},
   "outputs": [],
   "source": []
  }
 ],
 "metadata": {
  "kernelspec": {
   "display_name": "dgl_ptm",
   "language": "python",
   "name": "python3"
  },
  "language_info": {
   "codemirror_mode": {
    "name": "ipython",
    "version": 3
   },
   "file_extension": ".py",
   "mimetype": "text/x-python",
   "name": "python",
   "nbconvert_exporter": "python",
   "pygments_lexer": "ipython3",
   "version": "3.10.12"
  },
  "orig_nbformat": 4
 },
 "nbformat": 4,
 "nbformat_minor": 2
}

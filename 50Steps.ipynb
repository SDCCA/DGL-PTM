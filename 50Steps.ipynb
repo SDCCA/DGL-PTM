{
 "cells": [
  {
   "cell_type": "code",
   "execution_count": 1,
   "metadata": {},
   "outputs": [],
   "source": [
    "from mesa import Agent, Model\n",
    "from mesa.time import RandomActivation\n",
    "from mesa.space import MultiGrid\n",
    "from mesa.datacollection import DataCollector\n",
    "import random\n",
    "import numpy as np\n",
    "import matplotlib.pyplot as plt\n",
    "import statistics \n",
    "import pandas as pd\n",
    "from tqdm import tqdm_notebook as tqdm\n",
    "from collections import Counter\n",
    "from collections import OrderedDict \n",
    "#from tqdm.autonotebook import tqdm"
   ]
  },
  {
   "cell_type": "code",
   "execution_count": 2,
   "metadata": {},
   "outputs": [],
   "source": [
    "#agent\n",
    "\n",
    "class MoneyAgent(Agent):\n",
    "    \"\"\" An agent with fixed initial wealth.\"\"\"\n",
    "\n",
    "    def __init__(self, unique_id, model):\n",
    "        super().__init__(unique_id, model)\n",
    "        #wealth is the total wealth, P-most probable money, m is the wealth\n",
    "        #at each time step\n",
    "        self.m = self.model.T\n",
    "        \n",
    "        \n",
    "\n",
    "    def move(self):\n",
    "        possible_steps = self.model.grid.get_neighborhood(self.pos, moore=True, include_center=False)\n",
    "        new_position   = self.random.choice(possible_steps)\n",
    "        self.model.grid.move_agent(self, new_position)\n",
    "\n",
    "    def give_money(self):\n",
    "        cellmates = self.model.grid.get_cell_list_contents([self.pos])\n",
    "        lamda = self.model.lamda\n",
    "        epsilon = random.random()\n",
    "        if len(cellmates) > 1 :\n",
    "            other = self.random.choice(cellmates)\n",
    "            if(other.unique_id != self.unique_id):\n",
    "                #print(self)\n",
    "                #print(other)\n",
    "                #print(self.m, other.m, self.m + other.m)\n",
    "                xi = self.m\n",
    "                xj = other.m\n",
    "                xi_new= round(lamda*xi + epsilon*(1-lamda)*(xi+xj),3)\n",
    "                xj_new = round(lamda*xj + (1-epsilon)*(1-lamda)*(xi+xj),3)\n",
    "                other.m = xj_new\n",
    "                self.m = xi_new\n",
    "                #print(self.m, other.m, self.m + other.m)\n",
    "                #print(xi_new, xj_new, xi_new+xj_new)\n",
    "                #print(\"break\")\n",
    "\n",
    "    def step(self):\n",
    "        self.move()\n",
    "        if self.m > 0:\n",
    "            self.give_money()\n",
    "       "
   ]
  },
  {
   "cell_type": "code",
   "execution_count": 3,
   "metadata": {},
   "outputs": [],
   "source": [
    "#model\n",
    "\n",
    "#saving propensity = lamda\n",
    "class BoltzmannWealthModel(Model):\n",
    "\n",
    "    def __init__(self,T,N,lamda, width=10, height=10):\n",
    "        self.num_agents = N\n",
    "        self.T = T\n",
    "        self.grid = MultiGrid(height, width, True)\n",
    "        self.lamda = lamda\n",
    "        self.count = 0\n",
    "        self.schedule = RandomActivation(self)\n",
    "        self.datacollector = DataCollector(agent_reporters={ 'mi':'m'})\n",
    "        # Create agents\n",
    "        for i in range(self.num_agents):\n",
    "            a = MoneyAgent(i, self)\n",
    "            self.schedule.add(a)\n",
    "            # Add the agent to a random grid cell\n",
    "            x = self.random.randrange(self.grid.width)\n",
    "            y = self.random.randrange(self.grid.height)\n",
    "            self.grid.place_agent(a, (x, y))\n",
    "\n",
    "        self.running = True\n",
    "        self.datacollector.collect(self)\n",
    "\n",
    "    def step(self):\n",
    "        self.schedule.step()\n",
    "        # collect data\n",
    "        self.datacollector.collect(self)\n",
    "\n",
    "    def run_model(self, n):\n",
    "        for i in tqdm(range(n)):\n",
    "            self.count+=1\n",
    "            #print(\"step:{}\".format(i))\n",
    "            self.step()\n"
   ]
  },
  {
   "cell_type": "code",
   "execution_count": 6,
   "metadata": {},
   "outputs": [
    {
     "name": "stderr",
     "output_type": "stream",
     "text": [
      "C:\\Users\\Public\\Anaconda3\\lib\\site-packages\\ipykernel_launcher.py:32: TqdmDeprecationWarning: This function will be removed in tqdm==5.0.0\n",
      "Please use `tqdm.notebook.tqdm` instead of `tqdm.tqdm_notebook`\n"
     ]
    },
    {
     "data": {
      "application/vnd.jupyter.widget-view+json": {
       "model_id": "8331b764e650460fa5ed054e0b82ea0b",
       "version_major": 2,
       "version_minor": 0
      },
      "text/plain": [
       "HBox(children=(FloatProgress(value=0.0, max=500.0), HTML(value='')))"
      ]
     },
     "metadata": {},
     "output_type": "display_data"
    },
    {
     "name": "stdout",
     "output_type": "stream",
     "text": [
      "\n"
     ]
    }
   ],
   "source": [
    "N = 500 #number of agents\n",
    "T = 100 #average money per agent\n",
    "M = N*T #total_money\n",
    "lamda = 0.4 #saving propensity\n",
    "steps = 500\n",
    "model = BoltzmannWealthModel(T,N, lamda)\n",
    "model.run_model(steps)\n",
    "model_df = model.datacollector.get_model_vars_dataframe()\n",
    "agent_df = model.datacollector.get_agent_vars_dataframe()\n",
    "agent_df.reset_index(level=1, inplace = True)\n",
    "agent_df['Step'] = agent_df.index\n"
   ]
  },
  {
   "cell_type": "code",
   "execution_count": 27,
   "metadata": {},
   "outputs": [
    {
     "data": {
      "text/plain": [
       "Text(0.5, 0, '$\\\\frac{m}{T}$')"
      ]
     },
     "execution_count": 27,
     "metadata": {},
     "output_type": "execute_result"
    },
    {
     "data": {
      "image/png": "[encoded data removed]",
      "text/plain": [
       "<Figure size 432x288 with 1 Axes>"
      ]
     },
     "metadata": {
      "needs_background": "light"
     },
     "output_type": "display_data"
    }
   ],
   "source": [
    "P = []\n",
    "mT = []\n",
    "x = ((agent_df[agent_df['Step'] == 50].mi).reset_index(drop=True)).to_numpy()\n",
    "\n",
    "#rounding off pf all mi values (different plots)\n",
    "#for i in range(len(x)):\n",
    "    #x[i] = round(x[i],2)\n",
    "    \n",
    "#counting the occurrence of each value of x to find probability\n",
    "result = Counter(x)\n",
    "#print(result)\n",
    "#result = OrderedDict(sorted(result.items())) \n",
    "\n",
    "#finding probability\n",
    "for i in result:\n",
    "    #print(i,result[i]/500 )\n",
    "    P.append(result[i]/500) #number of occurrence of a certain m value / total number of agents\n",
    "    mT.append(i/T)\n",
    "plt.plot(mT,P)\n",
    "plt.grid()\n",
    "plt.ylabel(\"P(m)\")\n",
    "plt.xlabel(\"$\\\\frac{m}{T}$\")"
   ]
  },
  {
   "cell_type": "code",
   "execution_count": null,
   "metadata": {},
   "outputs": [],
   "source": []
  }
 ],
 "metadata": {
  "kernelspec": {
   "display_name": "Python 3",
   "language": "python",
   "name": "python3"
  },
  "language_info": {
   "codemirror_mode": {
    "name": "ipython",
    "version": 3
   },
   "file_extension": ".py",
   "mimetype": "text/x-python",
   "name": "python",
   "nbconvert_exporter": "python",
   "pygments_lexer": "ipython3",
   "version": "3.7.6"
  }
 },
 "nbformat": 4,
 "nbformat_minor": 4
}

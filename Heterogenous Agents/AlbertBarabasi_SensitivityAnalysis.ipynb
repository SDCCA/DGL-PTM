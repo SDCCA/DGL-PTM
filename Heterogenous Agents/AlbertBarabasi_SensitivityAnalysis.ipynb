{
 "cells": [
  {
   "cell_type": "code",
   "execution_count": 117,
   "metadata": {},
   "outputs": [],
   "source": [
    "from mesa import Agent, Model\n",
    "from mesa.time import RandomActivation\n",
    "from mesa.datacollection import DataCollector\n",
    "import random\n",
    "import numpy as np\n",
    "import matplotlib.pyplot as plt\n",
    "import pandas as pd\n",
    "from tqdm import tqdm_notebook as tqdm\n",
    "import seaborn as sns\n",
    "import networkx as nx\n",
    "import os, sys\n",
    "from itertools import product\n",
    "from matplotlib.animation import FuncAnimation\n",
    "import math\n",
    "import SALib\n",
    "from SALib.sample import saltelli\n",
    "from SALib.analyze import sobol\n",
    "from mesa.batchrunner import BatchRunner\n",
    "from mesa.batchrunner import FixedBatchRunner\n",
    "from IPython.display import clear_output\n",
    "from itertools import combinations\n",
    "from matplotlib.gridspec import SubplotSpec\n",
    "#plt.style.use('seaborn-pastel')\n",
    "#from tqdm.autonotebook import tqdm"
   ]
  },
  {
   "cell_type": "code",
   "execution_count": 69,
   "metadata": {},
   "outputs": [],
   "source": [
    "sns.set_style(\"darkgrid\")\n",
    "sns.set(rc={'figure.figsize':(10,6)})\n",
    "\n",
    "#global function that calculates the weight of the edge, args: the 2 nodes (agent class objects)\n",
    "def Edge_Weight(node1,node2, b, a):\n",
    "        try:\n",
    "             weight = 1+math.exp(a*((node1.m-node2.m)-b))\n",
    "        except OverflowError:\n",
    "             weight = float('inf')\n",
    "        return 1/weight                "
   ]
  },
  {
   "cell_type": "code",
   "execution_count": 3,
   "metadata": {},
   "outputs": [],
   "source": [
    "class MoneyAgent(Agent):\n",
    "    \n",
    "    def __init__(self, unique_id, model):\n",
    "        super().__init__(unique_id, model)\n",
    "        self.m = self.model.T\n",
    "        self.lamda = round(random.uniform(0.1,1),1)\n",
    "        while (self.lamda == 1):\n",
    "            self.lamda = round(random.uniform(0.1,1),1)\n",
    "        self.model.agents.append(self)\n",
    "        \n",
    "    def neighbors(self):\n",
    "        neighbors_nodes = list(nx.all_neighbors(self.model.G,self.unique_id))\n",
    "        neighbors = []\n",
    "        for node in neighbors_nodes:\n",
    "            for agent in self.model.agents:\n",
    "                if(agent.unique_id == node):\n",
    "                    neighbors.append(agent)\n",
    "        return neighbors\n",
    "            \n",
    "    def give_money(self):\n",
    "        b = self.model.b\n",
    "        a = self.model.a\n",
    "        neighbors = self.neighbors()\n",
    "        epsilon = random.random()\n",
    "        if len(neighbors) > 1 :\n",
    "            other = self.random.choice(neighbors)\n",
    "            while(other.unique_id == self.unique_id):\n",
    "                other = self.random.choice(neighbors)  \n",
    "            w = self.model.G[self.unique_id][other.unique_id]['weight'] \n",
    "            #print(w)\n",
    "            if(w >= random.random()): \n",
    "                xi = self.m\n",
    "                xj = other.m\n",
    "                delta_m = (1-self.lamda)*(xi - epsilon*(xi + xj))\n",
    "                xi_new = xi - delta_m\n",
    "                xj_new = xj + delta_m\n",
    "                other.m = xj_new\n",
    "                self.m = xi_new\n",
    "                for neighbor in neighbors:\n",
    "                    self.model.G[self.unique_id][neighbor.unique_id]['weight'] = Edge_Weight(self,neighbor,b, a)\n",
    "                other_neighbors = other.neighbors()\n",
    "                for neighbor in other_neighbors:\n",
    "                    if(neighbor.unique_id != other.unique_id):\n",
    "                        #print(\"Other: {}  Neighbor: {}\".format(other.unique_id,neighbor.unique_id))\n",
    "                        self.model.G[other.unique_id][neighbor.unique_id]['weight'] = Edge_Weight(other,neighbor,b, a)\n",
    "                \n",
    "    def Local_Attachment(self):\n",
    "        b =  self.model.b\n",
    "        a = self.model.a\n",
    "        node1 = random.choice(self.model.nodes)\n",
    "        node2 = random.choice(self.model.nodes)\n",
    "        while(self.model.G.has_edge(node1,node2)==True):\n",
    "            node2 = random.choice(self.model.nodes)\n",
    "            node1 = random.choice(self.model.nodes)\n",
    "        for agent in self.model.agents:\n",
    "            if(agent.unique_id == node1):\n",
    "                node1_a = agent\n",
    "            if(agent.unique_id == node2):\n",
    "                node2_a = agent\n",
    "        self.model.G.add_edge(node1,node2,weight = Edge_Weight(node1_a,node2_a, b, a))\n",
    "        \n",
    "    \n",
    "    def Link_Deletion(self):\n",
    "        node1 = random.choice(self.model.nodes)\n",
    "        node2 = random.choice(self.model.nodes)\n",
    "        while(self.model.G.has_edge(node1,node2)==False):\n",
    "            node1 = random.choice(self.model.nodes)\n",
    "            node2 = random.choice(self.model.nodes)\n",
    "        self.model.G.remove_edge(node1,node2)\n",
    "        \n",
    "                 \n",
    "    def step(self):\n",
    "        if self.m > 0:\n",
    "            self.give_money()\n",
    "        self.Local_Attachment()\n",
    "        self.Link_Deletion()"
   ]
  },
  {
   "cell_type": "code",
   "execution_count": 127,
   "metadata": {},
   "outputs": [],
   "source": [
    "class BoltzmannWealthModelNetwork(Model):\n",
    "    \"\"\"A model with some number of agents.\"\"\"\n",
    "\n",
    "    def __init__(self,b =35.98, a = 0.6933,T=100,N=100): #N- number of agents\n",
    "        self.N = N\n",
    "        self.T = T\n",
    "        self.b =b\n",
    "        self.a = a\n",
    "        self.agents = []\n",
    "        self.gini = 0\n",
    "        self.G = nx.barabasi_albert_graph(n=N, m = 1)\n",
    "        nx.set_edge_attributes(self.G, 1, 'weight') #setting all initial edges with a weight of 1\n",
    "        #print(nx.get_edge_attributes(self.G,'weight'))\n",
    "        #nx.draw(self.G)\n",
    "        self.nodes = np.linspace(0,N-1,N, dtype = 'int') #to keep track of the N nodes   \n",
    "        self.layout = nx.spring_layout(self.G)\n",
    "        \n",
    "        self.schedule = RandomActivation(self)\n",
    "        #self.datacollector = DataCollector(model_reporters = {\"Gini\": 'gini', 'beta': 'b', 'a': 'a'})\n",
    "                                                                   #agent_reporters={\"mi\":'m','lamda':'lamda' }\n",
    "        \n",
    "        for i, node in enumerate(self.G.nodes()):\n",
    "            agent = MoneyAgent(i, self)\n",
    "            self.schedule.add(agent)\n",
    "           \n",
    "        self.running = True\n",
    "        #self.datacollector.collect(self)\n",
    "        \n",
    "    def Global_Attachment(self):\n",
    "        #print(\"Global Attachment no: {}\".format(self.count))\n",
    "        node1 = random.choice(self.nodes)\n",
    "        node2 = random.choice(self.nodes)\n",
    "        while(self.G.has_edge(node1,node2)==True):\n",
    "            node2 = random.choice(self.nodes)\n",
    "            node1 = random.choice(self.nodes)\n",
    "        #adding the edge node1-node2\n",
    "        for agent in self.agents:\n",
    "            if(agent.unique_id == node1):\n",
    "                node1_a = agent\n",
    "            if(agent.unique_id == node2):\n",
    "                node2_a = agent\n",
    "        self.G.add_edge(node1,node2,weight = Edge_Weight(node1_a,node2_a, self.b, self.a)) \n",
    "        \n",
    "        \n",
    "    def compute_gini(self):\n",
    "        agent_wealths = [agent.m for agent in self.schedule.agents]\n",
    "        x = sorted(agent_wealths)\n",
    "        #print(len(x))\n",
    "        B = sum(xi * (self.N - i) for i, xi in enumerate(x)) / (self.N * sum(x))\n",
    "        return 1 + (1 / self.N) - 2 * B\n",
    "\n",
    "    def step(self):\n",
    "        self.schedule.step()\n",
    "        # collect data\n",
    "        self.Global_Attachment() #for sensitivity analysis\n",
    "        self.gini = self.compute_gini()\n",
    "        #self.datacollector.collect(self)\n",
    "\n",
    "    def run_model(self, n):\n",
    "        for i in tqdm(range(n)):\n",
    "            self.step()\n",
    "            #self.Global_Attachment()\n",
    "            #self.gini = self.compute_gini()\n",
    "            \n",
    "            #here, find mean and variance and save it as model parameters"
   ]
  },
  {
   "cell_type": "code",
   "execution_count": 37,
   "metadata": {},
   "outputs": [
    {
     "name": "stderr",
     "output_type": "stream",
     "text": [
      "C:\\Users\\Public\\Anaconda3\\lib\\site-packages\\ipykernel_launcher.py:61: TqdmDeprecationWarning: This function will be removed in tqdm==5.0.0\n",
      "Please use `tqdm.notebook.tqdm` instead of `tqdm.tqdm_notebook`\n"
     ]
    },
    {
     "data": {
      "application/vnd.jupyter.widget-view+json": {
       "model_id": "d548bd92cfe24b199e49d57aff14842a",
       "version_major": 2,
       "version_minor": 0
      },
      "text/plain": [
       "HBox(children=(FloatProgress(value=0.0, max=10.0), HTML(value='')))"
      ]
     },
     "metadata": {},
     "output_type": "display_data"
    },
    {
     "name": "stdout",
     "output_type": "stream",
     "text": [
      "\n"
     ]
    },
    {
     "ename": "AttributeError",
     "evalue": "'BoltzmannWealthModelNetwork' object has no attribute 'datacollector'",
     "output_type": "error",
     "traceback": [
      "\u001b[1;31m---------------------------------------------------------------------------\u001b[0m",
      "\u001b[1;31mAttributeError\u001b[0m                            Traceback (most recent call last)",
      "\u001b[1;32m<ipython-input-37-4a08fcbabf86>\u001b[0m in \u001b[0;36m<module>\u001b[1;34m\u001b[0m\n\u001b[0;32m      7\u001b[0m \u001b[0mmodel\u001b[0m \u001b[1;33m=\u001b[0m \u001b[0mBoltzmannWealthModelNetwork\u001b[0m\u001b[1;33m(\u001b[0m\u001b[0mb\u001b[0m\u001b[1;33m,\u001b[0m \u001b[0ma\u001b[0m\u001b[1;33m,\u001b[0m\u001b[0mT\u001b[0m\u001b[1;33m,\u001b[0m\u001b[0mN\u001b[0m\u001b[1;33m)\u001b[0m\u001b[1;33m\u001b[0m\u001b[1;33m\u001b[0m\u001b[0m\n\u001b[0;32m      8\u001b[0m \u001b[0mmodel\u001b[0m\u001b[1;33m.\u001b[0m\u001b[0mrun_model\u001b[0m\u001b[1;33m(\u001b[0m\u001b[0msteps\u001b[0m\u001b[1;33m)\u001b[0m\u001b[1;33m\u001b[0m\u001b[1;33m\u001b[0m\u001b[0m\n\u001b[1;32m----> 9\u001b[1;33m \u001b[0mmodel_df\u001b[0m \u001b[1;33m=\u001b[0m \u001b[0mmodel\u001b[0m\u001b[1;33m.\u001b[0m\u001b[0mdatacollector\u001b[0m\u001b[1;33m.\u001b[0m\u001b[0mget_model_vars_dataframe\u001b[0m\u001b[1;33m(\u001b[0m\u001b[1;33m)\u001b[0m\u001b[1;33m\u001b[0m\u001b[1;33m\u001b[0m\u001b[0m\n\u001b[0m\u001b[0;32m     10\u001b[0m \u001b[0mmodel_df\u001b[0m \u001b[1;33m=\u001b[0m \u001b[0mmodel_df\u001b[0m\u001b[1;33m.\u001b[0m\u001b[0mdrop\u001b[0m\u001b[1;33m(\u001b[0m\u001b[0mlabels\u001b[0m \u001b[1;33m=\u001b[0m \u001b[1;36m0\u001b[0m\u001b[1;33m,\u001b[0m \u001b[0maxis\u001b[0m \u001b[1;33m=\u001b[0m \u001b[1;36m0\u001b[0m\u001b[1;33m)\u001b[0m\u001b[1;33m\u001b[0m\u001b[1;33m\u001b[0m\u001b[0m\n\u001b[0;32m     11\u001b[0m \u001b[1;31m#model.model_reporters.items()\u001b[0m\u001b[1;33m\u001b[0m\u001b[1;33m\u001b[0m\u001b[1;33m\u001b[0m\u001b[0m\n",
      "\u001b[1;31mAttributeError\u001b[0m: 'BoltzmannWealthModelNetwork' object has no attribute 'datacollector'"
     ]
    }
   ],
   "source": [
    "N = 100\n",
    "T = 100\n",
    "steps = 10\n",
    "b = 35.98\n",
    "a = 0.6933\n",
    "agents = []\n",
    "model = BoltzmannWealthModelNetwork(b, a,T,N)\n",
    "model.run_model(steps)\n",
    "model_df = model.datacollector.get_model_vars_dataframe()\n",
    "model_df = model_df.drop(labels = 0, axis = 0)\n",
    "#model.model_reporters.items()\n",
    "#agent_df = model.datacollector.get_agent_vars_dataframe()\n",
    "#agent_df.reset_index(level=1, inplace = True)\n",
    "#agent_df['mt'] = agent_df.mi/T\n",
    "#del agents\n",
    "#print(model.collect_model_vars(model))"
   ]
  },
  {
   "cell_type": "markdown",
   "metadata": {},
   "source": [
    "A higher Gini index indicates greater inequality, with high-income individuals receiving much larger percentages of the total income of the population."
   ]
  },
  {
   "cell_type": "code",
   "execution_count": 28,
   "metadata": {},
   "outputs": [
    {
     "data": {
      "text/html": [
       "<div>\n",
       "<style scoped>\n",
       "    .dataframe tbody tr th:only-of-type {\n",
       "        vertical-align: middle;\n",
       "    }\n",
       "\n",
       "    .dataframe tbody tr th {\n",
       "        vertical-align: top;\n",
       "    }\n",
       "\n",
       "    .dataframe thead th {\n",
       "        text-align: right;\n",
       "    }\n",
       "</style>\n",
       "<table border=\"1\" class=\"dataframe\">\n",
       "  <thead>\n",
       "    <tr style=\"text-align: right;\">\n",
       "      <th></th>\n",
       "      <th>Gini</th>\n",
       "      <th>beta</th>\n",
       "      <th>a</th>\n",
       "    </tr>\n",
       "  </thead>\n",
       "  <tbody>\n",
       "    <tr>\n",
       "      <th>1</th>\n",
       "      <td>0.142103</td>\n",
       "      <td>35.98</td>\n",
       "      <td>0.6933</td>\n",
       "    </tr>\n",
       "    <tr>\n",
       "      <th>2</th>\n",
       "      <td>0.189647</td>\n",
       "      <td>35.98</td>\n",
       "      <td>0.6933</td>\n",
       "    </tr>\n",
       "    <tr>\n",
       "      <th>3</th>\n",
       "      <td>0.251534</td>\n",
       "      <td>35.98</td>\n",
       "      <td>0.6933</td>\n",
       "    </tr>\n",
       "    <tr>\n",
       "      <th>4</th>\n",
       "      <td>0.271861</td>\n",
       "      <td>35.98</td>\n",
       "      <td>0.6933</td>\n",
       "    </tr>\n",
       "    <tr>\n",
       "      <th>5</th>\n",
       "      <td>0.276903</td>\n",
       "      <td>35.98</td>\n",
       "      <td>0.6933</td>\n",
       "    </tr>\n",
       "    <tr>\n",
       "      <th>6</th>\n",
       "      <td>0.302638</td>\n",
       "      <td>35.98</td>\n",
       "      <td>0.6933</td>\n",
       "    </tr>\n",
       "    <tr>\n",
       "      <th>7</th>\n",
       "      <td>0.331246</td>\n",
       "      <td>35.98</td>\n",
       "      <td>0.6933</td>\n",
       "    </tr>\n",
       "    <tr>\n",
       "      <th>8</th>\n",
       "      <td>0.340265</td>\n",
       "      <td>35.98</td>\n",
       "      <td>0.6933</td>\n",
       "    </tr>\n",
       "    <tr>\n",
       "      <th>9</th>\n",
       "      <td>0.332599</td>\n",
       "      <td>35.98</td>\n",
       "      <td>0.6933</td>\n",
       "    </tr>\n",
       "    <tr>\n",
       "      <th>10</th>\n",
       "      <td>0.357965</td>\n",
       "      <td>35.98</td>\n",
       "      <td>0.6933</td>\n",
       "    </tr>\n",
       "  </tbody>\n",
       "</table>\n",
       "</div>"
      ],
      "text/plain": [
       "        Gini   beta       a\n",
       "1   0.142103  35.98  0.6933\n",
       "2   0.189647  35.98  0.6933\n",
       "3   0.251534  35.98  0.6933\n",
       "4   0.271861  35.98  0.6933\n",
       "5   0.276903  35.98  0.6933\n",
       "6   0.302638  35.98  0.6933\n",
       "7   0.331246  35.98  0.6933\n",
       "8   0.340265  35.98  0.6933\n",
       "9   0.332599  35.98  0.6933\n",
       "10  0.357965  35.98  0.6933"
      ]
     },
     "execution_count": 28,
     "metadata": {},
     "output_type": "execute_result"
    }
   ],
   "source": [
    "model_df"
   ]
  },
  {
   "cell_type": "markdown",
   "metadata": {},
   "source": [
    "# Sensitivity Analysis"
   ]
  },
  {
   "cell_type": "markdown",
   "metadata": {},
   "source": [
    "# SOBOL"
   ]
  },
  {
   "cell_type": "code",
   "execution_count": 130,
   "metadata": {},
   "outputs": [
    {
     "name": "stdout",
     "output_type": "stream",
     "text": [
      "60\n"
     ]
    }
   ],
   "source": [
    "problem = {\n",
    "    'num_vars': 2,\n",
    "    'names': ['b', 'a'],\n",
    "    'bounds': [[0, 50], [0, 1]]\n",
    "}\n",
    "\n",
    "fixed_parameters = {'N' : 500,'T' : 100}\n",
    "model_reporters = {'Gini':lambda m:BoltzmannWealthModelNetwork.compute_gini(m), 'Homophily Parameter(a)': lambda m:m.a, 'Characteristic Dist(b)': lambda m:m.b}\n",
    "#\n",
    "# Set the repetitions, the amount of steps, and the amount of distinct values per variable\n",
    "replicates = 20\n",
    "max_steps = 100\n",
    "distinct_samples = 10\n",
    "\n",
    "# generating samples\n",
    "param_values = saltelli.sample(problem, distinct_samples)\n",
    "variable_parameters={name:[] for name in problem['names']}\n",
    "print(len(param_values))\n",
    "#print(param_values)"
   ]
  },
  {
   "cell_type": "code",
   "execution_count": 131,
   "metadata": {},
   "outputs": [
    {
     "name": "stdout",
     "output_type": "stream",
     "text": [
      "100.00% done\n"
     ]
    }
   ],
   "source": [
    "batch = BatchRunner(BoltzmannWealthModelNetwork,variable_parameters = variable_parameters,\n",
    "                    fixed_parameters = fixed_parameters,max_steps=max_steps,iterations=2,model_reporters = model_reporters,\n",
    "                    display_progress = True)\n",
    "count = 0\n",
    "for i in range(replicates):\n",
    "    for vals in param_values: \n",
    "        vals = list(vals)\n",
    "        #print(vals)\n",
    "\n",
    "        # Transform to dict with parameter names and their values\n",
    "        variable_parameters = {}\n",
    "        for name, val in zip(problem['names'], vals):\n",
    "            variable_parameters[name] = val\n",
    "\n",
    "        batch.run_iteration(variable_parameters, tuple(vals), count)\n",
    "        count += 1\n",
    "\n",
    "        clear_output(wait=True)\n",
    "        print(f'{count / (len(param_values) * (replicates)) * 100:.2f}% done')\n",
    "data = batch.get_model_vars_dataframe()"
   ]
  },
  {
   "cell_type": "code",
   "execution_count": 132,
   "metadata": {},
   "outputs": [
    {
     "data": {
      "text/html": [
       "<div>\n",
       "<style scoped>\n",
       "    .dataframe tbody tr th:only-of-type {\n",
       "        vertical-align: middle;\n",
       "    }\n",
       "\n",
       "    .dataframe tbody tr th {\n",
       "        vertical-align: top;\n",
       "    }\n",
       "\n",
       "    .dataframe thead th {\n",
       "        text-align: right;\n",
       "    }\n",
       "</style>\n",
       "<table border=\"1\" class=\"dataframe\">\n",
       "  <thead>\n",
       "    <tr style=\"text-align: right;\">\n",
       "      <th></th>\n",
       "      <th>Run</th>\n",
       "      <th>Characteristic Dist(b)</th>\n",
       "      <th>Gini</th>\n",
       "      <th>Homophily Parameter(a)</th>\n",
       "      <th>N</th>\n",
       "      <th>T</th>\n",
       "    </tr>\n",
       "  </thead>\n",
       "  <tbody>\n",
       "    <tr>\n",
       "      <th>610</th>\n",
       "      <td>0.927734</td>\n",
       "      <td>0.927734</td>\n",
       "      <td>0.324213</td>\n",
       "      <td>0.596680</td>\n",
       "      <td>500</td>\n",
       "      <td>100</td>\n",
       "    </tr>\n",
       "    <tr>\n",
       "      <th>70</th>\n",
       "      <td>0.927734</td>\n",
       "      <td>0.927734</td>\n",
       "      <td>0.341681</td>\n",
       "      <td>0.596680</td>\n",
       "      <td>500</td>\n",
       "      <td>100</td>\n",
       "    </tr>\n",
       "    <tr>\n",
       "      <th>1090</th>\n",
       "      <td>0.927734</td>\n",
       "      <td>0.927734</td>\n",
       "      <td>0.283391</td>\n",
       "      <td>0.596680</td>\n",
       "      <td>500</td>\n",
       "      <td>100</td>\n",
       "    </tr>\n",
       "    <tr>\n",
       "      <th>611</th>\n",
       "      <td>0.927734</td>\n",
       "      <td>0.927734</td>\n",
       "      <td>0.308992</td>\n",
       "      <td>0.176758</td>\n",
       "      <td>500</td>\n",
       "      <td>100</td>\n",
       "    </tr>\n",
       "    <tr>\n",
       "      <th>67</th>\n",
       "      <td>0.927734</td>\n",
       "      <td>0.927734</td>\n",
       "      <td>0.282269</td>\n",
       "      <td>0.596680</td>\n",
       "      <td>500</td>\n",
       "      <td>100</td>\n",
       "    </tr>\n",
       "    <tr>\n",
       "      <th>...</th>\n",
       "      <td>...</td>\n",
       "      <td>...</td>\n",
       "      <td>...</td>\n",
       "      <td>...</td>\n",
       "      <td>...</td>\n",
       "      <td>...</td>\n",
       "    </tr>\n",
       "    <tr>\n",
       "      <th>432</th>\n",
       "      <td>48.486328</td>\n",
       "      <td>48.486328</td>\n",
       "      <td>0.336225</td>\n",
       "      <td>0.346680</td>\n",
       "      <td>500</td>\n",
       "      <td>100</td>\n",
       "    </tr>\n",
       "    <tr>\n",
       "      <th>74</th>\n",
       "      <td>48.486328</td>\n",
       "      <td>48.486328</td>\n",
       "      <td>0.334262</td>\n",
       "      <td>0.926758</td>\n",
       "      <td>500</td>\n",
       "      <td>100</td>\n",
       "    </tr>\n",
       "    <tr>\n",
       "      <th>75</th>\n",
       "      <td>48.486328</td>\n",
       "      <td>48.486328</td>\n",
       "      <td>0.329001</td>\n",
       "      <td>0.926758</td>\n",
       "      <td>500</td>\n",
       "      <td>100</td>\n",
       "    </tr>\n",
       "    <tr>\n",
       "      <th>1034</th>\n",
       "      <td>48.486328</td>\n",
       "      <td>48.486328</td>\n",
       "      <td>0.371408</td>\n",
       "      <td>0.926758</td>\n",
       "      <td>500</td>\n",
       "      <td>100</td>\n",
       "    </tr>\n",
       "    <tr>\n",
       "      <th>1092</th>\n",
       "      <td>48.486328</td>\n",
       "      <td>48.486328</td>\n",
       "      <td>0.350697</td>\n",
       "      <td>0.346680</td>\n",
       "      <td>500</td>\n",
       "      <td>100</td>\n",
       "    </tr>\n",
       "  </tbody>\n",
       "</table>\n",
       "<p>1200 rows × 6 columns</p>\n",
       "</div>"
      ],
      "text/plain": [
       "            Run  Characteristic Dist(b)      Gini  Homophily Parameter(a)  \\\n",
       "610    0.927734                0.927734  0.324213                0.596680   \n",
       "70     0.927734                0.927734  0.341681                0.596680   \n",
       "1090   0.927734                0.927734  0.283391                0.596680   \n",
       "611    0.927734                0.927734  0.308992                0.176758   \n",
       "67     0.927734                0.927734  0.282269                0.596680   \n",
       "...         ...                     ...       ...                     ...   \n",
       "432   48.486328               48.486328  0.336225                0.346680   \n",
       "74    48.486328               48.486328  0.334262                0.926758   \n",
       "75    48.486328               48.486328  0.329001                0.926758   \n",
       "1034  48.486328               48.486328  0.371408                0.926758   \n",
       "1092  48.486328               48.486328  0.350697                0.346680   \n",
       "\n",
       "        N    T  \n",
       "610   500  100  \n",
       "70    500  100  \n",
       "1090  500  100  \n",
       "611   500  100  \n",
       "67    500  100  \n",
       "...   ...  ...  \n",
       "432   500  100  \n",
       "74    500  100  \n",
       "75    500  100  \n",
       "1034  500  100  \n",
       "1092  500  100  \n",
       "\n",
       "[1200 rows x 6 columns]"
      ]
     },
     "execution_count": 132,
     "metadata": {},
     "output_type": "execute_result"
    }
   ],
   "source": [
    "data"
   ]
  },
  {
   "cell_type": "code",
   "execution_count": 133,
   "metadata": {},
   "outputs": [
    {
     "data": {
      "text/html": [
       "<div>\n",
       "<style scoped>\n",
       "    .dataframe tbody tr th:only-of-type {\n",
       "        vertical-align: middle;\n",
       "    }\n",
       "\n",
       "    .dataframe tbody tr th {\n",
       "        vertical-align: top;\n",
       "    }\n",
       "\n",
       "    .dataframe thead th {\n",
       "        text-align: right;\n",
       "    }\n",
       "</style>\n",
       "<table border=\"1\" class=\"dataframe\">\n",
       "  <thead>\n",
       "    <tr style=\"text-align: right;\">\n",
       "      <th></th>\n",
       "      <th>Characteristic Dist(b)</th>\n",
       "      <th>Gini</th>\n",
       "      <th>Homophily Parameter(a)</th>\n",
       "      <th>N</th>\n",
       "      <th>T</th>\n",
       "    </tr>\n",
       "  </thead>\n",
       "  <tbody>\n",
       "    <tr>\n",
       "      <th>0</th>\n",
       "      <td>10.986328</td>\n",
       "      <td>0.323466</td>\n",
       "      <td>0.096680</td>\n",
       "      <td>500</td>\n",
       "      <td>100</td>\n",
       "    </tr>\n",
       "    <tr>\n",
       "      <th>1</th>\n",
       "      <td>25.927734</td>\n",
       "      <td>0.323466</td>\n",
       "      <td>0.096680</td>\n",
       "      <td>500</td>\n",
       "      <td>100</td>\n",
       "    </tr>\n",
       "    <tr>\n",
       "      <th>2</th>\n",
       "      <td>10.986328</td>\n",
       "      <td>0.339370</td>\n",
       "      <td>0.676758</td>\n",
       "      <td>500</td>\n",
       "      <td>100</td>\n",
       "    </tr>\n",
       "    <tr>\n",
       "      <th>3</th>\n",
       "      <td>10.986328</td>\n",
       "      <td>0.310825</td>\n",
       "      <td>0.676758</td>\n",
       "      <td>500</td>\n",
       "      <td>100</td>\n",
       "    </tr>\n",
       "    <tr>\n",
       "      <th>4</th>\n",
       "      <td>25.927734</td>\n",
       "      <td>0.351851</td>\n",
       "      <td>0.096680</td>\n",
       "      <td>500</td>\n",
       "      <td>100</td>\n",
       "    </tr>\n",
       "    <tr>\n",
       "      <th>...</th>\n",
       "      <td>...</td>\n",
       "      <td>...</td>\n",
       "      <td>...</td>\n",
       "      <td>...</td>\n",
       "      <td>...</td>\n",
       "    </tr>\n",
       "    <tr>\n",
       "      <th>1195</th>\n",
       "      <td>27.490234</td>\n",
       "      <td>0.364802</td>\n",
       "      <td>0.690430</td>\n",
       "      <td>500</td>\n",
       "      <td>100</td>\n",
       "    </tr>\n",
       "    <tr>\n",
       "      <th>1196</th>\n",
       "      <td>28.173828</td>\n",
       "      <td>0.350645</td>\n",
       "      <td>0.958008</td>\n",
       "      <td>500</td>\n",
       "      <td>100</td>\n",
       "    </tr>\n",
       "    <tr>\n",
       "      <th>1197</th>\n",
       "      <td>28.173828</td>\n",
       "      <td>0.363770</td>\n",
       "      <td>0.958008</td>\n",
       "      <td>500</td>\n",
       "      <td>100</td>\n",
       "    </tr>\n",
       "    <tr>\n",
       "      <th>1198</th>\n",
       "      <td>27.490234</td>\n",
       "      <td>0.366901</td>\n",
       "      <td>0.690430</td>\n",
       "      <td>500</td>\n",
       "      <td>100</td>\n",
       "    </tr>\n",
       "    <tr>\n",
       "      <th>1199</th>\n",
       "      <td>27.490234</td>\n",
       "      <td>0.340066</td>\n",
       "      <td>0.958008</td>\n",
       "      <td>500</td>\n",
       "      <td>100</td>\n",
       "    </tr>\n",
       "  </tbody>\n",
       "</table>\n",
       "<p>1200 rows × 5 columns</p>\n",
       "</div>"
      ],
      "text/plain": [
       "      Characteristic Dist(b)      Gini  Homophily Parameter(a)    N    T\n",
       "0                  10.986328  0.323466                0.096680  500  100\n",
       "1                  25.927734  0.323466                0.096680  500  100\n",
       "2                  10.986328  0.339370                0.676758  500  100\n",
       "3                  10.986328  0.310825                0.676758  500  100\n",
       "4                  25.927734  0.351851                0.096680  500  100\n",
       "...                      ...       ...                     ...  ...  ...\n",
       "1195               27.490234  0.364802                0.690430  500  100\n",
       "1196               28.173828  0.350645                0.958008  500  100\n",
       "1197               28.173828  0.363770                0.958008  500  100\n",
       "1198               27.490234  0.366901                0.690430  500  100\n",
       "1199               27.490234  0.340066                0.958008  500  100\n",
       "\n",
       "[1200 rows x 5 columns]"
      ]
     },
     "execution_count": 133,
     "metadata": {},
     "output_type": "execute_result"
    }
   ],
   "source": [
    "data = data.drop(columns = 'Run')\n",
    "data = data.sort_index(axis = 0)\n",
    "data"
   ]
  },
  {
   "cell_type": "code",
   "execution_count": 134,
   "metadata": {},
   "outputs": [],
   "source": [
    "file = \"SensitivityAnalysis\\Data_AlbertBarabasi\\Run2\"\n",
    "os.makedirs(file)"
   ]
  },
  {
   "cell_type": "code",
   "execution_count": 135,
   "metadata": {},
   "outputs": [],
   "source": [
    "data.to_csv(file + \"\\data.csv\") "
   ]
  },
  {
   "cell_type": "code",
   "execution_count": 136,
   "metadata": {},
   "outputs": [
    {
     "data": {
      "text/html": [
       "<div>\n",
       "<style scoped>\n",
       "    .dataframe tbody tr th:only-of-type {\n",
       "        vertical-align: middle;\n",
       "    }\n",
       "\n",
       "    .dataframe tbody tr th {\n",
       "        vertical-align: top;\n",
       "    }\n",
       "\n",
       "    .dataframe thead th {\n",
       "        text-align: right;\n",
       "    }\n",
       "</style>\n",
       "<table border=\"1\" class=\"dataframe\">\n",
       "  <thead>\n",
       "    <tr style=\"text-align: right;\">\n",
       "      <th></th>\n",
       "      <th>Characteristic Dist(b)</th>\n",
       "      <th>Gini</th>\n",
       "      <th>Homophily Parameter(a)</th>\n",
       "      <th>N</th>\n",
       "      <th>T</th>\n",
       "    </tr>\n",
       "  </thead>\n",
       "  <tbody>\n",
       "    <tr>\n",
       "      <th>589</th>\n",
       "      <td>2.490234</td>\n",
       "      <td>0.265721</td>\n",
       "      <td>0.19043</td>\n",
       "      <td>500</td>\n",
       "      <td>100</td>\n",
       "    </tr>\n",
       "  </tbody>\n",
       "</table>\n",
       "</div>"
      ],
      "text/plain": [
       "     Characteristic Dist(b)      Gini  Homophily Parameter(a)    N    T\n",
       "589                2.490234  0.265721                 0.19043  500  100"
      ]
     },
     "execution_count": 136,
     "metadata": {},
     "output_type": "execute_result"
    }
   ],
   "source": [
    "data.loc[data['Gini'] == min(data.Gini)]"
   ]
  },
  {
   "cell_type": "code",
   "execution_count": 137,
   "metadata": {},
   "outputs": [
    {
     "data": {
      "text/plain": [
       "<matplotlib.collections.PathCollection at 0x288de261448>"
      ]
     },
     "execution_count": 137,
     "metadata": {},
     "output_type": "execute_result"
    },
    {
     "data": {
      "image/png": "[encoded data removed]",
      "text/plain": [
       "<Figure size 720x432 with 1 Axes>"
      ]
     },
     "metadata": {},
     "output_type": "display_data"
    }
   ],
   "source": [
    "plt.scatter(data.index, data.Gini)"
   ]
  },
  {
   "cell_type": "code",
   "execution_count": 138,
   "metadata": {},
   "outputs": [
    {
     "data": {
      "text/plain": [
       "(array([ 15.,  52., 110., 190., 259., 246., 192.,  92.,  31.,  13.]),\n",
       " array([0.26572089, 0.28003707, 0.29435325, 0.30866944, 0.32298562,\n",
       "        0.3373018 , 0.35161798, 0.36593417, 0.38025035, 0.39456653,\n",
       "        0.40888272]),\n",
       " <a list of 10 Patch objects>)"
      ]
     },
     "execution_count": 138,
     "metadata": {},
     "output_type": "execute_result"
    },
    {
     "data": {
      "image/png": "[encoded data removed]",
      "text/plain": [
       "<Figure size 720x432 with 1 Axes>"
      ]
     },
     "metadata": {},
     "output_type": "display_data"
    }
   ],
   "source": [
    "plt.hist(data.Gini)"
   ]
  },
  {
   "cell_type": "code",
   "execution_count": 139,
   "metadata": {},
   "outputs": [
    {
     "name": "stdout",
     "output_type": "stream",
     "text": [
      "Parameter S1 S1_conf ST ST_conf\n",
      "b 0.289034 0.207663 1.141758 0.202140\n",
      "a 0.034639 0.175984 0.771443 0.145040\n",
      "\n",
      "Parameter_1 Parameter_2 S2 S2_conf\n",
      "b a -0.138665 0.277955\n"
     ]
    }
   ],
   "source": [
    "Si_gini = sobol.analyze(problem, data['Gini'].to_numpy(), print_to_console=True)"
   ]
  },
  {
   "cell_type": "code",
   "execution_count": 140,
   "metadata": {},
   "outputs": [],
   "source": [
    "def plot_index(s, params, i,ax, title=''):\n",
    "   \n",
    "    if i == '2':\n",
    "        p = len(params)\n",
    "        params = list(combinations(params, 2))\n",
    "        indices = s['S' + i].reshape((p ** 2))\n",
    "        indices = indices[~np.isnan(indices)]\n",
    "        errors = s['S' + i + '_conf'].reshape((p ** 2))\n",
    "        errors = errors[~np.isnan(errors)]\n",
    "    else:\n",
    "        indices = s['S' + i]\n",
    "        errors = s['S' + i + '_conf']\n",
    "        #plt.figure()\n",
    "\n",
    "    l = len(indices)\n",
    "    #print(params)\n",
    "    #print(range(l))\n",
    "\n",
    "    ax.set_title(title)\n",
    "    ax.set_ylim([-0.2, len(indices) - 1 + 0.2])\n",
    "    ax.set_yticks(range(l))\n",
    "    ax.set_yticklabels(params)\n",
    "    ax.errorbar(indices, range(l), xerr=errors, linestyle='None', marker='o', color = 'red')\n",
    "    ax.axvline(0, c='navy')"
   ]
  },
  {
   "cell_type": "code",
   "execution_count": 141,
   "metadata": {
    "scrolled": false
   },
   "outputs": [
    {
     "data": {
      "image/png": "[encoded data removed]",
      "text/plain": [
       "<Figure size 1152x288 with 3 Axes>"
      ]
     },
     "metadata": {},
     "output_type": "display_data"
    }
   ],
   "source": [
    "sns.set_style(\"darkgrid\")\n",
    "fig, ax = plt.subplots(1,3,figsize = (16,4)) \n",
    "\n",
    "k = 0 \n",
    "\n",
    "# First order\n",
    "plot_index(Si_gini, problem['names'], '1',ax[k], 'First order sensitivity')\n",
    "k +=1\n",
    "\n",
    "# Second order\n",
    "plot_index(Si_gini, problem['names'], '2',ax[k], 'Second order sensitivity')\n",
    "k +=1\n",
    "\n",
    "# Total order\n",
    "plot_index(Si_gini, problem['names'], 'T',ax[k], 'Total order sensitivity')\n",
    "\n",
    "plt.tight_layout()\n",
    "plt.savefig(file +\"\\sobol_sensitivity2\")"
   ]
  },
  {
   "cell_type": "code",
   "execution_count": null,
   "metadata": {},
   "outputs": [],
   "source": []
  }
 ],
 "metadata": {
  "kernelspec": {
   "display_name": "Python 3",
   "language": "python",
   "name": "python3"
  },
  "language_info": {
   "codemirror_mode": {
    "name": "ipython",
    "version": 3
   },
   "file_extension": ".py",
   "mimetype": "text/x-python",
   "name": "python",
   "nbconvert_exporter": "python",
   "pygments_lexer": "ipython3",
   "version": "3.7.6"
  }
 },
 "nbformat": 4,
 "nbformat_minor": 4
}

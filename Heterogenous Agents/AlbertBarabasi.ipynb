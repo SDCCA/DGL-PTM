{
 "cells": [
  {
   "cell_type": "code",
   "execution_count": 1,
   "metadata": {},
   "outputs": [],
   "source": [
    "from mesa import Agent, Model\n",
    "from mesa.time import RandomActivation\n",
    "from mesa.datacollection import DataCollector\n",
    "import random\n",
    "import numpy as np\n",
    "import matplotlib.pyplot as plt\n",
    "import pandas as pd\n",
    "from tqdm import tqdm_notebook as tqdm\n",
    "import seaborn as sns\n",
    "import networkx as nx\n",
    "import os, sys\n",
    "from itertools import product\n",
    "import math"
   ]
  },
  {
   "cell_type": "code",
   "execution_count": 2,
   "metadata": {},
   "outputs": [],
   "source": [
    "sns.set_style(\"darkgrid\")\n",
    "sns.set(rc={'figure.figsize':(20,8)})"
   ]
  },
  {
   "cell_type": "code",
   "execution_count": 3,
   "metadata": {},
   "outputs": [],
   "source": [
    "#global function that calculates the weight of the edge, args: the 2 nodes (agent class objects)\n",
    "def Edge_Weight(node1,node2, b, a):\n",
    "        try:\n",
    "             weight = 1+math.exp(a*((node1.m-node2.m)-b))\n",
    "        except OverflowError:\n",
    "             weight = float('inf')\n",
    "        return 1/weight\n",
    "                "
   ]
  },
  {
   "cell_type": "code",
   "execution_count": 4,
   "metadata": {},
   "outputs": [],
   "source": [
    "#0<gamma_L<gamma_H<1\n",
    "gamma_L = 0.3\n",
    "gamma_H = 0.45\n",
    "fixed_cost = 0.45\n",
    "alpha = np.random.normal(loc = 1.08, scale = 0.074, size = 100) \n",
    "money = np.random.uniform(low = 0.1, high = 10, size = 100)\n",
    "\n",
    "#alpha.sort()\n",
    "#money.sort()"
   ]
  },
  {
   "cell_type": "code",
   "execution_count": 18,
   "metadata": {},
   "outputs": [],
   "source": [
    "class MoneyAgent(Agent):\n",
    "    \n",
    "    def __init__(self, unique_id, model):\n",
    "        super().__init__(unique_id, model)\n",
    "        self.m = money[unique_id]#initialising the wealth\n",
    "        self.lamda = round(random.uniform(0.1,1),1) #saving propensity\n",
    "        self.micro = 0\n",
    "        while (self.lamda == 1):\n",
    "            self.lamda = round(random.uniform(0.1,1),1)\n",
    "        self.alpha = alpha[unique_id]#human capital \n",
    "        self.model.agents.append(self)\n",
    "        \n",
    "    def neighbors(self):\n",
    "        neighbors_nodes = list(nx.all_neighbors(self.model.G,self.unique_id))\n",
    "        neighbors = []\n",
    "        for node in neighbors_nodes:\n",
    "            for agent in self.model.agents:\n",
    "                if(agent.unique_id == node):\n",
    "                    neighbors.append(agent)\n",
    "        return neighbors\n",
    "    \n",
    "    \n",
    "    def income_generation(self): #function that decides income based on the type of technology\n",
    "        #print(\"income\")\n",
    "        for agent in self.model.agents:\n",
    "            H = agent.alpha*math.pow(agent.m,gamma_H) - fixed_cost\n",
    "            L = agent.alpha*math.pow(agent.m,gamma_L)\n",
    "            if(H>=L): #\n",
    "                agent.m = H\n",
    "            else:\n",
    "                agent.m = L\n",
    "            self.micro = L\n",
    "            \n",
    "    def give_money(self): #function used to trade/communicate\n",
    "        #print(\"trade\")\n",
    "        b = self.model.b\n",
    "        a = self.model.a\n",
    "        neighbors = self.neighbors()\n",
    "        epsilon = random.random()\n",
    "        if len(neighbors) > 1 :\n",
    "            other = self.random.choice(neighbors)\n",
    "            while(other.unique_id == self.unique_id):\n",
    "                other = self.random.choice(neighbors)  \n",
    "            w = self.model.G[self.unique_id][other.unique_id]['weight'] \n",
    "            #print(w)\n",
    "            if(w >= random.random()): \n",
    "                xi = self.m\n",
    "                xj = other.m\n",
    "                delta_m = (1-self.lamda)*(xi - epsilon*(xi + xj))\n",
    "                xi_new = xi - delta_m\n",
    "                xj_new = xj + delta_m\n",
    "                other.m = xj_new\n",
    "                self.m = xi_new\n",
    "                for neighbor in neighbors:\n",
    "                    self.model.G[self.unique_id][neighbor.unique_id]['weight'] = Edge_Weight(self,neighbor,b, a)\n",
    "                other_neighbors = other.neighbors()\n",
    "                for neighbor in other_neighbors:\n",
    "                    if(neighbor.unique_id != other.unique_id):\n",
    "                        #print(\"Other: {}  Neighbor: {}\".format(other.unique_id,neighbor.unique_id))\n",
    "                        self.model.G[other.unique_id][neighbor.unique_id]['weight'] = Edge_Weight(other,neighbor,b, a)\n",
    "                \n",
    "    def Local_Attachment(self): #link addition happening at every time step\n",
    "        #print(\"attach\")\n",
    "        b =  self.model.b\n",
    "        a = self.model.a\n",
    "        node1 = random.choice(self.model.nodes)\n",
    "        node2 = random.choice(self.model.nodes)\n",
    "        while(self.model.G.has_edge(node1,node2)==True):\n",
    "            node2 = random.choice(self.model.nodes)\n",
    "            node1 = random.choice(self.model.nodes)\n",
    "        for agent in self.model.agents:\n",
    "            if(agent.unique_id == node1):\n",
    "                node1_a = agent\n",
    "            if(agent.unique_id == node2):\n",
    "                node2_a = agent\n",
    "        self.model.G.add_edge(node1,node2,weight = Edge_Weight(node1_a,node2_a, b, a))\n",
    "        \n",
    "    \n",
    "    def Link_Deletion(self):\n",
    "        #print(\"delete\")\n",
    "        node1 = random.choice(self.model.nodes)\n",
    "        node2 = random.choice(self.model.nodes)\n",
    "        while(self.model.G.has_edge(node1,node2)==False):\n",
    "            node1 = random.choice(self.model.nodes)\n",
    "            node2 = random.choice(self.model.nodes)\n",
    "        self.model.G.remove_edge(node1,node2)\n",
    "        \n",
    "                 \n",
    "    def step(self):\n",
    "        self.income_generation()\n",
    "        if self.m > 0:\n",
    "            self.give_money()\n",
    "        self.Local_Attachment()\n",
    "        self.Link_Deletion()"
   ]
  },
  {
   "cell_type": "code",
   "execution_count": 22,
   "metadata": {},
   "outputs": [],
   "source": [
    "class BoltzmannWealthModelNetwork(Model):\n",
    "    \"\"\"A model with some number of agents.\"\"\"\n",
    "\n",
    "    def __init__(self,b, a,N=500,): #N- number of agents\n",
    "\n",
    "        self.N = N\n",
    "        self.b =b\n",
    "        self.a = a\n",
    "        self.agents = []\n",
    "        self.mean = 0\n",
    "        self.G = nx.barabasi_albert_graph(n=N, m = 1)\n",
    "        nx.set_edge_attributes(self.G, 1, 'weight') #setting all initial edges with a weight of 1\n",
    "        #print(nx.get_edge_attributes(self.G,'weight'))\n",
    "        #nx.draw(self.G)\n",
    "        self.nodes = np.linspace(0,N-1,N, dtype = 'int') #to keep track of the N nodes   \n",
    "        \n",
    "        self.schedule = RandomActivation(self)\n",
    "        self.datacollector = DataCollector(model_reporters = {'mean' : 'mean','beta': 'b', 'a': 'a'},agent_reporters={\"mi\":'m','lamda':'lamda','alpha':'alpha','threshold':'micro' })       \n",
    "        for i, node in enumerate(self.G.nodes()):\n",
    "            agent_i = MoneyAgent(i, self)\n",
    "            self.schedule.add(agent_i)\n",
    "           \n",
    "        self.running = True\n",
    "        self.datacollector.collect(self)\n",
    "        \n",
    "    def Global_Attachment(self):\n",
    "        #print(\"Global Attachment no: {}\".format(self.count))\n",
    "        node1 = random.choice(self.nodes)\n",
    "        node2 = random.choice(self.nodes)\n",
    "        while(self.G.has_edge(node1,node2)==True):\n",
    "            node2 = random.choice(self.nodes)\n",
    "            node1 = random.choice(self.nodes)\n",
    "        #adding the edge node1-node2\n",
    "        for agent in self.agents:\n",
    "            if(agent.unique_id == node1):\n",
    "                node1_a = agent\n",
    "            if(agent.unique_id == node2):\n",
    "                node2_a = agent\n",
    "        self.G.add_edge(node1,node2,weight = Edge_Weight(node1_a,node2_a, self.b, self.a))\n",
    "    \n",
    "    def step(self):\n",
    "        self.schedule.step()\n",
    "        # collect data\n",
    "        self.datacollector.collect(self)\n",
    "\n",
    "    def run_model(self, n):\n",
    "        for i in tqdm(range(n)):\n",
    "            self.step()\n",
    "            self.Global_Attachment()\n",
    "            agent_data = self.datacollector.get_agent_vars_dataframe()\n",
    "            self.mean = agent_data['mi'].mean()\n",
    "            #here, find mean and variance and save it as model parameters\n",
    "            "
   ]
  },
  {
   "cell_type": "code",
   "execution_count": 31,
   "metadata": {},
   "outputs": [
    {
     "name": "stderr",
     "output_type": "stream",
     "text": [
      "C:\\Users\\Public\\Anaconda3\\lib\\site-packages\\ipykernel_launcher.py:47: TqdmDeprecationWarning: This function will be removed in tqdm==5.0.0\n",
      "Please use `tqdm.notebook.tqdm` instead of `tqdm.tqdm_notebook`\n"
     ]
    },
    {
     "data": {
      "application/vnd.jupyter.widget-view+json": {
       "model_id": "57767da4bf894075a5e5850963d5f042",
       "version_major": 2,
       "version_minor": 0
      },
      "text/plain": [
       "HBox(children=(FloatProgress(value=0.0, max=500.0), HTML(value='')))"
      ]
     },
     "metadata": {},
     "output_type": "display_data"
    },
    {
     "name": "stdout",
     "output_type": "stream",
     "text": [
      "\n"
     ]
    }
   ],
   "source": [
    "N = 100\n",
    "steps = 500\n",
    "b = 35\n",
    "a = 0.69\n",
    "model = BoltzmannWealthModelNetwork(b, a,N)\n",
    "model.run_model(steps)\n",
    "model_df = model.datacollector.get_model_vars_dataframe()\n",
    "agent_df = model.datacollector.get_agent_vars_dataframe()\n",
    "agent_df.reset_index(level=1, inplace = True)\n",
    "#agent_df['mt'] = agent_df.mi/T\n",
    "#del agents"
   ]
  },
  {
   "cell_type": "code",
   "execution_count": 32,
   "metadata": {},
   "outputs": [
    {
     "data": {
      "text/html": [
       "<div>\n",
       "<style scoped>\n",
       "    .dataframe tbody tr th:only-of-type {\n",
       "        vertical-align: middle;\n",
       "    }\n",
       "\n",
       "    .dataframe tbody tr th {\n",
       "        vertical-align: top;\n",
       "    }\n",
       "\n",
       "    .dataframe thead th {\n",
       "        text-align: right;\n",
       "    }\n",
       "</style>\n",
       "<table border=\"1\" class=\"dataframe\">\n",
       "  <thead>\n",
       "    <tr style=\"text-align: right;\">\n",
       "      <th></th>\n",
       "      <th>AgentID</th>\n",
       "      <th>mi</th>\n",
       "      <th>lamda</th>\n",
       "      <th>alpha</th>\n",
       "      <th>threshold</th>\n",
       "    </tr>\n",
       "    <tr>\n",
       "      <th>Step</th>\n",
       "      <th></th>\n",
       "      <th></th>\n",
       "      <th></th>\n",
       "      <th></th>\n",
       "      <th></th>\n",
       "    </tr>\n",
       "  </thead>\n",
       "  <tbody>\n",
       "    <tr>\n",
       "      <th>0</th>\n",
       "      <td>0</td>\n",
       "      <td>8.161341</td>\n",
       "      <td>0.5</td>\n",
       "      <td>1.135394</td>\n",
       "      <td>0.000000</td>\n",
       "    </tr>\n",
       "    <tr>\n",
       "      <th>0</th>\n",
       "      <td>1</td>\n",
       "      <td>1.066256</td>\n",
       "      <td>0.5</td>\n",
       "      <td>1.176597</td>\n",
       "      <td>0.000000</td>\n",
       "    </tr>\n",
       "    <tr>\n",
       "      <th>0</th>\n",
       "      <td>2</td>\n",
       "      <td>1.066256</td>\n",
       "      <td>0.4</td>\n",
       "      <td>1.098079</td>\n",
       "      <td>0.000000</td>\n",
       "    </tr>\n",
       "    <tr>\n",
       "      <th>0</th>\n",
       "      <td>3</td>\n",
       "      <td>1.066256</td>\n",
       "      <td>0.6</td>\n",
       "      <td>1.063050</td>\n",
       "      <td>0.000000</td>\n",
       "    </tr>\n",
       "    <tr>\n",
       "      <th>0</th>\n",
       "      <td>4</td>\n",
       "      <td>1.066256</td>\n",
       "      <td>0.3</td>\n",
       "      <td>1.162382</td>\n",
       "      <td>0.000000</td>\n",
       "    </tr>\n",
       "    <tr>\n",
       "      <th>...</th>\n",
       "      <td>...</td>\n",
       "      <td>...</td>\n",
       "      <td>...</td>\n",
       "      <td>...</td>\n",
       "      <td>...</td>\n",
       "    </tr>\n",
       "    <tr>\n",
       "      <th>500</th>\n",
       "      <td>95</td>\n",
       "      <td>1.132229</td>\n",
       "      <td>0.2</td>\n",
       "      <td>1.090822</td>\n",
       "      <td>1.280653</td>\n",
       "    </tr>\n",
       "    <tr>\n",
       "      <th>500</th>\n",
       "      <td>96</td>\n",
       "      <td>1.086177</td>\n",
       "      <td>0.7</td>\n",
       "      <td>1.059572</td>\n",
       "      <td>1.280431</td>\n",
       "    </tr>\n",
       "    <tr>\n",
       "      <th>500</th>\n",
       "      <td>97</td>\n",
       "      <td>1.054210</td>\n",
       "      <td>0.2</td>\n",
       "      <td>1.063112</td>\n",
       "      <td>1.281913</td>\n",
       "    </tr>\n",
       "    <tr>\n",
       "      <th>500</th>\n",
       "      <td>98</td>\n",
       "      <td>1.103517</td>\n",
       "      <td>0.4</td>\n",
       "      <td>1.071384</td>\n",
       "      <td>1.280431</td>\n",
       "    </tr>\n",
       "    <tr>\n",
       "      <th>500</th>\n",
       "      <td>99</td>\n",
       "      <td>1.280565</td>\n",
       "      <td>0.9</td>\n",
       "      <td>1.188911</td>\n",
       "      <td>1.280431</td>\n",
       "    </tr>\n",
       "  </tbody>\n",
       "</table>\n",
       "<p>50100 rows × 5 columns</p>\n",
       "</div>"
      ],
      "text/plain": [
       "      AgentID        mi  lamda     alpha  threshold\n",
       "Step                                               \n",
       "0           0  8.161341    0.5  1.135394   0.000000\n",
       "0           1  1.066256    0.5  1.176597   0.000000\n",
       "0           2  1.066256    0.4  1.098079   0.000000\n",
       "0           3  1.066256    0.6  1.063050   0.000000\n",
       "0           4  1.066256    0.3  1.162382   0.000000\n",
       "...       ...       ...    ...       ...        ...\n",
       "500        95  1.132229    0.2  1.090822   1.280653\n",
       "500        96  1.086177    0.7  1.059572   1.280431\n",
       "500        97  1.054210    0.2  1.063112   1.281913\n",
       "500        98  1.103517    0.4  1.071384   1.280431\n",
       "500        99  1.280565    0.9  1.188911   1.280431\n",
       "\n",
       "[50100 rows x 5 columns]"
      ]
     },
     "execution_count": 32,
     "metadata": {},
     "output_type": "execute_result"
    }
   ],
   "source": [
    "agent_df"
   ]
  },
  {
   "cell_type": "code",
   "execution_count": 33,
   "metadata": {},
   "outputs": [],
   "source": [
    "file = \"AlbertBarabasi\\HumanCapital_Data\\Steps{}b_is_{}_FixedCost_0.45_a_{}_New\".format(steps,b,a)\n",
    "os.makedirs(file)"
   ]
  },
  {
   "cell_type": "code",
   "execution_count": 34,
   "metadata": {},
   "outputs": [],
   "source": [
    "#saving files\n",
    "model_df.loc[1:].to_csv(file + \"\\Model.csv\")               \n",
    "#agent_df['mt'] = agent_df.mi/T\n",
    "agent_df.to_csv(file +\"\\Agent.csv\")"
   ]
  },
  {
   "cell_type": "code",
   "execution_count": 35,
   "metadata": {},
   "outputs": [
    {
     "data": {
      "text/html": [
       "<div>\n",
       "<style scoped>\n",
       "    .dataframe tbody tr th:only-of-type {\n",
       "        vertical-align: middle;\n",
       "    }\n",
       "\n",
       "    .dataframe tbody tr th {\n",
       "        vertical-align: top;\n",
       "    }\n",
       "\n",
       "    .dataframe thead th {\n",
       "        text-align: right;\n",
       "    }\n",
       "</style>\n",
       "<table border=\"1\" class=\"dataframe\">\n",
       "  <thead>\n",
       "    <tr style=\"text-align: right;\">\n",
       "      <th></th>\n",
       "      <th>Step</th>\n",
       "      <th>AgentID</th>\n",
       "      <th>mi</th>\n",
       "      <th>lamda</th>\n",
       "      <th>alpha</th>\n",
       "      <th>threshold</th>\n",
       "    </tr>\n",
       "  </thead>\n",
       "  <tbody>\n",
       "    <tr>\n",
       "      <th>50095</th>\n",
       "      <td>500</td>\n",
       "      <td>95</td>\n",
       "      <td>1.132229</td>\n",
       "      <td>0.2</td>\n",
       "      <td>1.090822</td>\n",
       "      <td>1.280653</td>\n",
       "    </tr>\n",
       "    <tr>\n",
       "      <th>50096</th>\n",
       "      <td>500</td>\n",
       "      <td>96</td>\n",
       "      <td>1.086177</td>\n",
       "      <td>0.7</td>\n",
       "      <td>1.059572</td>\n",
       "      <td>1.280431</td>\n",
       "    </tr>\n",
       "    <tr>\n",
       "      <th>50097</th>\n",
       "      <td>500</td>\n",
       "      <td>97</td>\n",
       "      <td>1.054210</td>\n",
       "      <td>0.2</td>\n",
       "      <td>1.063112</td>\n",
       "      <td>1.281913</td>\n",
       "    </tr>\n",
       "    <tr>\n",
       "      <th>50098</th>\n",
       "      <td>500</td>\n",
       "      <td>98</td>\n",
       "      <td>1.103517</td>\n",
       "      <td>0.4</td>\n",
       "      <td>1.071384</td>\n",
       "      <td>1.280431</td>\n",
       "    </tr>\n",
       "    <tr>\n",
       "      <th>50099</th>\n",
       "      <td>500</td>\n",
       "      <td>99</td>\n",
       "      <td>1.280565</td>\n",
       "      <td>0.9</td>\n",
       "      <td>1.188911</td>\n",
       "      <td>1.280431</td>\n",
       "    </tr>\n",
       "  </tbody>\n",
       "</table>\n",
       "</div>"
      ],
      "text/plain": [
       "       Step  AgentID        mi  lamda     alpha  threshold\n",
       "50095   500       95  1.132229    0.2  1.090822   1.280653\n",
       "50096   500       96  1.086177    0.7  1.059572   1.280431\n",
       "50097   500       97  1.054210    0.2  1.063112   1.281913\n",
       "50098   500       98  1.103517    0.4  1.071384   1.280431\n",
       "50099   500       99  1.280565    0.9  1.188911   1.280431"
      ]
     },
     "execution_count": 35,
     "metadata": {},
     "output_type": "execute_result"
    }
   ],
   "source": [
    "data = pd.read_csv(file + \"\\Agent.csv\")\n",
    "data.tail()"
   ]
  },
  {
   "cell_type": "code",
   "execution_count": 28,
   "metadata": {},
   "outputs": [
    {
     "data": {
      "text/plain": [
       "9.757865391615713"
      ]
     },
     "execution_count": 28,
     "metadata": {},
     "output_type": "execute_result"
    }
   ],
   "source": [
    "data['mi'].max()"
   ]
  },
  {
   "cell_type": "code",
   "execution_count": 36,
   "metadata": {},
   "outputs": [
    {
     "data": {
      "image/png": "[encoded data removed]",
      "text/plain": [
       "<Figure size 1440x432 with 2 Axes>"
      ]
     },
     "metadata": {},
     "output_type": "display_data"
    }
   ],
   "source": [
    "agent = random.randint(0,99)\n",
    "time = (data.loc[data['AgentID']==agent, 'Step'].reset_index(drop = True)).to_numpy()\n",
    "money = (data.loc[data['AgentID']==agent, 'mi'].reset_index(drop = True)).to_numpy()\n",
    "lamda = data.loc[data['AgentID'] == agent, 'lamda'].reset_index(drop = True)[0]\n",
    "sns.set_style(\"darkgrid\")\n",
    "sns.set(rc={'figure.figsize':(20,6)})\n",
    "fig, (ax1, ax2) = plt.subplots(nrows = 1,ncols = 2)\n",
    "ax1.plot(time,money)\n",
    "ax1.set_title(\"Variation of money at each time step for agent {} with $\\lambda$ = {}\".format(agent,lamda))\n",
    "ax1.set_xlabel(\"Time (steps)\")\n",
    "ax1.set_ylabel(\"Amount of Money\")\n",
    "sns.kdeplot(money, fill =True, color = 'orange', ax = ax2)\n",
    "ax2.set_title(\"Wealth Distribution of Agent:{} with lamda = {}\".format(agent, lamda))\n",
    "plt.savefig(file + \"\\WealthDist_agent{}\".format(agent))"
   ]
  },
  {
   "cell_type": "code",
   "execution_count": 37,
   "metadata": {},
   "outputs": [
    {
     "data": {
      "image/png": "[encoded data removed]",
      "text/plain": [
       "<Figure size 864x432 with 1 Axes>"
      ]
     },
     "metadata": {},
     "output_type": "display_data"
    }
   ],
   "source": [
    "sns.set(rc={'figure.figsize':(12,6)})\n",
    "sns.kdeplot(data.mi, fill = True, color = 'green')\n",
    "plt.xlabel(\"$\\\\frac{m_i}{T}$\")\n",
    "plt.ylabel(\"Probability Density\")\n",
    "plt.title(\"$\\\\frac{m_i}{T}$ vs Most Probable Money (P)\") \n",
    "plt.savefig(file + \"\\kdeplot_homophily\");"
   ]
  },
  {
   "cell_type": "code",
   "execution_count": 17,
   "metadata": {},
   "outputs": [
    {
     "data": {
      "text/plain": [
       "<matplotlib.collections.PathCollection at 0x1e6b986c8c8>"
      ]
     },
     "execution_count": 17,
     "metadata": {},
     "output_type": "execute_result"
    },
    {
     "data": {
      "image/png": "[encoded data removed]",
      "text/plain": [
       "<Figure size 864x432 with 1 Axes>"
      ]
     },
     "metadata": {},
     "output_type": "display_data"
    }
   ],
   "source": [
    "ability = data.loc[data['Step']==199, 'alpha'].reset_index(drop = True).to_numpy()\n",
    "money = data.loc[data['Step']==0, 'mi'].reset_index(drop = True).to_numpy()\n",
    "plt.scatter(ability, money)"
   ]
  },
  {
   "cell_type": "code",
   "execution_count": null,
   "metadata": {},
   "outputs": [],
   "source": []
  }
 ],
 "metadata": {
  "kernelspec": {
   "display_name": "Python 3",
   "language": "python",
   "name": "python3"
  },
  "language_info": {
   "codemirror_mode": {
    "name": "ipython",
    "version": 3
   },
   "file_extension": ".py",
   "mimetype": "text/x-python",
   "name": "python",
   "nbconvert_exporter": "python",
   "pygments_lexer": "ipython3",
   "version": "3.7.6"
  }
 },
 "nbformat": 4,
 "nbformat_minor": 4
}

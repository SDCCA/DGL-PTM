{
 "cells": [
  {
   "cell_type": "code",
   "execution_count": 1,
   "metadata": {},
   "outputs": [
    {
     "name": "stdout",
     "output_type": "stream",
     "text": [
      "Intel MKL WARNING: Support of Intel(R) Streaming SIMD Extensions 4.2 (Intel(R) SSE4.2) enabled only processors has been deprecated. Intel oneAPI Math Kernel Library 2025.0 will require Intel(R) Advanced Vector Extensions (Intel(R) AVX) instructions.\n",
      "Intel MKL WARNING: Support of Intel(R) Streaming SIMD Extensions 4.2 (Intel(R) SSE4.2) enabled only processors has been deprecated. Intel oneAPI Math Kernel Library 2025.0 will require Intel(R) Advanced Vector Extensions (Intel(R) AVX) instructions.\n"
     ]
    }
   ],
   "source": [
    "import sys\n",
    "sys.path.append('/Users/victoria/Documents/Scripts/Python/DGL-PTM/dgl_ptm')\n",
    "import dgl_ptm\n",
    "import os\n",
    "os.environ[\"DGLBACKEND\"] = \"pytorch\""
   ]
  },
  {
   "cell_type": "code",
   "execution_count": 2,
   "metadata": {},
   "outputs": [],
   "source": [
    "model = dgl_ptm.PovertyTrapModel(model_identifier='testwithnn')"
   ]
  },
  {
   "cell_type": "code",
   "execution_count": 4,
   "metadata": {},
   "outputs": [
    {
     "name": "stdout",
     "output_type": "stream",
     "text": [
      "100\n",
      "edata=['all'] epath='testwithnn/edge_data' format='xarray' mode='w' ndata=['all_except', ['a_table']] npath='testwithnn/agent_data.zarr' wealth_method='weighted_transfer' income_method='income_generation' consume_method='past_shock_bellman_consumption' nn_path='/nn_data/both_PudgeSixLayer_1024/0723_110813/model_best.pth' capital_update_method='default' characteristic_distance=35 homophily_parameter=0.69 adapt_m=tensor([0.0000, 0.5000, 0.9000]) adapt_cost=tensor([0.0000, 0.2500, 0.4500]) depreciation=0.6 discount=0.95 m_theta_dist=MThetaDist(type='beta', parameters=tensor([4.1300, 0.0700]), round=False, decimals=None) tech_gamma=tensor([0.3000, 0.3500, 0.4500]) tech_cost=tensor([0.0000, 0.1500, 0.6500]) del_method='size' del_threshold=0.05 noise_ratio=0.05 local_ratio=0.25 truncation_weight=1e-10 step_type='custom' data_collection_period=1 data_collection_list=None\n"
     ]
    }
   ],
   "source": [
    "import torch\n",
    "model.set_model_parameters(**{'number_agents': 100 , \n",
    "    'seed':1,\n",
    "    'gamma_vals':torch.tensor([0.3,0.45]) , #for pseudo income\n",
    "    'sigma_dist': {'type':'uniform','parameters':[0.05,1.94],'round':True,'decimals':1},\n",
    "    'cost_vals': torch.tensor([0.,0.45]), #for pseudo income\n",
    "    'a_theta_dist': {'type':'uniform','parameters':[0.1,1],'round':False,'decimals':None},\n",
    "    'sensitivity_dist':{'type':'uniform','parameters':[0.0,1],'round':False,'decimals':None},\n",
    "    'capital_dist': {'type':'uniform','parameters':[0.1,10.],'round':False,'decimals':None}, \n",
    "    'alpha_dist': {'type':'normal','parameters':[1.08,0.074],'round':False,'decimals':None},\n",
    "    'lambda_dist': {'type':'uniform','parameters':[0.05,0.94],'round':True,'decimals':1},\n",
    "    'initial_graph_type': 'barabasi-albert',\n",
    "    'initial_graph_args': {'seed': 1, 'new_node_edges':1},\n",
    "    'device': 'cpu',\n",
    "    'step_target':20,\n",
    "    'steering_parameters':{'npath':'./agent_data.zarr',\n",
    "                            'epath':'./edge_data', \n",
    "                            'ndata':['all_except',['a_table']],\n",
    "                            'edata':['all'],\n",
    "                            'mode':'w',\n",
    "                            'wealth_method':'weighted_transfer',\n",
    "                            'income_method':'income_generation',\n",
    "                            'tech_gamma': torch.tensor([0.3,0.35,0.45]),\n",
    "                            'tech_cost': torch.tensor([0,0.15,0.65]),\n",
    "                            'consume_method':'past_shock_bellman_consumption',\n",
    "                            'nn_path': \"/nn_data/both_PudgeSixLayer_1024/0723_110813/model_best.pth\",\n",
    "                            'adapt_m':torch.tensor([0,0.5,0.9]),\n",
    "                            'adapt_cost':torch.tensor([0,0.25,0.45]),\n",
    "                            'depreciation': 0.6,\n",
    "                            'discount': 0.95,\n",
    "                            'm_theta_dist': {'type':'beta','parameters':[4.13,0.07],'round':False,'decimals':None},\n",
    "                            'del_method':'size',\n",
    "                            'noise_ratio': 0.05,\n",
    "                            'local_ratio': 0.25,\n",
    "                            'homophily_parameter':0.69,\n",
    "                            'characteristic_distance':35, \n",
    "                            'truncation_weight':1.0e-10,\n",
    "                            'step_type':'custom'}})\n",
    "\n",
    "print(model.config.number_agents)  \n",
    "print(model.config.steering_parameters)                        "
   ]
  },
  {
   "cell_type": "code",
   "execution_count": 5,
   "metadata": {},
   "outputs": [
    {
     "name": "stdout",
     "output_type": "stream",
     "text": [
      "using seed 1 for network creation.\n",
      "1 1\n",
      "tensor([1.0000, 1.0000, 1.0000, 0.9487, 0.9421, 0.9997, 1.0000, 0.9990, 1.0000,\n",
      "        1.0000, 0.9999, 0.9811, 1.0000, 1.0000, 0.8913, 1.0000, 0.9454, 1.0000,\n",
      "        0.9883, 1.0000])\n"
     ]
    }
   ],
   "source": [
    "model.initialize_model()\n",
    "print (model.steering_parameters['modelTheta'] )"
   ]
  },
  {
   "cell_type": "code",
   "execution_count": 6,
   "metadata": {},
   "outputs": [
    {
     "name": "stdout",
     "output_type": "stream",
     "text": [
      "performing step 0 of 20\n",
      "Agents in equation violation: 8\n",
      "Agents in personal/actual violation: 4\n",
      "...because of i_a: 0\n",
      "performing step 1 of 20\n",
      "Agents in equation violation: 3\n",
      "Agents in personal/actual violation: 3\n",
      "...because of i_a: 0\n",
      "performing step 2 of 20\n",
      "Agents in equation violation: 4\n",
      "Agents in personal/actual violation: 4\n",
      "...because of i_a: 0\n",
      "performing step 3 of 20\n",
      "Agents in equation violation: 5\n",
      "Agents in personal/actual violation: 5\n",
      "...because of i_a: 0\n",
      "performing step 4 of 20\n",
      "Agents in equation violation: 9\n",
      "Agents in personal/actual violation: 9\n",
      "...because of i_a: 0\n",
      "performing step 5 of 20\n",
      "Agents in equation violation: 14\n",
      "Agents in personal/actual violation: 14\n",
      "...because of i_a: 0\n",
      "performing step 6 of 20\n",
      "Agents in equation violation: 19\n",
      "Agents in personal/actual violation: 19\n",
      "...because of i_a: 0\n",
      "performing step 7 of 20\n",
      "Agents in equation violation: 24\n",
      "Agents in personal/actual violation: 24\n",
      "...because of i_a: 0\n",
      "performing step 8 of 20\n",
      "Agents in equation violation: 26\n",
      "Agents in personal/actual violation: 26\n",
      "...because of i_a: 0\n",
      "performing step 9 of 20\n",
      "Agents in equation violation: 30\n",
      "Agents in personal/actual violation: 30\n",
      "...because of i_a: 0\n",
      "performing step 10 of 20\n",
      "Agents in equation violation: 34\n",
      "Agents in personal/actual violation: 34\n",
      "...because of i_a: 0\n",
      "performing step 11 of 20\n",
      "Agents in equation violation: 35\n",
      "Agents in personal/actual violation: 35\n",
      "...because of i_a: 0\n",
      "performing step 12 of 20\n",
      "Agents in equation violation: 36\n",
      "Agents in personal/actual violation: 36\n",
      "...because of i_a: 0\n",
      "performing step 13 of 20\n",
      "Agents in equation violation: 35\n",
      "Agents in personal/actual violation: 35\n",
      "...because of i_a: 0\n",
      "performing step 14 of 20\n",
      "Agents in equation violation: 31\n",
      "Agents in personal/actual violation: 31\n",
      "...because of i_a: 0\n",
      "performing step 15 of 20\n",
      "Agents in equation violation: 34\n",
      "Agents in personal/actual violation: 34\n",
      "...because of i_a: 0\n",
      "performing step 16 of 20\n",
      "Agents in equation violation: 35\n",
      "Agents in personal/actual violation: 35\n",
      "...because of i_a: 0\n",
      "performing step 17 of 20\n",
      "Agents in equation violation: 34\n",
      "Agents in personal/actual violation: 34\n",
      "...because of i_a: 0\n",
      "performing step 18 of 20\n",
      "Agents in equation violation: 35\n",
      "Agents in personal/actual violation: 35\n",
      "...because of i_a: 0\n",
      "performing step 19 of 20\n",
      "Agents in equation violation: 39\n",
      "Agents in personal/actual violation: 39\n",
      "...because of i_a: 0\n"
     ]
    }
   ],
   "source": [
    "model.run()"
   ]
  },
  {
   "cell_type": "code",
   "execution_count": null,
   "metadata": {},
   "outputs": [],
   "source": []
  },
  {
   "cell_type": "code",
   "execution_count": null,
   "metadata": {},
   "outputs": [],
   "source": []
  },
  {
   "cell_type": "code",
   "execution_count": null,
   "metadata": {},
   "outputs": [],
   "source": []
  }
 ],
 "metadata": {
  "kernelspec": {
   "display_name": "Python 3.10.12 ('dgl_ptm')",
   "language": "python",
   "name": "python3"
  },
  "language_info": {
   "codemirror_mode": {
    "name": "ipython",
    "version": 3
   },
   "file_extension": ".py",
   "mimetype": "text/x-python",
   "name": "python",
   "nbconvert_exporter": "python",
   "pygments_lexer": "ipython3",
   "version": "3.10.13"
  },
  "orig_nbformat": 4,
  "vscode": {
   "interpreter": {
    "hash": "1477468427ea6fe7f3c6460347a373a01cc68daae53faf91f7d9fb578ee805b7"
   }
  }
 },
 "nbformat": 4,
 "nbformat_minor": 2
}

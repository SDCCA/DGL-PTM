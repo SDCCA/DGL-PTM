{
 "cells": [
  {
   "cell_type": "code",
   "execution_count": 1,
   "metadata": {},
   "outputs": [
    {
     "name": "stdout",
     "output_type": "stream",
     "text": [
      "Intel MKL WARNING: Support of Intel(R) Streaming SIMD Extensions 4.2 (Intel(R) SSE4.2) enabled only processors has been deprecated. Intel oneAPI Math Kernel Library 2025.0 will require Intel(R) Advanced Vector Extensions (Intel(R) AVX) instructions.\n",
      "Intel MKL WARNING: Support of Intel(R) Streaming SIMD Extensions 4.2 (Intel(R) SSE4.2) enabled only processors has been deprecated. Intel oneAPI Math Kernel Library 2025.0 will require Intel(R) Advanced Vector Extensions (Intel(R) AVX) instructions.\n"
     ]
    }
   ],
   "source": [
    "import sys\n",
    "sys.path.append('../dgl_ptm')\n",
    "import dgl_ptm\n",
    "import os\n",
    "os.environ[\"DGLBACKEND\"] = \"pytorch\""
   ]
  },
  {
   "cell_type": "code",
   "execution_count": 2,
   "metadata": {},
   "outputs": [],
   "source": [
    "model = dgl_ptm.PovertyTrapModel(model_identifier='SA_test')"
   ]
  },
  {
   "cell_type": "code",
   "execution_count": 3,
   "metadata": {},
   "outputs": [
    {
     "name": "stdout",
     "output_type": "stream",
     "text": [
      "20\n",
      "edata=None epath='data_mode_B/edge_data' format='xarray' mode='w' ndata=['all_except', ['a_table', 'gamma', 'cost', 'zeros', 'ones']] npath='data_mode_B/agent_data.zarr' capital_method='past_shock' wealth_method='weighted_transfer' income_method='income_generation' consume_method='past_shock_bellman_consumption' nn_path='/nn_data/both_PudgeSixLayer_1024/0723_110813/model_best.pth' capital_update_method='default' characteristic_distance=3.33 homophily_parameter=1 adapt_m=tensor([0.0000, 0.5000, 0.9000]) adapt_cost=tensor([0.0000, 0.2500, 0.4500]) depreciation=0.08 discount=0.95 m_theta_dist=MThetaDist(type='beta', parameters=tensor([4.1300, 0.0700]), round=False, decimals=None) tech_gamma=tensor([0.3000, 0.3500, 0.4500]) tech_cost=tensor([0.0000, 0.1500, 0.6500]) del_method='size' del_threshold='balance' noise_ratio=0.05 local_ratio=0.25 truncation_weight=1e-10 step_type='ptm' data_collection_period=1 data_collection_list=None\n"
     ]
    }
   ],
   "source": [
    "import torch\n",
    "model.set_model_parameters(**{'number_agents': 20 , \n",
    "    'seed':42,\n",
    "    'sigma_dist': {'type':'uniform','parameters':[0.05,1.94],'round':True,'decimals':1},\n",
    "    'a_theta_dist': {'type':'uniform','parameters':[0.1,1],'round':False,'decimals':None},\n",
    "    'sensitivity_dist':{'type':'uniform','parameters':[0.0,1],'round':False,'decimals':None},\n",
    "    'capital_dist': {'type':'uniform','parameters':[0.1,10.],'round':False,'decimals':None}, \n",
    "    'alpha_dist': {'type':'normal','parameters':[1.08,0.074],'round':False,'decimals':None},\n",
    "    'lambda_dist': {'type':'uniform','parameters':[0.05,0.94],'round':True,'decimals':1},\n",
    "    'initial_graph_type': 'barabasi-albert',\n",
    "    'initial_graph_args': {'seed': 1, 'new_node_edges':1},\n",
    "    'device': 'cpu',\n",
    "    'step_target':20,\n",
    "    'steering_parameters':{'npath':'./agent_data.zarr',\n",
    "                            'epath':'./edge_data', \n",
    "                            'ndata':[['degree','i_a','income','net_trade', 'tech_index','theta', 'wealth', 'wealth_consumption','weighted_degree'],['initial_only',['alpha','lambda','sigma','sensitivity']]],\n",
    "                            'edata':None,\n",
    "                            'mode':'w',\n",
    "                            'capital_method':'past_shock',\n",
    "                            'wealth_method':'weighted_transfer',\n",
    "                            'income_method':'income_generation',\n",
    "                            'tech_gamma': torch.tensor([0.3,0.35,0.45]),\n",
    "                            'tech_cost': torch.tensor([0,0.15,0.65]),\n",
    "                            'consume_method':'past_shock_bellman_consumption',\n",
    "                            'nn_path': \"/nn_data/both_PudgeSixLayer_1024/0723_110813/model_best.pth\",\n",
    "                            'adapt_m':torch.tensor([0,0.5,0.9]),\n",
    "                            'adapt_cost':torch.tensor([0,0.25,0.45]),\n",
    "                            'depreciation': 0.08,\n",
    "                            'discount': 0.95,\n",
    "                            'm_theta_dist': {'type':'beta','parameters':[4.13,0.07],'round':False,'decimals':None},\n",
    "                            'del_method':'size',\n",
    "                            'del_threshold':'balance',\n",
    "                            'noise_ratio': 0.05,\n",
    "                            'local_ratio': 0.25,\n",
    "                            'homophily_parameter':1,\n",
    "                            'characteristic_distance':3.33, \n",
    "                            'truncation_weight':1.0e-10,\n",
    "                            'step_type':'ptm'}})\n",
    "\n",
    "print(model.config.number_agents)  \n",
    "print(model.config.steering_parameters)                        "
   ]
  },
  {
   "cell_type": "code",
   "execution_count": 4,
   "metadata": {},
   "outputs": [
    {
     "name": "stdout",
     "output_type": "stream",
     "text": [
      "Model torch seed set to 42\n",
      "Using seed 1 for network creation with 1 edges requested.\n",
      "20 agents initialized on cpu device\n",
      "tensor([1.0000, 0.9869, 1.0000, 1.0000, 0.9998, 1.0000, 0.9909, 1.0000, 0.9967,\n",
      "        0.9907, 1.0000, 1.0000, 1.0000, 0.9996, 1.0000, 1.0000, 1.0000, 1.0000,\n",
      "        1.0000, 0.9674])\n",
      "tensor([ 1,  2,  3,  4, 10, 13, 17,  5, 11,  6])\n"
     ]
    }
   ],
   "source": [
    "model.initialize_model()\n",
    "print (model.steering_parameters['modelTheta'] )\n",
    "edgessrc,edgesdst=model.graph.edges(order='eid')\n",
    "print(edgesdst[0:10])\n"
   ]
  },
  {
   "cell_type": "code",
   "execution_count": 5,
   "metadata": {},
   "outputs": [
    {
     "name": "stdout",
     "output_type": "stream",
     "text": [
      "performing step 0 of 20\n",
      "Agent graph storage type: torch.int32\n",
      "ATTENTION: No edge data collection requested for this simulation!\n",
      "performing step 1 of 20\n",
      "performing step 2 of 20\n",
      "performing step 3 of 20\n",
      "performing step 4 of 20\n",
      "performing step 5 of 20\n",
      "performing step 6 of 20\n",
      "performing step 7 of 20\n",
      "performing step 8 of 20\n",
      "performing step 9 of 20\n",
      "performing step 10 of 20\n",
      "performing step 11 of 20\n",
      "performing step 12 of 20\n",
      "performing step 13 of 20\n",
      "performing step 14 of 20\n",
      "performing step 15 of 20\n",
      "performing step 16 of 20\n",
      "performing step 17 of 20\n",
      "performing step 18 of 20\n",
      "performing step 19 of 20\n"
     ]
    }
   ],
   "source": [
    "model.run()\n",
    "\n",
    "#tensor([14,  6, 35, 22,  0, 21,  9, 62, 52,  2,  7, 12, 46,  8,  7, 12, 52, 67,\n",
    "#        79, 52, 67, 21, 74, 67, 64])"
   ]
  },
  {
   "cell_type": "code",
   "execution_count": null,
   "metadata": {},
   "outputs": [],
   "source": []
  },
  {
   "cell_type": "code",
   "execution_count": 8,
   "metadata": {},
   "outputs": [
    {
     "name": "stdout",
     "output_type": "stream",
     "text": [
      "/\n",
      " ├── alpha (20, 20) float32\n",
      " ├── degree (20, 20) int64\n",
      " ├── disposable_wealth (20, 20) float32\n",
      " ├── i_a (20, 20) float32\n",
      " ├── income (20, 20) float32\n",
      " ├── lambda (20, 20) float32\n",
      " ├── m (20, 20) float32\n",
      " ├── net_trade (20, 20) float32\n",
      " ├── sensitivity (20, 20) float32\n",
      " ├── sigma (20, 20) float32\n",
      " ├── tec (20, 20) float32\n",
      " ├── tech_index (20, 20) int64\n",
      " ├── theta (20, 20) float32\n",
      " ├── total_weight (20, 20) float32\n",
      " ├── wealth (20, 20) float32\n",
      " ├── wealth_consumption (20, 20) float32\n",
      " └── weighted_degree (20, 20) float32\n",
      "/\n",
      " ├── alpha (20, 20) float32\n",
      " ├── degree (20, 20) int64\n",
      " ├── disposable_wealth (20, 20) float32\n",
      " ├── i_a (20, 20) float32\n",
      " ├── income (20, 20) float32\n",
      " ├── lambda (20, 20) float32\n",
      " ├── m (20, 20) float32\n",
      " ├── net_trade (20, 20) float32\n",
      " ├── sensitivity (20, 20) float32\n",
      " ├── sigma (20, 20) float32\n",
      " ├── tec (20, 20) float32\n",
      " ├── tech_index (20, 20) int64\n",
      " ├── theta (20, 20) float32\n",
      " ├── total_weight (20, 20) float32\n",
      " ├── wealth (20, 20) float32\n",
      " ├── wealth_consumption (20, 20) float32\n",
      " └── weighted_degree (20, 20) float32\n",
      "/\n",
      " ├── alpha (20, 1) float32\n",
      " ├── lambda (20, 1) float32\n",
      " ├── sensitivity (20, 1) float32\n",
      " └── sigma (20, 1) float32\n",
      "[[ 8.834466   9.08635    9.338289   9.593652   9.849971  10.110308\n",
      "  10.391772  10.678069  10.966155  11.2272625 11.444739  11.652809\n",
      "  11.841147  12.007421  12.149493  12.272718  12.378548  12.468998\n",
      "  12.545652  12.610272 ]\n",
      " [ 9.158539   9.821314  10.101976  10.331101  10.51959   10.656298\n",
      "  10.761174  10.803776  10.802509  11.096467  11.523632  11.989528\n",
      "  12.45638   12.935303  13.408632  13.864526  14.2867985 14.658942\n",
      "  14.982725  15.277907 ]]\n",
      "[[ 8.834466   9.08635    9.338289   9.593652   9.849971  10.110308\n",
      "  10.391772  10.678069  10.966155  11.2272625 11.444739  11.652809\n",
      "  11.841147  12.007421  12.149493  12.272718  12.378548  12.468998\n",
      "  12.545652  12.610272 ]\n",
      " [ 9.158539   9.821314  10.101976  10.331101  10.51959   10.656298\n",
      "  10.761174  10.803776  10.802509  11.096467  11.523632  11.989528\n",
      "  12.45638   12.935303  13.408632  13.864526  14.2867985 14.658942\n",
      "  14.982725  15.277907 ]]\n",
      "[[1.0238984 1.0238984 1.0238984 1.0238984 1.0238984 1.0238984 1.0238984\n",
      "  1.0238984 1.0238984 1.0238984 1.0238984 1.0238984 1.0238984 1.0238984\n",
      "  1.0238984 1.0238984 1.0238984 1.0238984 1.0238984 1.0238984]\n",
      " [1.1597955 1.1597955 1.1597955 1.1597955 1.1597955 1.1597955 1.1597955\n",
      "  1.1597955 1.1597955 1.1597955 1.1597955 1.1597955 1.1597955 1.1597955\n",
      "  1.1597955 1.1597955 1.1597955 1.1597955 1.1597955 1.1597955]]\n",
      "[[1.0238984 1.0238984 1.0238984 1.0238984 1.0238984 1.0238984 1.0238984\n",
      "  1.0238984 1.0238984 1.0238984 1.0238984 1.0238984 1.0238984 1.0238984\n",
      "  1.0238984 1.0238984 1.0238984 1.0238984 1.0238984 1.0238984]\n",
      " [1.1597955 1.1597955 1.1597955 1.1597955 1.1597955 1.1597955 1.1597955\n",
      "  1.1597955 1.1597955 1.1597955 1.1597955 1.1597955 1.1597955 1.1597955\n",
      "  1.1597955 1.1597955 1.1597955 1.1597955 1.1597955 1.1597955]]\n"
     ]
    }
   ],
   "source": [
    "import zarr\n",
    "import os\n",
    "zarr_file_one = zarr.open('/Users/victoria/Documents/Scripts/Python/DGL-PTM/Sensitivity_Analysis/data_mode_A/agent_data.zarr', mode='r')\n",
    "zarr_file_two = zarr.open('/Users/victoria/Documents/Scripts/Python/DGL-PTM/Sensitivity_Analysis/data_mode_B/agent_data.zarr', mode='r')\n",
    "zarr_file_three = zarr.open('/Users/victoria/Documents/Scripts/Python/DGL-PTM/Sensitivity_Analysis/data_mode_B/agent_data_initial.zarr', mode='r')\n",
    "print(zarr_file_one.tree())\n",
    "print(zarr_file_two.tree())\n",
    "print(zarr_file_three.tree())\n",
    "\n",
    "#attributes=os.listdir('/Users/victoria/Documents/Scripts/Python/DGL-PTM/Sensitivity_Analysis/test_SA/agent_data.zarr')\n",
    "#attributes = [item for item in attributes if item not in ['.zattrs','.zmetadata','.zgroup']]\n",
    "#attributes = {key: None for key in attributes}\n",
    "#print(attributes)\n",
    "print(zarr_file_one['wealth'][0:2])\n",
    "print(zarr_file_two['wealth'][0:2])\n",
    "\n",
    "print(zarr_file_one['alpha'][0:2])\n",
    "print(zarr_file_two['alpha'][0:2])\n",
    "#Unnecessary:'a_table','m','tec','gamma','cost','zeros','ones', 'total_weight', \"disposable_wealth\"\n",
    "#One-Time: 'alpha',\"lambda\",\"sigma\",\"sensitivity\"\n",
    "#Every-Time: 'degree','i_a','income','net_trade', 'tech_index','theta', 'wealth', 'wealth_consumption','weighted_degree'\n"
   ]
  },
  {
   "cell_type": "code",
   "execution_count": 7,
   "metadata": {},
   "outputs": [
    {
     "name": "stdout",
     "output_type": "stream",
     "text": [
      "['degree', 'i_a', 'income', 'net_trade', 'tech_index', 'theta', 'wealth', 'wealth_consumption', 'weighted_degree']\n"
     ]
    }
   ],
   "source": [
    "ndata = ['all']\n",
    "ndata = ['all_except',['a_table','m','tec','gamma','cost','zeros','ones', 'total_weight', \"disposable_wealth\"]]\n",
    "ndata = [['all_except',['a_table','m','tec','gamma','cost','zeros','ones', 'total_weight', \"disposable_wealth\"]], [\"initial_only\",['alpha',\"lambda\",\"sigma\",\"sensitivity\"]]]\n",
    "ndata = [['degree','i_a','income','net_trade', 'tech_index','theta', 'wealth', 'wealth_consumption','weighted_degree'], [\"initial_only\",['alpha',\"lambda\",\"sigma\",\"sensitivity\"]]]\n",
    "\n",
    "timestep = 10\n",
    "\n",
    "if ndata == ['all']:\n",
    "    ndata = list(attributes.keys())\n",
    "elif ndata[0] == 'all_except':\n",
    "    ndata = list(attributes.keys() - ndata[1])\n",
    "elif sum(1 for item in ndata if isinstance(item, list)) > 1:\n",
    "    ndata_list = ndata\n",
    "    initial_only=[]\n",
    "    for specification in ndata_list:\n",
    "        if specification == ['all']:\n",
    "            raise ValueError('Use of \"all\" is not compatible with multiple data collection specification lists.')\n",
    "        elif specification[0] == 'all_except':\n",
    "            ndata = list(attributes.keys() - specification[1])\n",
    "        elif specification[0] == 'initial_only':\n",
    "            if timestep == 0:\n",
    "                initial_only = specification[1]\n",
    "        else:\n",
    "            ndata = specification\n",
    "    ndata=ndata+initial_only\n",
    "\n",
    "\n",
    "print(ndata)\n"
   ]
  }
 ],
 "metadata": {
  "kernelspec": {
   "display_name": "Python 3.10.12 ('dgl_ptm')",
   "language": "python",
   "name": "python3"
  },
  "language_info": {
   "codemirror_mode": {
    "name": "ipython",
    "version": 3
   },
   "file_extension": ".py",
   "mimetype": "text/x-python",
   "name": "python",
   "nbconvert_exporter": "python",
   "pygments_lexer": "ipython3",
   "version": "3.10.13"
  },
  "orig_nbformat": 4,
  "vscode": {
   "interpreter": {
    "hash": "1477468427ea6fe7f3c6460347a373a01cc68daae53faf91f7d9fb578ee805b7"
   }
  }
 },
 "nbformat": 4,
 "nbformat_minor": 2
}

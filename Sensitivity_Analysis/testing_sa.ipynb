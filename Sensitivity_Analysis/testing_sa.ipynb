{
 "cells": [
  {
   "cell_type": "code",
   "execution_count": 1,
   "metadata": {},
   "outputs": [
    {
     "name": "stdout",
     "output_type": "stream",
     "text": [
      "Intel MKL WARNING: Support of Intel(R) Streaming SIMD Extensions 4.2 (Intel(R) SSE4.2) enabled only processors has been deprecated. Intel oneAPI Math Kernel Library 2025.0 will require Intel(R) Advanced Vector Extensions (Intel(R) AVX) instructions.\n",
      "Intel MKL WARNING: Support of Intel(R) Streaming SIMD Extensions 4.2 (Intel(R) SSE4.2) enabled only processors has been deprecated. Intel oneAPI Math Kernel Library 2025.0 will require Intel(R) Advanced Vector Extensions (Intel(R) AVX) instructions.\n"
     ]
    },
    {
     "name": "stderr",
     "output_type": "stream",
     "text": [
      "/Users/victoria/opt/anaconda3/envs/dgl_ptm/lib/python3.10/site-packages/pydantic/_internal/_fields.py:161: UserWarning: Field \"model_theta\" has conflict with protected namespace \"model_\".\n",
      "\n",
      "You may be able to resolve this warning by setting `model_config['protected_namespaces'] = ()`.\n",
      "  warnings.warn(\n",
      "/Users/victoria/opt/anaconda3/envs/dgl_ptm/lib/python3.10/site-packages/pydantic/_internal/_fields.py:161: UserWarning: Field \"model_theta_dist\" has conflict with protected namespace \"model_\".\n",
      "\n",
      "You may be able to resolve this warning by setting `model_config['protected_namespaces'] = ()`.\n",
      "  warnings.warn(\n"
     ]
    }
   ],
   "source": [
    "import sys\n",
    "sys.path.append('../dgl_ptm')\n",
    "import dgl_ptm\n",
    "import os\n",
    "os.environ[\"DGLBACKEND\"] = \"pytorch\""
   ]
  },
  {
   "cell_type": "code",
   "execution_count": 2,
   "metadata": {},
   "outputs": [],
   "source": [
    "model = dgl_ptm.PovertyTrapModel(model_identifier='SA_test')"
   ]
  },
  {
   "cell_type": "code",
   "execution_count": 3,
   "metadata": {},
   "outputs": [
    {
     "name": "stdout",
     "output_type": "stream",
     "text": [
      "{'edata': ['all'], 'epath': './edge_data', 'format': 'xarray', 'mode': 'w', 'ndata': [['degree', 'i_a', 'income', 'net_trade', 'tech_index', 'theta', 'wealth', 'wealth_consumption', 'weighted_degree'], ['initial_only', ['alpha', 'lambda', 'sigma', 'sensitivity']]], 'npath': './agent_data.zarr', 'capital_method': 'past_shock', 'wealth_method': 'weighted_transfer', 'income_method': 'income_generation', 'consume_method': 'past_shock_bellman_consumption', 'nn_path': '/nn_data/both_PudgeSixLayer_1024/0723_110813/model_best.pth', 'capital_update_method': 'default', 'characteristic_distance': 3.33, 'homophily_parameter': 1, 'adapt_m': tensor([0.0000, 0.5000, 0.9000]), 'adapt_cost': tensor([0.0000, 0.2500, 0.4500]), 'depreciation': 0.08, 'discount': 0.95, 'model_theta': None, 'model_theta_dist': MThetaDist(type='beta', parameters=tensor([4.1300, 0.0700]), round=False, decimals=None), 'tech_gamma': tensor([0.3000, 0.3500, 0.4500]), 'tech_cost': tensor([0.0000, 0.1500, 0.6500]), 'del_method': 'size', 'del_threshold': 'balance', 'noise_ratio': 0.05, 'local_ratio': 0.25, 'truncation_weight': 1e-10, 'step_type': 'ptm', 'data_collection_period': 1, 'data_collection_list': None}\n",
      "\n",
      "edata=['all'] epath='./edge_data' format='xarray' mode='w' ndata=[['degree', 'i_a', 'income', 'net_trade', 'tech_index', 'theta', 'wealth', 'wealth_consumption', 'weighted_degree'], ['initial_only', ['alpha', 'lambda', 'sigma', 'sensitivity']]] npath='./agent_data.zarr' capital_method='past_shock' wealth_method='weighted_transfer' income_method='income_generation' consume_method='past_shock_bellman_consumption' nn_path='/nn_data/both_PudgeSixLayer_1024/0723_110813/model_best.pth' capital_update_method='default' characteristic_distance=3.33 homophily_parameter=1 adapt_m=tensor([0.0000, 0.5000, 0.9000]) adapt_cost=tensor([0.0000, 0.2500, 0.4500]) depreciation=0.08 discount=0.95 model_theta=None model_theta_dist=MThetaDist(type='beta', parameters=tensor([4.1300, 0.0700]), round=False, decimals=None) tech_gamma=tensor([0.3000, 0.3500, 0.4500]) tech_cost=tensor([0.0000, 0.1500, 0.6500]) del_method='size' del_threshold='balance' noise_ratio=0.05 local_ratio=0.25 truncation_weight=1e-10 step_type='ptm' data_collection_period=1 data_collection_list=None\n",
      "20\n",
      "edata=['all'] epath='SA_test/edge_data' format='xarray' mode='w' ndata=[['degree', 'i_a', 'income', 'net_trade', 'tech_index', 'theta', 'wealth', 'wealth_consumption', 'weighted_degree'], ['initial_only', ['alpha', 'lambda', 'sigma', 'sensitivity']]] npath='SA_test/agent_data.zarr' capital_method='past_shock' wealth_method='weighted_transfer' income_method='income_generation' consume_method='past_shock_bellman_consumption' nn_path='/nn_data/both_PudgeSixLayer_1024/0723_110813/model_best.pth' capital_update_method='default' characteristic_distance=3.33 homophily_parameter=1 adapt_m=tensor([0.0000, 0.5000, 0.9000]) adapt_cost=tensor([0.0000, 0.2500, 0.4500]) depreciation=0.08 discount=0.95 model_theta=tensor([1.0000, 1.0000, 1.0000, 1.0000, 1.0000, 1.0000, 0.9983, 1.0000, 0.9993,\n",
      "        1.0000]) model_theta_dist=MThetaDist(type='beta', parameters=tensor([4.1300, 0.0700]), round=False, decimals=None) tech_gamma=tensor([0.3000, 0.3500, 0.4500]) tech_cost=tensor([0.0000, 0.1500, 0.6500]) del_method='size' del_threshold='balance' noise_ratio=0.05 local_ratio=0.25 truncation_weight=1e-10 step_type='ptm' data_collection_period=1 data_collection_list=None\n"
     ]
    }
   ],
   "source": [
    "import torch\n",
    "model.set_model_parameters(**{'number_agents': 20 , \n",
    "    'seed':42,\n",
    "    'sigma_dist': {'type':'uniform','parameters':[0.05,1.94],'round':True,'decimals':1},\n",
    "    'a_theta_dist': {'type':'uniform','parameters':[0.1,1],'round':False,'decimals':None},\n",
    "    'sensitivity_dist':{'type':'uniform','parameters':[0.0,1],'round':False,'decimals':None},\n",
    "    'capital_dist': {'type':'uniform','parameters':[0.1,10.],'round':False,'decimals':None}, \n",
    "    'alpha_dist': {'type':'normal','parameters':[1.08,0.074],'round':False,'decimals':None},\n",
    "    'lambda_dist': {'type':'uniform','parameters':[0.05,0.94],'round':True,'decimals':1},\n",
    "    'initial_graph_type': 'barabasi-albert',\n",
    "    'initial_graph_args': {'seed': 1, 'new_node_edges':1},\n",
    "    'device': 'mps',\n",
    "    'step_target':10,\n",
    "    'steering_parameters':{'npath':'./agent_data.zarr',\n",
    "                            'epath':'./edge_data', \n",
    "                            'ndata':[['degree','i_a','income','net_trade', 'tech_index','theta', 'wealth', 'wealth_consumption','weighted_degree'],['initial_only',['alpha','lambda','sigma','sensitivity']]],\n",
    "                            'edata':[\"all\"],\n",
    "                            'mode':'w',\n",
    "                            'capital_method':'past_shock',\n",
    "                            'wealth_method':'weighted_transfer',\n",
    "                            'income_method':'income_generation',\n",
    "                            'tech_gamma': torch.tensor([0.3,0.35,0.45]),\n",
    "                            'tech_cost': torch.tensor([0,0.15,0.65]),\n",
    "                            'consume_method':'past_shock_bellman_consumption',\n",
    "                            'nn_path': \"/nn_data/both_PudgeSixLayer_1024/0723_110813/model_best.pth\",\n",
    "                            'adapt_m':torch.tensor([0,0.5,0.9]),\n",
    "                            'adapt_cost':torch.tensor([0,0.25,0.45]),\n",
    "                            'depreciation': 0.08,\n",
    "                            'discount': 0.95,\n",
    "                            'model_theta_dist': {'type':'beta','parameters':[4.13,0.07],'round':False,'decimals':None},\n",
    "                            'del_method':'size',\n",
    "                            'del_threshold':'balance',\n",
    "                            'noise_ratio': 0.05,\n",
    "                            'local_ratio': 0.25,\n",
    "                            'homophily_parameter':1,\n",
    "                            'characteristic_distance':3.33, \n",
    "                            'truncation_weight':1.0e-10,\n",
    "                            'step_type':'ptm'}})\n",
    "\n",
    "print(model.config.number_agents)  \n",
    "print(model.config.steering_parameters)                        "
   ]
  },
  {
   "cell_type": "code",
   "execution_count": 4,
   "metadata": {},
   "outputs": [
    {
     "name": "stdout",
     "output_type": "stream",
     "text": [
      "Model torch seed set to 42\n",
      "Using seed 1 for network creation with 1 edges requested.\n"
     ]
    },
    {
     "ename": "KeyError",
     "evalue": "'mps'",
     "output_type": "error",
     "traceback": [
      "\u001b[0;31m---------------------------------------------------------------------------\u001b[0m",
      "\u001b[0;31mKeyError\u001b[0m                                  Traceback (most recent call last)",
      "Cell \u001b[0;32mIn[4], line 1\u001b[0m\n\u001b[0;32m----> 1\u001b[0m \u001b[43mmodel\u001b[49m\u001b[38;5;241;43m.\u001b[39;49m\u001b[43minitialize_model\u001b[49m\u001b[43m(\u001b[49m\u001b[43m)\u001b[49m\n\u001b[1;32m      2\u001b[0m \u001b[38;5;28mprint\u001b[39m (model\u001b[38;5;241m.\u001b[39msteering_parameters[\u001b[38;5;124m'\u001b[39m\u001b[38;5;124mmodel_theta\u001b[39m\u001b[38;5;124m'\u001b[39m] )\n",
      "File \u001b[0;32m~/Documents/Scripts/Python/DGL-PTM/Sensitivity_Analysis/../dgl_ptm/dgl_ptm/model/initialize_model.py:299\u001b[0m, in \u001b[0;36mPovertyTrapModel.initialize_model\u001b[0;34m(self, restart)\u001b[0m\n\u001b[1;32m    297\u001b[0m \u001b[38;5;28mself\u001b[39m\u001b[38;5;241m.\u001b[39mcreate_network()\n\u001b[1;32m    298\u001b[0m \u001b[38;5;28mself\u001b[39m\u001b[38;5;241m.\u001b[39minitialize_agent_properties()\n\u001b[0;32m--> 299\u001b[0m \u001b[38;5;28mself\u001b[39m\u001b[38;5;241m.\u001b[39mgraph \u001b[38;5;241m=\u001b[39m \u001b[38;5;28;43mself\u001b[39;49m\u001b[38;5;241;43m.\u001b[39;49m\u001b[43mgraph\u001b[49m\u001b[38;5;241;43m.\u001b[39;49m\u001b[43mto\u001b[49m\u001b[43m(\u001b[49m\u001b[38;5;28;43mself\u001b[39;49m\u001b[38;5;241;43m.\u001b[39;49m\u001b[43mconfig\u001b[49m\u001b[38;5;241;43m.\u001b[39;49m\u001b[43mdevice\u001b[49m\u001b[43m)\u001b[49m\n\u001b[1;32m    300\u001b[0m \u001b[38;5;28mprint\u001b[39m(\u001b[38;5;124mf\u001b[39m\u001b[38;5;124m'\u001b[39m\u001b[38;5;132;01m{\u001b[39;00m\u001b[38;5;28mself\u001b[39m\u001b[38;5;241m.\u001b[39mgraph\u001b[38;5;241m.\u001b[39mnumber_of_nodes()\u001b[38;5;132;01m}\u001b[39;00m\u001b[38;5;124m agents initialized on \u001b[39m\u001b[38;5;132;01m{\u001b[39;00m\u001b[38;5;28mself\u001b[39m\u001b[38;5;241m.\u001b[39mgraph\u001b[38;5;241m.\u001b[39mdevice\u001b[38;5;132;01m}\u001b[39;00m\u001b[38;5;124m device\u001b[39m\u001b[38;5;124m'\u001b[39m)\n\u001b[1;32m    301\u001b[0m \u001b[38;5;28mself\u001b[39m\u001b[38;5;241m.\u001b[39msteering_parameters[\u001b[38;5;124m'\u001b[39m\u001b[38;5;124mmodel_theta\u001b[39m\u001b[38;5;124m'\u001b[39m] \u001b[38;5;241m=\u001b[39m \u001b[38;5;28mself\u001b[39m\u001b[38;5;241m.\u001b[39msteering_parameters[\u001b[38;5;124m'\u001b[39m\u001b[38;5;124mmodel_theta\u001b[39m\u001b[38;5;124m'\u001b[39m]\u001b[38;5;241m.\u001b[39mto(\u001b[38;5;28mself\u001b[39m\u001b[38;5;241m.\u001b[39mconfig\u001b[38;5;241m.\u001b[39mdevice)  \u001b[38;5;66;03m# noqa: E501\u001b[39;00m\n",
      "File \u001b[0;32m~/opt/anaconda3/envs/dgl_ptm/lib/python3.10/site-packages/dgl/heterograph.py:5709\u001b[0m, in \u001b[0;36mDGLGraph.to\u001b[0;34m(self, device, **kwargs)\u001b[0m\n\u001b[1;32m   5706\u001b[0m ret \u001b[38;5;241m=\u001b[39m copy\u001b[38;5;241m.\u001b[39mcopy(\u001b[38;5;28mself\u001b[39m)\n\u001b[1;32m   5708\u001b[0m \u001b[38;5;66;03m# 1. Copy graph structure\u001b[39;00m\n\u001b[0;32m-> 5709\u001b[0m ret\u001b[38;5;241m.\u001b[39m_graph \u001b[38;5;241m=\u001b[39m \u001b[38;5;28mself\u001b[39m\u001b[38;5;241m.\u001b[39m_graph\u001b[38;5;241m.\u001b[39mcopy_to(\u001b[43mutils\u001b[49m\u001b[38;5;241;43m.\u001b[39;49m\u001b[43mto_dgl_context\u001b[49m\u001b[43m(\u001b[49m\u001b[43mdevice\u001b[49m\u001b[43m)\u001b[49m)\n\u001b[1;32m   5711\u001b[0m \u001b[38;5;66;03m# 2. Copy features\u001b[39;00m\n\u001b[1;32m   5712\u001b[0m \u001b[38;5;66;03m# TODO(minjie): handle initializer\u001b[39;00m\n\u001b[1;32m   5713\u001b[0m new_nframes \u001b[38;5;241m=\u001b[39m []\n",
      "File \u001b[0;32m~/opt/anaconda3/envs/dgl_ptm/lib/python3.10/site-packages/dgl/utils/internal.py:585\u001b[0m, in \u001b[0;36mto_dgl_context\u001b[0;34m(ctx)\u001b[0m\n\u001b[1;32m    583\u001b[0m \u001b[38;5;28;01mdef\u001b[39;00m \u001b[38;5;21mto_dgl_context\u001b[39m(ctx):\n\u001b[1;32m    584\u001b[0m \u001b[38;5;250m    \u001b[39m\u001b[38;5;124;03m\"\"\"Convert a backend context to DGLContext\"\"\"\u001b[39;00m\n\u001b[0;32m--> 585\u001b[0m     device_type \u001b[38;5;241m=\u001b[39m \u001b[43mnd\u001b[49m\u001b[38;5;241;43m.\u001b[39;49m\u001b[43mDGLContext\u001b[49m\u001b[38;5;241;43m.\u001b[39;49m\u001b[43mSTR2MASK\u001b[49m\u001b[43m[\u001b[49m\u001b[43mF\u001b[49m\u001b[38;5;241;43m.\u001b[39;49m\u001b[43mdevice_type\u001b[49m\u001b[43m(\u001b[49m\u001b[43mctx\u001b[49m\u001b[43m)\u001b[49m\u001b[43m]\u001b[49m\n\u001b[1;32m    586\u001b[0m     device_id \u001b[38;5;241m=\u001b[39m F\u001b[38;5;241m.\u001b[39mdevice_id(ctx)\n\u001b[1;32m    587\u001b[0m     \u001b[38;5;28;01mreturn\u001b[39;00m nd\u001b[38;5;241m.\u001b[39mDGLContext(device_type, device_id)\n",
      "\u001b[0;31mKeyError\u001b[0m: 'mps'"
     ]
    }
   ],
   "source": [
    "model.initialize_model()\n",
    "print (model.steering_parameters['model_theta'] )\n"
   ]
  },
  {
   "cell_type": "code",
   "execution_count": null,
   "metadata": {},
   "outputs": [
    {
     "name": "stdout",
     "output_type": "stream",
     "text": [
      "performing step 0 of 10\n",
      "Agent graph storage type: torch.int32\n",
      "performing step 1 of 10\n",
      "performing step 2 of 10\n",
      "performing step 3 of 10\n",
      "performing step 4 of 10\n",
      "performing step 5 of 10\n",
      "performing step 6 of 10\n",
      "performing step 7 of 10\n",
      "performing step 8 of 10\n",
      "performing step 9 of 10\n"
     ]
    }
   ],
   "source": [
    "model.run()\n",
    "\n",
    "#tensor([14,  6, 35, 22,  0, 21,  9, 62, 52,  2,  7, 12, 46,  8,  7, 12, 52, 67,\n",
    "#        79, 52, 67, 21, 74, 67, 64])"
   ]
  },
  {
   "cell_type": "code",
   "execution_count": null,
   "metadata": {},
   "outputs": [],
   "source": []
  },
  {
   "cell_type": "code",
   "execution_count": null,
   "metadata": {},
   "outputs": [
    {
     "name": "stdout",
     "output_type": "stream",
     "text": [
      "[8.834466  9.158539  3.890351  9.597126  3.9654372 6.0488634 2.6400673\n",
      " 7.957049  9.413637  1.4185406 9.352521  5.976438  8.707104  5.7203813\n",
      " 7.4368305 4.3511043 8.865885  5.781654  2.7391422 6.311746 ]\n"
     ]
    }
   ],
   "source": [
    "import zarr\n",
    "import os\n",
    "zarr_file_one = zarr.open('/Users/victoria/Documents/Scripts/Python/DGL-PTM/Sensitivity_Analysis/data_mode_A/agent_data.zarr', mode='r')\n",
    "zarr_file_two = zarr.open('/Users/victoria/Documents/Scripts/Python/DGL-PTM/Sensitivity_Analysis/data_mode_B/agent_data.zarr', mode='r')\n",
    "zarr_file_three = zarr.open('/Users/victoria/Documents/Scripts/Python/DGL-PTM/Sensitivity_Analysis/data_mode_B/agent_data_initial.zarr', mode='r')\n",
    "zarr_file_four = zarr.open('/Users/victoria/Documents/Scripts/Python/DGL-PTM/Sensitivity_Analysis/SA_test/agent_data.zarr', mode='r')\n",
    "\n",
    "#print(zarr_file_one.tree())\n",
    "#print(zarr_file_two.tree())\n",
    "#print(zarr_file_three.tree())\n",
    "\n",
    "#attributes=os.listdir('/Users/victoria/Documents/Scripts/Python/DGL-PTM/Sensitivity_Analysis/test_SA/agent_data.zarr')\n",
    "#attributes = [item for item in attributes if item not in ['.zattrs','.zmetadata','.zgroup']]\n",
    "#attributes = {key: None for key in attributes}\n",
    "#print(attributes)\n",
    "#print(zarr_file_one['wealth'][0:2])\n",
    "#print(zarr_file_two['wealth'][0:2])\n",
    "\n",
    "#print(zarr_file_one['alpha'][0:2])\n",
    "#print(zarr_file_two['alpha'][0:2])\n",
    "\n",
    "#format: zarr_file['property'][agent(s),timestep(s)]\n",
    "print(zarr_file_four['wealth'][0:20,0])\n",
    "\n",
    "#Unnecessary:'a_table','m','tec','gamma','cost','zeros','ones', 'total_weight', \"disposable_wealth\"\n",
    "#One-Time: 'alpha',\"lambda\",\"sigma\",\"sensitivity\"\n",
    "#Every-Time: 'degree','i_a','income','net_trade', 'tech_index','theta', 'wealth', 'wealth_consumption','weighted_degree'\n"
   ]
  },
  {
   "cell_type": "code",
   "execution_count": null,
   "metadata": {},
   "outputs": [
    {
     "name": "stdout",
     "output_type": "stream",
     "text": [
      "['degree', 'i_a', 'income', 'net_trade', 'tech_index', 'theta', 'wealth', 'wealth_consumption', 'weighted_degree']\n"
     ]
    }
   ],
   "source": [
    "ndata = ['all']\n",
    "ndata = ['all_except',['a_table','m','tec','gamma','cost','zeros','ones', 'total_weight', \"disposable_wealth\"]]\n",
    "ndata = [['all_except',['a_table','m','tec','gamma','cost','zeros','ones', 'total_weight', \"disposable_wealth\"]], [\"initial_only\",['alpha',\"lambda\",\"sigma\",\"sensitivity\"]]]\n",
    "ndata = [['degree','i_a','income','net_trade', 'tech_index','theta', 'wealth', 'wealth_consumption','weighted_degree'], [\"initial_only\",['alpha',\"lambda\",\"sigma\",\"sensitivity\"]]]\n",
    "\n",
    "timestep = 10\n",
    "\n",
    "if ndata == ['all']:\n",
    "    ndata = list(attributes.keys())\n",
    "elif ndata[0] == 'all_except':\n",
    "    ndata = list(attributes.keys() - ndata[1])\n",
    "elif sum(1 for item in ndata if isinstance(item, list)) > 1:\n",
    "    ndata_list = ndata\n",
    "    initial_only=[]\n",
    "    for specification in ndata_list:\n",
    "        if specification == ['all']:\n",
    "            raise ValueError('Use of \"all\" is not compatible with multiple data collection specification lists.')\n",
    "        elif specification[0] == 'all_except':\n",
    "            ndata = list(attributes.keys() - specification[1])\n",
    "        elif specification[0] == 'initial_only':\n",
    "            if timestep == 0:\n",
    "                initial_only = specification[1]\n",
    "        else:\n",
    "            ndata = specification\n",
    "    ndata=ndata+initial_only\n",
    "\n",
    "\n",
    "print(ndata)\n"
   ]
  },
  {
   "cell_type": "code",
   "execution_count": null,
   "metadata": {},
   "outputs": [],
   "source": []
  },
  {
   "cell_type": "code",
   "execution_count": null,
   "metadata": {},
   "outputs": [
    {
     "data": {
      "text/plain": [
       "0"
      ]
     },
     "execution_count": 44,
     "metadata": {},
     "output_type": "execute_result"
    },
    {
     "data": {
      "image/png": "[encoded data removed]",
      "text/plain": [
       "<Figure size 640x480 with 4 Axes>"
      ]
     },
     "metadata": {},
     "output_type": "display_data"
    }
   ],
   "source": [
    "import zarr\n",
    "import pandas as pd\n",
    "import matplotlib.pyplot as plt\n",
    "\n",
    "from matplotlib.widgets import Slider, Button\n",
    "%matplotlib widget\n",
    "\n",
    "adapt_data = zarr.open('/Users/victoria/Documents/Scripts/Python/DGL-PTM/Sensitivity_Analysis/data_mode_B/agent_data.zarr', mode='r')\n",
    "\n",
    "timesteps=50\n",
    "\n",
    "figIHK=plt.figure()\n",
    "ax_timestep = figIHK.add_axes([0.25, 0.1, 0.65, 0.03])\n",
    "sliderIHK = Slider(ax_timestep, 'Time Step', 0, timesteps, valinit=0,valfmt='%d')\n",
    "\n",
    "\n",
    "#setbins = np.linspace(0, output2.loc[TimeSample,\"k_t\"].max(), 200)\n",
    "def incrementIHK(val):\n",
    "    sliderIHK.set_val(sliderIHK.val+1)\n",
    "    updateIHK(sliderIHK)\n",
    "\n",
    "def decrementIHK(val):\n",
    "    sliderIHK.set_val(sliderIHK.val-1)\n",
    "    updateIHK(sliderIHK)\n",
    "\n",
    "def updateIHK(val):\n",
    "\n",
    "    time = int(sliderIHK.val)\n",
    "\n",
    "    data=adapt_data['wealth'][:,f'0.{time}']\n",
    "    figIHK.suptitle(f\"Wealth Distribution at Time Step {time}\")\n",
    "    plt.cla()\n",
    "    plt.xlabel(\"k_t\")\n",
    "    plt.ylabel(\"# of Agents/Frequency\")\n",
    "    _,_,a=plt.hist(data,lw=1, ec=\"yellow\", fc=\"blue\", alpha=0.4)\n",
    "    #_,_,b=plt.hist(subset2[\"k_t\"], setbins,lw=1, ec=\"black\", fc=\"green\", alpha=0.4)\n",
    "    #plt.yticks([0,100,200,300,400])\n",
    "    #figIHK.legend((a,b), (\"No Trade\", \"Trading\"))\n",
    "    snapshot=str(f\"Mean k: {data.mean()}  Max k: {data.max()}\" )\n",
    "    figIHK.text(0.05, 0.021, snapshot,fontsize=10, bbox=dict(fc=\"white\", ec=\"white\"))\n",
    "\n",
    "\n",
    "\n",
    "fwax = figIHK.add_axes([0.8, 0.025, 0.1, 0.04])\n",
    "fwbutIHK = Button(fwax, 'Forward')\n",
    "bkax = figIHK.add_axes([0.68, 0.025, 0.1, 0.04])\n",
    "bkbutIHK = Button(bkax, 'Back')#, color=axcolor, hovercolor='0.975')\n",
    "\n",
    "\n",
    "\n",
    "plt.axes([0.12, 0.25, 0.77, 0.65])\n",
    "sliderIHK.on_changed(updateIHK)\n",
    "fwbutIHK.on_clicked(incrementIHK)\n",
    "bkbutIHK.on_clicked(decrementIHK)\n",
    "\n"
   ]
  }
 ],
 "metadata": {
  "kernelspec": {
   "display_name": "Python 3.10.12 ('dgl_ptm')",
   "language": "python",
   "name": "python3"
  },
  "language_info": {
   "codemirror_mode": {
    "name": "ipython",
    "version": 3
   },
   "file_extension": ".py",
   "mimetype": "text/x-python",
   "name": "python",
   "nbconvert_exporter": "python",
   "pygments_lexer": "ipython3",
   "version": "3.10.13"
  },
  "orig_nbformat": 4,
  "vscode": {
   "interpreter": {
    "hash": "1477468427ea6fe7f3c6460347a373a01cc68daae53faf91f7d9fb578ee805b7"
   }
  }
 },
 "nbformat": 4,
 "nbformat_minor": 2
}

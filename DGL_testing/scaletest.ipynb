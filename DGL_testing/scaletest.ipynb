{
 "cells": [
  {
   "cell_type": "code",
   "execution_count": 1,
   "metadata": {},
   "outputs": [
    {
     "name": "stdout",
     "output_type": "stream",
     "text": [
      "Intel MKL WARNING: Support of Intel(R) Streaming SIMD Extensions 4.2 (Intel(R) SSE4.2) enabled only processors has been deprecated. Intel oneAPI Math Kernel Library 2025.0 will require Intel(R) Advanced Vector Extensions (Intel(R) AVX) instructions.\n",
      "Intel MKL WARNING: Support of Intel(R) Streaming SIMD Extensions 4.2 (Intel(R) SSE4.2) enabled only processors has been deprecated. Intel oneAPI Math Kernel Library 2025.0 will require Intel(R) Advanced Vector Extensions (Intel(R) AVX) instructions.\n"
     ]
    },
    {
     "ename": "ModuleNotFoundError",
     "evalue": "No module named 'parse_config'",
     "output_type": "error",
     "traceback": [
      "\u001b[0;31m---------------------------------------------------------------------------\u001b[0m",
      "\u001b[0;31mModuleNotFoundError\u001b[0m                       Traceback (most recent call last)",
      "Cell \u001b[0;32mIn[1], line 4\u001b[0m\n\u001b[1;32m      2\u001b[0m sys\u001b[39m.\u001b[39mpath\u001b[39m.\u001b[39mappend(\u001b[39m'\u001b[39m\u001b[39m/Users/victoria/Documents/Scripts/Python/DGL-PTM/dgl_ptm\u001b[39m\u001b[39m'\u001b[39m)\n\u001b[1;32m      3\u001b[0m \u001b[39mimport\u001b[39;00m \u001b[39mtorch\u001b[39;00m\n\u001b[0;32m----> 4\u001b[0m \u001b[39mimport\u001b[39;00m \u001b[39mdgl_ptm\u001b[39;00m\n\u001b[1;32m      5\u001b[0m \u001b[39mimport\u001b[39;00m \u001b[39mos\u001b[39;00m\n\u001b[1;32m      6\u001b[0m os\u001b[39m.\u001b[39menviron[\u001b[39m\"\u001b[39m\u001b[39mDGLBACKEND\u001b[39m\u001b[39m\"\u001b[39m] \u001b[39m=\u001b[39m \u001b[39m\"\u001b[39m\u001b[39mpytorch\u001b[39m\u001b[39m\"\u001b[39m\n",
      "File \u001b[0;32m~/Documents/Scripts/Python/DGL-PTM/dgl_ptm/dgl_ptm/__init__.py:5\u001b[0m\n\u001b[1;32m      2\u001b[0m \u001b[39mimport\u001b[39;00m \u001b[39mlogging\u001b[39;00m\n\u001b[1;32m      4\u001b[0m \u001b[39m#from dgl_ptm.model import initialize_model, step\u001b[39;00m\n\u001b[0;32m----> 5\u001b[0m \u001b[39mfrom\u001b[39;00m \u001b[39mdgl_ptm\u001b[39;00m\u001b[39m.\u001b[39;00m\u001b[39mmodel\u001b[39;00m\u001b[39m.\u001b[39;00m\u001b[39minitialize_model\u001b[39;00m \u001b[39mimport\u001b[39;00m PovertyTrapModel\n\u001b[1;32m      6\u001b[0m \u001b[39m# from dgl_ptm.agent import agent_update\u001b[39;00m\n\u001b[1;32m      7\u001b[0m \u001b[39m# from dgl_ptm.agentInteraction import trade_money\u001b[39;00m\n\u001b[1;32m      8\u001b[0m \u001b[39m# from dgl_ptm.network import global_attachment, link_deletion\u001b[39;00m\n\u001b[1;32m      9\u001b[0m \u001b[39m# from dgl_ptm.model import initialize_model, data_collection, step\u001b[39;00m\n\u001b[1;32m     10\u001b[0m \u001b[39m# from dgl_ptm.util import *\u001b[39;00m\n\u001b[1;32m     12\u001b[0m logging\u001b[39m.\u001b[39mgetLogger(\u001b[39m__name__\u001b[39m)\u001b[39m.\u001b[39maddHandler(logging\u001b[39m.\u001b[39mNullHandler())\n",
      "File \u001b[0;32m~/Documents/Scripts/Python/DGL-PTM/dgl_ptm/dgl_ptm/model/initialize_model.py:7\u001b[0m\n\u001b[1;32m      4\u001b[0m \u001b[39mimport\u001b[39;00m \u001b[39myaml\u001b[39;00m\n\u001b[1;32m      6\u001b[0m \u001b[39mfrom\u001b[39;00m \u001b[39mdgl_ptm\u001b[39;00m\u001b[39m.\u001b[39;00m\u001b[39mnetwork\u001b[39;00m\u001b[39m.\u001b[39;00m\u001b[39mnetwork_creation\u001b[39;00m \u001b[39mimport\u001b[39;00m network_creation\n\u001b[0;32m----> 7\u001b[0m \u001b[39mfrom\u001b[39;00m \u001b[39mdgl_ptm\u001b[39;00m\u001b[39m.\u001b[39;00m\u001b[39mmodel\u001b[39;00m\u001b[39m.\u001b[39;00m\u001b[39mstep\u001b[39;00m \u001b[39mimport\u001b[39;00m ptm_step\n\u001b[1;32m      8\u001b[0m \u001b[39mfrom\u001b[39;00m \u001b[39mdgl_ptm\u001b[39;00m\u001b[39m.\u001b[39;00m\u001b[39magentInteraction\u001b[39;00m\u001b[39m.\u001b[39;00m\u001b[39mweight_update\u001b[39;00m \u001b[39mimport\u001b[39;00m weight_update\n\u001b[1;32m     11\u001b[0m \u001b[39mdef\u001b[39;00m \u001b[39msample_distribution_tensor\u001b[39m(\u001b[39mtype\u001b[39m, distParameters, nSamples, \u001b[39mround\u001b[39m\u001b[39m=\u001b[39m\u001b[39mFalse\u001b[39;00m, decimals\u001b[39m=\u001b[39m\u001b[39mNone\u001b[39;00m):\n",
      "File \u001b[0;32m~/Documents/Scripts/Python/DGL-PTM/dgl_ptm/dgl_ptm/model/step.py:10\u001b[0m\n\u001b[1;32m      8\u001b[0m \u001b[39mfrom\u001b[39;00m \u001b[39mdgl_ptm\u001b[39;00m\u001b[39m.\u001b[39;00m\u001b[39mnetwork\u001b[39;00m\u001b[39m.\u001b[39;00m\u001b[39mlink_deletion\u001b[39;00m \u001b[39mimport\u001b[39;00m link_deletion \n\u001b[1;32m      9\u001b[0m \u001b[39mfrom\u001b[39;00m \u001b[39mdgl_ptm\u001b[39;00m\u001b[39m.\u001b[39;00m\u001b[39mnetwork\u001b[39;00m\u001b[39m.\u001b[39;00m\u001b[39mglobal_attachment\u001b[39;00m \u001b[39mimport\u001b[39;00m global_attachment\n\u001b[0;32m---> 10\u001b[0m \u001b[39mfrom\u001b[39;00m \u001b[39mdgl_ptm\u001b[39;00m\u001b[39m.\u001b[39;00m\u001b[39magent\u001b[39;00m\u001b[39m.\u001b[39;00m\u001b[39magent_update\u001b[39;00m \u001b[39mimport\u001b[39;00m agent_update\n\u001b[1;32m     11\u001b[0m \u001b[39mfrom\u001b[39;00m \u001b[39mdgl_ptm\u001b[39;00m\u001b[39m.\u001b[39;00m\u001b[39mmodel\u001b[39;00m\u001b[39m.\u001b[39;00m\u001b[39mdata_collection\u001b[39;00m \u001b[39mimport\u001b[39;00m data_collection\n\u001b[1;32m     12\u001b[0m \u001b[39mfrom\u001b[39;00m \u001b[39mdgl_ptm\u001b[39;00m\u001b[39m.\u001b[39;00m\u001b[39magentInteraction\u001b[39;00m\u001b[39m.\u001b[39;00m\u001b[39mweight_update\u001b[39;00m \u001b[39mimport\u001b[39;00m weight_update\n",
      "File \u001b[0;32m~/Documents/Scripts/Python/DGL-PTM/dgl_ptm/dgl_ptm/agent/agent_update.py:2\u001b[0m\n\u001b[1;32m      1\u001b[0m \u001b[39mfrom\u001b[39;00m \u001b[39mdgl_ptm\u001b[39;00m\u001b[39m.\u001b[39;00m\u001b[39magent\u001b[39;00m\u001b[39m.\u001b[39;00m\u001b[39mincome_generation\u001b[39;00m \u001b[39mimport\u001b[39;00m income_generation\n\u001b[0;32m----> 2\u001b[0m \u001b[39mfrom\u001b[39;00m \u001b[39mdgl_ptm\u001b[39;00m\u001b[39m.\u001b[39;00m\u001b[39magent\u001b[39;00m\u001b[39m.\u001b[39;00m\u001b[39mwealth_consumption\u001b[39;00m \u001b[39mimport\u001b[39;00m wealth_consumption\n\u001b[1;32m      3\u001b[0m \u001b[39mimport\u001b[39;00m \u001b[39mtorch\u001b[39;00m\n\u001b[1;32m      5\u001b[0m \u001b[39mdef\u001b[39;00m \u001b[39magent_update\u001b[39m(model_graph, model_params, device\u001b[39m=\u001b[39m\u001b[39mNone\u001b[39;00m, timestep\u001b[39m=\u001b[39m\u001b[39mNone\u001b[39;00m, method\u001b[39m=\u001b[39m\u001b[39m'\u001b[39m\u001b[39mpseudo\u001b[39m\u001b[39m'\u001b[39m):\n",
      "File \u001b[0;32m~/Documents/Scripts/Python/DGL-PTM/dgl_ptm/dgl_ptm/agent/wealth_consumption.py:5\u001b[0m\n\u001b[1;32m      3\u001b[0m \u001b[39mfrom\u001b[39;00m \u001b[39mscipy\u001b[39;00m\u001b[39m.\u001b[39;00m\u001b[39minterpolate\u001b[39;00m \u001b[39mimport\u001b[39;00m interp1d\n\u001b[1;32m      4\u001b[0m \u001b[39mfrom\u001b[39;00m \u001b[39mscipy\u001b[39;00m\u001b[39m.\u001b[39;00m\u001b[39moptimize\u001b[39;00m \u001b[39mimport\u001b[39;00m minimize_scalar\n\u001b[0;32m----> 5\u001b[0m \u001b[39mfrom\u001b[39;00m \u001b[39m.\u001b[39;00m\u001b[39m.\u001b[39;00m\u001b[39mutil\u001b[39;00m\u001b[39m.\u001b[39;00m\u001b[39mutils\u001b[39;00m \u001b[39mimport\u001b[39;00m load_consumption_model\n\u001b[1;32m      6\u001b[0m \u001b[39mimport\u001b[39;00m \u001b[39mdgl_ptm\u001b[39;00m\u001b[39m.\u001b[39;00m\u001b[39mutil\u001b[39;00m\u001b[39m.\u001b[39;00m\u001b[39mparse_config\u001b[39;00m\u001b[39m.\u001b[39;00m\u001b[39mparse_config\u001b[39;00m \u001b[39mas\u001b[39;00m \u001b[39mparse_config\u001b[39;00m\n\u001b[1;32m     10\u001b[0m \u001b[39mdef\u001b[39;00m \u001b[39mwealth_consumption\u001b[39m(model_graph, model_params, device\u001b[39m=\u001b[39m\u001b[39mNone\u001b[39;00m, method\u001b[39m=\u001b[39m\u001b[39m'\u001b[39m\u001b[39mpseudo_consumption\u001b[39m\u001b[39m'\u001b[39m):\n\u001b[1;32m     11\u001b[0m     \u001b[39m# Calculate wealth consumed\u001b[39;00m\n",
      "File \u001b[0;32m~/Documents/Scripts/Python/DGL-PTM/dgl_ptm/dgl_ptm/util/utils.py:3\u001b[0m\n\u001b[1;32m      1\u001b[0m \u001b[39mimport\u001b[39;00m \u001b[39mtorch\u001b[39;00m\n\u001b[1;32m      2\u001b[0m \u001b[39mimport\u001b[39;00m \u001b[39mdgl_ptm\u001b[39;00m\u001b[39m.\u001b[39;00m\u001b[39mutil\u001b[39;00m\u001b[39m.\u001b[39;00m\u001b[39mnn_arch\u001b[39;00m\u001b[39m.\u001b[39;00m\u001b[39mnn_arch\u001b[39;00m \u001b[39mas\u001b[39;00m \u001b[39mnn_arch\u001b[39;00m\n\u001b[0;32m----> 3\u001b[0m \u001b[39mimport\u001b[39;00m \u001b[39mparse_config\u001b[39;00m\n\u001b[1;32m      8\u001b[0m \u001b[39mdef\u001b[39;00m \u001b[39mload_consumption_model\u001b[39m(model_path,device):\n\u001b[1;32m      9\u001b[0m \u001b[39m    \u001b[39m\u001b[39m'''Load a model from a particular .pth file and assemble using structure contained in nn_arch.py'''\u001b[39;00m\n",
      "\u001b[0;31mModuleNotFoundError\u001b[0m: No module named 'parse_config'"
     ]
    }
   ],
   "source": [
    "import sys\n",
    "sys.path.append('/Users/victoria/Documents/Scripts/Python/DGL-PTM/dgl_ptm')\n",
    "import torch\n",
    "import dgl_ptm\n",
    "import os\n",
    "os.environ[\"DGLBACKEND\"] = \"pytorch\"\n"
   ]
  },
  {
   "cell_type": "markdown",
   "metadata": {},
   "source": [
    "This version features the desired income generation function; a fitted function is used as a decent placeholder to determine consumption. There are many aspects (such as optimization and personal perception of theta) which will be required in future but are currently not utilized. With the model in its current arrangement, the agents stop trading and stabillize after ~7 time steps. I have included a commented-out section at the bottom which uses matplotlib pyplot if you wish to get a quick look.\n",
    "The current version of the config.yaml file is not formatted correctly and should not be used as is."
   ]
  },
  {
   "cell_type": "code",
   "execution_count": null,
   "metadata": {},
   "outputs": [],
   "source": [
    "model = dgl_ptm.PovertyTrapModel(model_identifier='testwithnn')"
   ]
  },
  {
   "cell_type": "code",
   "execution_count": null,
   "metadata": {},
   "outputs": [
    {
     "name": "stdout",
     "output_type": "stream",
     "text": [
      "{'npath': './agent_data.zarr', 'epath': './edge_data', 'ndata': ['all_except', ['a_table']], 'edata': ['all'], 'mode': 'xarray', 'wealth_method': 'singular_transfer', 'income_method': 'income_generation', 'tech_gamma': tensor([0.3000, 0.3500, 0.4500]), 'tech_cost': tensor([0.0000, 0.1500, 0.6500]), 'consume_method': 'estimated_bellman_consumption', 'nn_path': '/Users/victoria/Documents/Scripts/Python/DGL-PTM/DGL_testing/nn_data/both_PudgeFiveLayer_1024/0409_175055/model_best.pth', 'adapt_m': tensor([0.0000, 0.5000, 0.9000]), 'adapt_cost': tensor([0.0000, 0.2500, 0.4500]), 'depreciation': 0.6, 'discount': 0.95, 'm_theta_dist': {'type': 'multinomial', 'parameters': [[0.01, 0.1, 0.79, 0.1], [0.1, 0.5, 0.8, 1]], 'round': False, 'decimals': None}, 'del_prob': 0.05, 'ratio': 0.1, 'weight_a': 0.69, 'weight_b': 35, 'truncation_weight': 1e-10, 'step_type': 'custom'}\n"
     ]
    }
   ],
   "source": [
    "model.set_model_parameters(default=False, **{'step_target': 10, 'steering_parameters': {'npath':'./agent_data.zarr',\n",
    "                            'epath':'./edge_data', \n",
    "                            'ndata':['all_except',['a_table']],\n",
    "                            'edata':['all'],\n",
    "                            'mode':'xarray',\n",
    "                            'wealth_method':'singular_transfer',\n",
    "                            'income_method':'income_generation',\n",
    "                            'tech_gamma': torch.tensor([0.3,0.35,0.45]),\n",
    "                            'tech_cost': torch.tensor([0,0.15,0.65]),\n",
    "                            'consume_method':'estimated_bellman_consumption',\n",
    "                            'nn_path':'/Users/victoria/Documents/Scripts/Python/DGL-PTM/DGL_testing/nn_data/both_PudgeFiveLayer_1024/0409_175055/model_best.pth',\n",
    "                            'adapt_m':torch.tensor([0,0.5,0.9]),\n",
    "                            'adapt_cost':torch.tensor([0,0.25,0.45]),\n",
    "                            'depreciation': 0.6,\n",
    "                            'discount': 0.95,\n",
    "                            'm_theta_dist': {'type':'multinomial','parameters':[[0.01 ,0.1, 0.79, 0.1],[0.1, 0.5, 0.8, 1]],'round':False,'decimals':None},\n",
    "                            'del_prob':0.05,\n",
    "                            'ratio':0.1,\n",
    "                            'weight_a':0.69,\n",
    "                            'weight_b':35, \n",
    "                            'truncation_weight':1.0e-10,\n",
    "                            'step_type': 'custom'}})\n",
    "\n",
    "#print(model.number_agents)  \n",
    "#print(model.nn_path)  \n",
    "print(model.steering_parameters)                        "
   ]
  },
  {
   "cell_type": "code",
   "execution_count": null,
   "metadata": {},
   "outputs": [],
   "source": [
    "model.initialize_model()"
   ]
  },
  {
   "cell_type": "code",
   "execution_count": null,
   "metadata": {},
   "outputs": [
    {
     "name": "stdout",
     "output_type": "stream",
     "text": [
      "performing step 1 of 10\n",
      "creating bidirectional link between nodes 42 (src) and tensor([0]) (dst)\n",
      "created 1 of 1 links requested\n",
      " In the nn consumption equation\n",
      "attempting to load model at /Users/victoria/Documents/Scripts/Python/DGL-PTM/DGL_testing/nn_data/both_PudgeFiveLayer_1024/0409_175055/model_best.pth\n",
      "entered load_consumption_model\n"
     ]
    },
    {
     "ename": "RuntimeError",
     "evalue": "execution of step failed for step 0",
     "output_type": "error",
     "traceback": [
      "\u001b[0;31m---------------------------------------------------------------------------\u001b[0m",
      "\u001b[0;31mModuleNotFoundError\u001b[0m                       Traceback (most recent call last)",
      "File \u001b[0;32m~/Documents/Scripts/Python/DGL-PTM/dgl_ptm/dgl_ptm/model/initialize_model.py:309\u001b[0m, in \u001b[0;36mPovertyTrapModel.step\u001b[0;34m(self)\u001b[0m\n\u001b[1;32m    308\u001b[0m \u001b[39mtry\u001b[39;00m:\n\u001b[0;32m--> 309\u001b[0m     ptm_step(\u001b[39mself\u001b[39;49m\u001b[39m.\u001b[39;49mmodel_graph, \u001b[39mself\u001b[39;49m\u001b[39m.\u001b[39;49mdevice, \u001b[39mself\u001b[39;49m\u001b[39m.\u001b[39;49mstep_count,\u001b[39mself\u001b[39;49m\u001b[39m.\u001b[39;49msteering_parameters)\n\u001b[1;32m    310\u001b[0m     \u001b[39mself\u001b[39m\u001b[39m.\u001b[39mstep_count \u001b[39m+\u001b[39m\u001b[39m=\u001b[39m\u001b[39m1\u001b[39m\n",
      "File \u001b[0;32m~/Documents/Scripts/Python/DGL-PTM/dgl_ptm/dgl_ptm/model/step.py:60\u001b[0m, in \u001b[0;36mptm_step\u001b[0;34m(agent_graph, device, timestep, params)\u001b[0m\n\u001b[1;32m     59\u001b[0m agent_update(agent_graph, params, timestep\u001b[39m=\u001b[39mtimestep, method \u001b[39m=\u001b[39m\u001b[39m'\u001b[39m\u001b[39mtheta\u001b[39m\u001b[39m'\u001b[39m)\n\u001b[0;32m---> 60\u001b[0m agent_update(agent_graph, params, device\u001b[39m=\u001b[39;49mdevice, method \u001b[39m=\u001b[39;49m\u001b[39m'\u001b[39;49m\u001b[39mconsumption\u001b[39;49m\u001b[39m'\u001b[39;49m)\n\u001b[1;32m     61\u001b[0m agent_update(agent_graph, params, method \u001b[39m=\u001b[39m\u001b[39m'\u001b[39m\u001b[39mincome\u001b[39m\u001b[39m'\u001b[39m)\n",
      "File \u001b[0;32m~/Documents/Scripts/Python/DGL-PTM/dgl_ptm/dgl_ptm/agent/agent_update.py:16\u001b[0m, in \u001b[0;36magent_update\u001b[0;34m(model_graph, model_params, device, timestep, method)\u001b[0m\n\u001b[1;32m     15\u001b[0m \u001b[39melif\u001b[39;00m method \u001b[39m==\u001b[39m \u001b[39m'\u001b[39m\u001b[39mconsumption\u001b[39m\u001b[39m'\u001b[39m:\n\u001b[0;32m---> 16\u001b[0m     _agent_consumption_update(model_graph, model_params,device)\n\u001b[1;32m     17\u001b[0m \u001b[39melif\u001b[39;00m method \u001b[39m==\u001b[39m \u001b[39m'\u001b[39m\u001b[39mincome\u001b[39m\u001b[39m'\u001b[39m:\n",
      "File \u001b[0;32m~/Documents/Scripts/Python/DGL-PTM/dgl_ptm/dgl_ptm/agent/agent_update.py:55\u001b[0m, in \u001b[0;36m_agent_consumption_update\u001b[0;34m(model_graph, model_params, device)\u001b[0m\n\u001b[1;32m     54\u001b[0m \u001b[39m\u001b[39m\u001b[39m'''Updates agent consumption based on method specified in model parameters.'''\u001b[39;00m\n\u001b[0;32m---> 55\u001b[0m wealth_consumption(model_graph, model_params, device, method\u001b[39m=\u001b[39;49mmodel_params[\u001b[39m'\u001b[39;49m\u001b[39mconsume_method\u001b[39;49m\u001b[39m'\u001b[39;49m])\n",
      "File \u001b[0;32m~/Documents/Scripts/Python/DGL-PTM/dgl_ptm/dgl_ptm/agent/wealth_consumption.py:19\u001b[0m, in \u001b[0;36mwealth_consumption\u001b[0;34m(model_graph, model_params, device, method)\u001b[0m\n\u001b[1;32m     18\u001b[0m \u001b[39melif\u001b[39;00m method \u001b[39m==\u001b[39m \u001b[39m'\u001b[39m\u001b[39mestimated_bellman_consumption\u001b[39m\u001b[39m'\u001b[39m:\n\u001b[0;32m---> 19\u001b[0m     _nn_bellman_wealth_consumption(model_graph,model_params,device)\n\u001b[1;32m     20\u001b[0m \u001b[39melse\u001b[39;00m:\n",
      "File \u001b[0;32m~/Documents/Scripts/Python/DGL-PTM/dgl_ptm/dgl_ptm/agent/wealth_consumption.py:232\u001b[0m, in \u001b[0;36m_nn_bellman_wealth_consumption\u001b[0;34m(model_graph, model_params, device)\u001b[0m\n\u001b[1;32m    230\u001b[0m \u001b[39mprint\u001b[39m(\u001b[39mf\u001b[39m\u001b[39m\"\u001b[39m\u001b[39mattempting to load model at \u001b[39m\u001b[39m{\u001b[39;00mmodel_params[\u001b[39m'\u001b[39m\u001b[39mnn_path\u001b[39m\u001b[39m'\u001b[39m]\u001b[39m}\u001b[39;00m\u001b[39m\"\u001b[39m)  \n\u001b[0;32m--> 232\u001b[0m estimator,scale \u001b[39m=\u001b[39m load_consumption_model(model_params[\u001b[39m'\u001b[39;49m\u001b[39mnn_path\u001b[39;49m\u001b[39m'\u001b[39;49m],device)  \n\u001b[1;32m    233\u001b[0m \u001b[39mprint\u001b[39m(\u001b[39m\"\u001b[39m\u001b[39m attempting forward\u001b[39m\u001b[39m\"\u001b[39m)\n",
      "File \u001b[0;32m~/Documents/Scripts/Python/DGL-PTM/dgl_ptm/dgl_ptm/util/utils.py:13\u001b[0m, in \u001b[0;36mload_consumption_model\u001b[0;34m(model_path, device)\u001b[0m\n\u001b[1;32m     12\u001b[0m model_path\u001b[39m=\u001b[39m\u001b[39m\"\u001b[39m\u001b[39m/Users/victoria/Documents/Scripts/Python/DGL-PTM/DGL_testing/nn_data/both_PudgeFiveLayer_1024/0409_175055/model_best.pth\u001b[39m\u001b[39m\"\u001b[39m\n\u001b[0;32m---> 13\u001b[0m modelinfo \u001b[39m=\u001b[39m torch\u001b[39m.\u001b[39;49mload(model_path, map_location\u001b[39m=\u001b[39;49mtorch\u001b[39m.\u001b[39;49mdevice(\u001b[39m'\u001b[39;49m\u001b[39mcpu\u001b[39;49m\u001b[39m'\u001b[39;49m))\n\u001b[1;32m     16\u001b[0m \u001b[39mprint\u001b[39m(\u001b[39m\"\u001b[39m\u001b[39mloaded info\u001b[39m\u001b[39m\"\u001b[39m)\n",
      "File \u001b[0;32m~/opt/anaconda3/envs/dgl_ptm/lib/python3.10/site-packages/torch/serialization.py:809\u001b[0m, in \u001b[0;36mload\u001b[0;34m(f, map_location, pickle_module, weights_only, **pickle_load_args)\u001b[0m\n\u001b[1;32m    808\u001b[0m                 \u001b[39mraise\u001b[39;00m pickle\u001b[39m.\u001b[39mUnpicklingError(UNSAFE_MESSAGE \u001b[39m+\u001b[39m \u001b[39mstr\u001b[39m(e)) \u001b[39mfrom\u001b[39;00m \u001b[39mNone\u001b[39;00m\n\u001b[0;32m--> 809\u001b[0m         \u001b[39mreturn\u001b[39;00m _load(opened_zipfile, map_location, pickle_module, \u001b[39m*\u001b[39;49m\u001b[39m*\u001b[39;49mpickle_load_args)\n\u001b[1;32m    810\u001b[0m \u001b[39mif\u001b[39;00m weights_only:\n",
      "File \u001b[0;32m~/opt/anaconda3/envs/dgl_ptm/lib/python3.10/site-packages/torch/serialization.py:1172\u001b[0m, in \u001b[0;36m_load\u001b[0;34m(zip_file, map_location, pickle_module, pickle_file, **pickle_load_args)\u001b[0m\n\u001b[1;32m   1171\u001b[0m unpickler\u001b[39m.\u001b[39mpersistent_load \u001b[39m=\u001b[39m persistent_load\n\u001b[0;32m-> 1172\u001b[0m result \u001b[39m=\u001b[39m unpickler\u001b[39m.\u001b[39;49mload()\n\u001b[1;32m   1174\u001b[0m torch\u001b[39m.\u001b[39m_utils\u001b[39m.\u001b[39m_validate_loaded_sparse_tensors()\n",
      "File \u001b[0;32m~/opt/anaconda3/envs/dgl_ptm/lib/python3.10/site-packages/torch/serialization.py:1165\u001b[0m, in \u001b[0;36m_load.<locals>.UnpicklerWrapper.find_class\u001b[0;34m(self, mod_name, name)\u001b[0m\n\u001b[1;32m   1164\u001b[0m mod_name \u001b[39m=\u001b[39m load_module_mapping\u001b[39m.\u001b[39mget(mod_name, mod_name)\n\u001b[0;32m-> 1165\u001b[0m \u001b[39mreturn\u001b[39;00m \u001b[39msuper\u001b[39;49m()\u001b[39m.\u001b[39;49mfind_class(mod_name, name)\n",
      "\u001b[0;31mModuleNotFoundError\u001b[0m: No module named 'parse_config'",
      "\nDuring handling of the above exception, another exception occurred:\n",
      "\u001b[0;31mRuntimeError\u001b[0m                              Traceback (most recent call last)",
      "Cell \u001b[0;32mIn[5], line 1\u001b[0m\n\u001b[0;32m----> 1\u001b[0m model\u001b[39m.\u001b[39;49mrun()\n",
      "File \u001b[0;32m~/Documents/Scripts/Python/DGL-PTM/dgl_ptm/dgl_ptm/model/initialize_model.py:321\u001b[0m, in \u001b[0;36mPovertyTrapModel.run\u001b[0;34m(self)\u001b[0m\n\u001b[1;32m    319\u001b[0m \u001b[39mwhile\u001b[39;00m \u001b[39mself\u001b[39m\u001b[39m.\u001b[39mstep_count \u001b[39m<\u001b[39m \u001b[39mself\u001b[39m\u001b[39m.\u001b[39mstep_target:\n\u001b[1;32m    320\u001b[0m     \u001b[39mprint\u001b[39m(\u001b[39mf\u001b[39m\u001b[39m'\u001b[39m\u001b[39mperforming step \u001b[39m\u001b[39m{\u001b[39;00m\u001b[39mself\u001b[39m\u001b[39m.\u001b[39mstep_count\u001b[39m+\u001b[39m\u001b[39m1\u001b[39m\u001b[39m}\u001b[39;00m\u001b[39m of \u001b[39m\u001b[39m{\u001b[39;00m\u001b[39mself\u001b[39m\u001b[39m.\u001b[39mstep_target\u001b[39m}\u001b[39;00m\u001b[39m'\u001b[39m)\n\u001b[0;32m--> 321\u001b[0m     \u001b[39mself\u001b[39;49m\u001b[39m.\u001b[39;49mstep()\n",
      "File \u001b[0;32m~/Documents/Scripts/Python/DGL-PTM/dgl_ptm/dgl_ptm/model/initialize_model.py:315\u001b[0m, in \u001b[0;36mPovertyTrapModel.step\u001b[0;34m(self)\u001b[0m\n\u001b[1;32m    310\u001b[0m     \u001b[39mself\u001b[39m\u001b[39m.\u001b[39mstep_count \u001b[39m+\u001b[39m\u001b[39m=\u001b[39m\u001b[39m1\u001b[39m\n\u001b[1;32m    311\u001b[0m \u001b[39mexcept\u001b[39;00m:\n\u001b[1;32m    312\u001b[0m     \u001b[39m#TODO add model dump here. Also check against previous save to avoid overwriting\u001b[39;00m\n\u001b[0;32m--> 315\u001b[0m     \u001b[39mraise\u001b[39;00m \u001b[39mRuntimeError\u001b[39;00m(\u001b[39mf\u001b[39m\u001b[39m'\u001b[39m\u001b[39mexecution of step failed for step \u001b[39m\u001b[39m{\u001b[39;00m\u001b[39mself\u001b[39m\u001b[39m.\u001b[39mstep_count\u001b[39m}\u001b[39;00m\u001b[39m'\u001b[39m)\n",
      "\u001b[0;31mRuntimeError\u001b[0m: execution of step failed for step 0"
     ]
    }
   ],
   "source": [
    "model.run()\n",
    "\n"
   ]
  },
  {
   "cell_type": "code",
   "execution_count": null,
   "metadata": {},
   "outputs": [
    {
     "data": {
      "text/plain": [
       "'\\n# try to see something happening\\nimport zarr\\nimport pandas as pd\\nimport matplotlib.pyplot as plt\\nimport matplotlib.animation as animation\\n\\n\\n\\nagent_data = zarr.open(\\'/Users/victoria/Documents/Scripts/Python/DGL-PTM/DGL_testing/agent_data.zarr\\', mode=\\'r\\')\\nalpha=pd.DataFrame(agent_data[\\'alpha\\'])\\nnet_trade=pd.DataFrame(agent_data[\\'net_trade\\'])\\nk=pd.DataFrame(agent_data[\\'wealth\\'])\\n\\nfig=plt.figure()\\nplt.xlabel(\"α\")\\nplt.ylabel(\"$k_{t}$\")\\n#xlims=[0.8,OGdata.loc[TimeSample,\"alpha\"].max()]\\nxlims=[0.8,1.5]\\n\\nylims=[0,10]\\n#ylims=[0,OGdata.loc[TimeSample,\"k_t\"].max()]\\n\\nfig.suptitle(f\"k$_{{{\\'t\\'}}}$ v.s. α at Time Step {0}\")\\n\\n\\n\\ndef animate3(i,alpha, k,net_trade, xlim,ylim):\\n\\n    plt.clf()\\n    fig.suptitle(f\"k$_{{{\\'t\\'}}}$ v.s. α at Time Step {i}\")\\n    plt.xlabel(\"α\")\\n    plt.ylabel(\"$k_{t}$\")\\n    pointart=plt.scatter(alpha[i], k[i])\\n    plt.xlim(xlim)\\n    plt.ylim(ylim)\\n    snapshot=str(f\"Net Traded:{net_trade[i].mean()}\")\\n    fig.text(0.05, 0.021, snapshot,fontsize=10, bbox=dict(fc=\"white\", ec=\"white\"))\\n\\n\\n\\n\\n\\npoints=plt.scatter(alpha[0], k[0])\\n    #hue=\"i_a\", \\n    #palette=[\"b\", \"r\",\"#7f7f7f\"], \\n\\nplt.xlim(xlims)\\nplt.ylim(ylims)\\n\\nanim3 = animation.FuncAnimation(fig, animate3, frames=k.shape[1], interval=2000, blit=False, fargs=(alpha,k,net_trade,xlims,ylims,)) \\n\\n\\n\\nplt.show()\\n'"
      ]
     },
     "execution_count": 43,
     "metadata": {},
     "output_type": "execute_result"
    }
   ],
   "source": [
    "'''\n",
    "# try to see something happening\n",
    "import zarr\n",
    "import pandas as pd\n",
    "import matplotlib.pyplot as plt\n",
    "import matplotlib.animation as animation\n",
    "\n",
    "\n",
    "\n",
    "agent_data = zarr.open('/Users/victoria/Documents/Scripts/Python/DGL-PTM/DGL_testing/agent_data.zarr', mode='r')\n",
    "alpha=pd.DataFrame(agent_data['alpha'])\n",
    "net_trade=pd.DataFrame(agent_data['net_trade'])\n",
    "k=pd.DataFrame(agent_data['wealth'])\n",
    "\n",
    "fig=plt.figure()\n",
    "plt.xlabel(\"α\")\n",
    "plt.ylabel(\"$k_{t}$\")\n",
    "#xlims=[0.8,OGdata.loc[TimeSample,\"alpha\"].max()]\n",
    "xlims=[0.8,1.5]\n",
    "\n",
    "ylims=[0,10]\n",
    "#ylims=[0,OGdata.loc[TimeSample,\"k_t\"].max()]\n",
    "\n",
    "fig.suptitle(f\"k$_{{{'t'}}}$ v.s. α at Time Step {0}\")\n",
    "\n",
    "\n",
    "\n",
    "def animate3(i,alpha, k,net_trade, xlim,ylim):\n",
    "\n",
    "    plt.clf()\n",
    "    fig.suptitle(f\"k$_{{{'t'}}}$ v.s. α at Time Step {i}\")\n",
    "    plt.xlabel(\"α\")\n",
    "    plt.ylabel(\"$k_{t}$\")\n",
    "    pointart=plt.scatter(alpha[i], k[i])\n",
    "    plt.xlim(xlim)\n",
    "    plt.ylim(ylim)\n",
    "    snapshot=str(f\"Net Traded:{net_trade[i].mean()}\")\n",
    "    fig.text(0.05, 0.021, snapshot,fontsize=10, bbox=dict(fc=\"white\", ec=\"white\"))\n",
    "\n",
    "\n",
    "\n",
    "\n",
    "\n",
    "points=plt.scatter(alpha[0], k[0])\n",
    "    #hue=\"i_a\", \n",
    "    #palette=[\"b\", \"r\",\"#7f7f7f\"], \n",
    "\n",
    "plt.xlim(xlims)\n",
    "plt.ylim(ylims)\n",
    "\n",
    "anim3 = animation.FuncAnimation(fig, animate3, frames=k.shape[1], interval=2000, blit=False, fargs=(alpha,k,net_trade,xlims,ylims,)) \n",
    "\n",
    "\n",
    "\n",
    "plt.show()\n",
    "'''"
   ]
  }
 ],
 "metadata": {
  "kernelspec": {
   "display_name": "Python 3.10.12 ('dgl_ptm')",
   "language": "python",
   "name": "python3"
  },
  "language_info": {
   "codemirror_mode": {
    "name": "ipython",
    "version": 3
   },
   "file_extension": ".py",
   "mimetype": "text/x-python",
   "name": "python",
   "nbconvert_exporter": "python",
   "pygments_lexer": "ipython3",
   "version": "3.10.13"
  },
  "orig_nbformat": 4,
  "vscode": {
   "interpreter": {
    "hash": "1477468427ea6fe7f3c6460347a373a01cc68daae53faf91f7d9fb578ee805b7"
   }
  }
 },
 "nbformat": 4,
 "nbformat_minor": 2
}

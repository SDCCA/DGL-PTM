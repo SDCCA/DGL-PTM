{
 "cells": [
  {
   "cell_type": "code",
   "execution_count": 1,
   "metadata": {},
   "outputs": [
    {
     "name": "stdout",
     "output_type": "stream",
     "text": [
      "Intel MKL WARNING: Support of Intel(R) Streaming SIMD Extensions 4.2 (Intel(R) SSE4.2) enabled only processors has been deprecated. Intel oneAPI Math Kernel Library 2025.0 will require Intel(R) Advanced Vector Extensions (Intel(R) AVX) instructions.\n",
      "Intel MKL WARNING: Support of Intel(R) Streaming SIMD Extensions 4.2 (Intel(R) SSE4.2) enabled only processors has been deprecated. Intel oneAPI Math Kernel Library 2025.0 will require Intel(R) Advanced Vector Extensions (Intel(R) AVX) instructions.\n"
     ]
    }
   ],
   "source": [
    "import sys\n",
    "sys.path.append('/Users/victoria/Documents/Scripts/Python/DGL-PTM/dgl_ptm')\n",
    "import torch\n",
    "import dgl_ptm\n",
    "import os\n",
    "os.environ[\"DGLBACKEND\"] = \"pytorch\"\n"
   ]
  },
  {
   "cell_type": "markdown",
   "metadata": {},
   "source": [
    "This version features the desired income generation function; a fitted function is used as a decent placeholder to determine consumption. There are many aspects (such as optimization and personal perception of theta) which will be required in future but are currently not utilized. With the model in its current arrangement, the agents stop trading and stabillize after ~7 time steps. I have included a commented-out section at the bottom which uses matplotlib pyplot if you wish to get a quick look.\n",
    "The current version of the config.yaml file is not formatted correctly and should not be used as is."
   ]
  },
  {
   "cell_type": "code",
   "execution_count": 2,
   "metadata": {},
   "outputs": [],
   "source": [
    "model = dgl_ptm.PovertyTrapModel(model_identifier='testwithnn')"
   ]
  },
  {
   "cell_type": "code",
   "execution_count": 3,
   "metadata": {},
   "outputs": [
    {
     "name": "stdout",
     "output_type": "stream",
     "text": [
      "{'npath': './agent_data.zarr', 'epath': './edge_data', 'ndata': ['all_except', ['a_table']], 'edata': ['all'], 'mode': 'xarray', 'wealth_method': 'singular_transfer', 'income_method': 'income_generation', 'tech_gamma': tensor([0.3000, 0.3500, 0.4500]), 'tech_cost': tensor([0.0000, 0.1500, 0.6500]), 'consume_method': 'estimated_bellman_consumption', 'nn_path': '/Users/victoria/Documents/Scripts/Python/DGL-PTM/DGL_testing/nn_data/both_PudgeFiveLayer_1024/0409_175055/model_best.pth', 'adapt_m': tensor([0.0000, 0.5000, 0.9000]), 'adapt_cost': tensor([0.0000, 0.2500, 0.4500]), 'depreciation': 0.6, 'discount': 0.95, 'm_theta_dist': {'type': 'multinomial', 'parameters': [[0.01, 0.1, 0.79, 0.1], [0.1, 0.5, 0.8, 1]], 'round': False, 'decimals': None}, 'del_prob': 0.05, 'ratio': 0.1, 'weight_a': 0.69, 'weight_b': 35, 'truncation_weight': 1e-10, 'step_type': 'custom'}\n"
     ]
    }
   ],
   "source": [
    "model.set_model_parameters(default=False, **{'npath':'./agent_data_s.zarr','number_agents': 10000,'step_target': 10, 'steering_parameters': {'npath':'./agent_data.zarr',\n",
    "                            'epath':'./edge_data', \n",
    "                            'ndata':['all_except',['a_table']],\n",
    "                            'edata':['all'],\n",
    "                            'mode':'xarray',\n",
    "                            'wealth_method':'singular_transfer',\n",
    "                            'income_method':'income_generation',\n",
    "                            'tech_gamma': torch.tensor([0.3,0.35,0.45]),\n",
    "                            'tech_cost': torch.tensor([0,0.15,0.65]),\n",
    "                            'consume_method':'estimated_bellman_consumption',\n",
    "                            'nn_path':'/Users/victoria/Documents/Scripts/Python/DGL-PTM/DGL_testing/nn_data/both_PudgeFiveLayer_1024/0409_175055/model_best.pth',\n",
    "                            'adapt_m':torch.tensor([0,0.5,0.9]),\n",
    "                            'adapt_cost':torch.tensor([0,0.25,0.45]),\n",
    "                            'depreciation': 0.6,\n",
    "                            'discount': 0.95,\n",
    "                            'm_theta_dist': {'type':'multinomial','parameters':[[0.01 ,0.1, 0.79, 0.1],[0.1, 0.5, 0.8, 1]],'round':False,'decimals':None},\n",
    "                            'del_prob':0.05,\n",
    "                            'ratio':0.1,\n",
    "                            'weight_a':0.69,\n",
    "                            'weight_b':35, \n",
    "                            'truncation_weight':1.0e-10,\n",
    "                            'step_type': 'custom'}})\n",
    "\n",
    "#print(model.number_agents)  \n",
    "#print(model.nn_path)  \n",
    "print(model.steering_parameters)                        "
   ]
  },
  {
   "cell_type": "code",
   "execution_count": 4,
   "metadata": {},
   "outputs": [],
   "source": [
    "model.initialize_model()"
   ]
  },
  {
   "cell_type": "code",
   "execution_count": 5,
   "metadata": {},
   "outputs": [
    {
     "name": "stdout",
     "output_type": "stream",
     "text": [
      "performing step 1 of 10\n",
      "Initial k\n",
      "tensor([9.0907, 6.9009, 4.6598,  ..., 9.6247, 0.1081, 2.8128])\n",
      "dst node 9517 is an end node\n",
      "no FoF link possible for src dst nodes 5725 and 9517.\n",
      "created 0 of 1 links requested\n",
      "entered load_consumption_model\n",
      "loaded info\n",
      "loaded state dict\n",
      " went forward, writing values\n",
      "Cleaning output and checking for violations\n",
      "Agents in violation: 1033\n",
      "...because of i_a: 0\n",
      "gets to data collection\n",
      "performing step 2 of 10\n",
      "Initial k\n",
      "tensor([9.0907, 6.9009, 4.6598,  ..., 9.6247, 0.1081, 2.8128])\n",
      "creating bidirectional link between nodes 7390 (src) and tensor([22]) (dst)\n",
      "created 1 of 1 links requested\n",
      "entered load_consumption_model\n",
      "loaded info\n",
      "loaded state dict\n",
      " went forward, writing values\n",
      "Cleaning output and checking for violations\n",
      "Agents in violation: 107\n",
      "...because of i_a: 0\n",
      "gets to data collection\n",
      "performing step 3 of 10\n",
      "Initial k\n",
      "tensor([4.7028, 3.9098, 1.9354,  ..., 0.0487, 0.1699, 2.0149])\n",
      "dst node 4736 is an end node\n",
      "no FoF link possible for src dst nodes 1329 and 4736.\n",
      "created 0 of 1 links requested\n",
      "entered load_consumption_model\n",
      "loaded info\n",
      "loaded state dict\n",
      " went forward, writing values\n",
      "Cleaning output and checking for violations\n",
      "Agents in violation: 205\n",
      "...because of i_a: 0\n",
      "gets to data collection\n",
      "performing step 4 of 10\n",
      "Initial k\n",
      "tensor([1.7285, 2.0121, 1.2347,  ..., 0.1825, 0.2870, 1.6846])\n",
      "creating bidirectional link between nodes 1732 (src) and tensor([3254]) (dst)\n",
      "created 1 of 1 links requested\n",
      "entered load_consumption_model\n",
      "loaded info\n",
      "loaded state dict\n",
      " went forward, writing values\n",
      "Cleaning output and checking for violations\n",
      "Agents in violation: 335\n",
      "...because of i_a: 0\n",
      "gets to data collection\n",
      "performing step 5 of 10\n",
      "Initial k\n",
      "tensor([0.8527, 0.9859, 0.7635,  ..., 0.4243, 0.0062, 1.5616])\n",
      "creating bidirectional link between nodes 1708 (src) and tensor([2446]) (dst)\n",
      "created 1 of 1 links requested\n",
      "entered load_consumption_model\n",
      "loaded info\n",
      "loaded state dict\n",
      " went forward, writing values\n",
      "Cleaning output and checking for violations\n",
      "Agents in violation: 316\n",
      "...because of i_a: 0\n",
      "gets to data collection\n",
      "performing step 6 of 10\n",
      "Initial k\n",
      "tensor([0.7527, 0.5456, 0.6012,  ..., 0.6540, 0.0652, 1.5271])\n",
      "creating bidirectional link between nodes 418 (src) and tensor([8280]) (dst)\n",
      "created 1 of 1 links requested\n",
      "entered load_consumption_model\n",
      "loaded info\n",
      "loaded state dict\n",
      " went forward, writing values\n",
      "Cleaning output and checking for violations\n",
      "Agents in violation: 297\n",
      "...because of i_a: 0\n",
      "gets to data collection\n",
      "performing step 7 of 10\n",
      "Initial k\n",
      "tensor([0.6649, 0.6427, 0.4615,  ..., 0.6647, 0.0191, 0.1887])\n",
      "creating bidirectional link between nodes 4114 (src) and tensor([5264]) (dst)\n",
      "created 1 of 1 links requested\n",
      "entered load_consumption_model\n",
      "loaded info\n",
      "loaded state dict\n",
      " went forward, writing values\n",
      "Cleaning output and checking for violations\n",
      "Agents in violation: 517\n",
      "...because of i_a: 0\n",
      "gets to data collection\n",
      "performing step 8 of 10\n",
      "Initial k\n",
      "tensor([0.9913, 1.0170, 0.6048,  ..., 0.4455, 0.1131, 0.3926])\n",
      "creating bidirectional link between nodes 2739 (src) and tensor([724]) (dst)\n",
      "created 1 of 1 links requested\n",
      "entered load_consumption_model\n",
      "loaded info\n",
      "loaded state dict\n",
      " went forward, writing values\n",
      "Cleaning output and checking for violations\n",
      "Agents in violation: 663\n",
      "...because of i_a: 0\n",
      "gets to data collection\n",
      "performing step 9 of 10\n",
      "Initial k\n",
      "tensor([0.4948, 0.9002, 0.2682,  ..., 0.5471, 0.1512, 0.4598])\n",
      "creating bidirectional link between nodes 6537 (src) and tensor([9624]) (dst)\n",
      "created 1 of 1 links requested\n",
      "entered load_consumption_model\n",
      "loaded info\n",
      "loaded state dict\n",
      " went forward, writing values\n",
      "Cleaning output and checking for violations\n",
      "Agents in violation: 535\n",
      "...because of i_a: 0\n",
      "gets to data collection\n",
      "performing step 10 of 10\n",
      "Initial k\n",
      "tensor([0.1630, 0.8070, 0.0069,  ..., 0.2143, 0.1979, 0.3931])\n",
      "dst node 9144 is an end node\n",
      "no FoF link possible for src dst nodes 7 and 9144.\n",
      "created 0 of 1 links requested\n",
      "entered load_consumption_model\n",
      "loaded info\n",
      "loaded state dict\n",
      " went forward, writing values\n",
      "Cleaning output and checking for violations\n",
      "Agents in violation: 616\n",
      "...because of i_a: 0\n",
      "gets to data collection\n"
     ]
    }
   ],
   "source": [
    "model.run()\n",
    "\n"
   ]
  },
  {
   "cell_type": "code",
   "execution_count": 7,
   "metadata": {},
   "outputs": [
    {
     "ename": "ModuleNotFoundError",
     "evalue": "No module named 'matplotlib'",
     "output_type": "error",
     "traceback": [
      "\u001b[0;31m---------------------------------------------------------------------------\u001b[0m",
      "\u001b[0;31mModuleNotFoundError\u001b[0m                       Traceback (most recent call last)",
      "Cell \u001b[0;32mIn[7], line 4\u001b[0m\n\u001b[1;32m      2\u001b[0m \u001b[38;5;28;01mimport\u001b[39;00m \u001b[38;5;21;01mzarr\u001b[39;00m\n\u001b[1;32m      3\u001b[0m \u001b[38;5;28;01mimport\u001b[39;00m \u001b[38;5;21;01mpandas\u001b[39;00m \u001b[38;5;28;01mas\u001b[39;00m \u001b[38;5;21;01mpd\u001b[39;00m\n\u001b[0;32m----> 4\u001b[0m \u001b[38;5;28;01mimport\u001b[39;00m \u001b[38;5;21;01mmatplotlib\u001b[39;00m\u001b[38;5;21;01m.\u001b[39;00m\u001b[38;5;21;01mpyplot\u001b[39;00m \u001b[38;5;28;01mas\u001b[39;00m \u001b[38;5;21;01mplt\u001b[39;00m\n\u001b[1;32m      5\u001b[0m \u001b[38;5;28;01mimport\u001b[39;00m \u001b[38;5;21;01mmatplotlib\u001b[39;00m\u001b[38;5;21;01m.\u001b[39;00m\u001b[38;5;21;01manimation\u001b[39;00m \u001b[38;5;28;01mas\u001b[39;00m \u001b[38;5;21;01manimation\u001b[39;00m\n\u001b[1;32m      9\u001b[0m agent_data \u001b[38;5;241m=\u001b[39m zarr\u001b[38;5;241m.\u001b[39mopen(\u001b[38;5;124m'\u001b[39m\u001b[38;5;124m/Users/victoria/Documents/Scripts/Python/DGL-PTM/DGL_testing/agent_data.zarr\u001b[39m\u001b[38;5;124m'\u001b[39m, mode\u001b[38;5;241m=\u001b[39m\u001b[38;5;124m'\u001b[39m\u001b[38;5;124mr\u001b[39m\u001b[38;5;124m'\u001b[39m)\n",
      "\u001b[0;31mModuleNotFoundError\u001b[0m: No module named 'matplotlib'"
     ]
    }
   ],
   "source": [
    "'''\n",
    "# try to see something happening\n",
    "import zarr\n",
    "import pandas as pd\n",
    "import matplotlib.pyplot as plt\n",
    "import matplotlib.animation as animation\n",
    "\n",
    "\n",
    "\n",
    "agent_data = zarr.open('/Users/victoria/Documents/Scripts/Python/DGL-PTM/DGL_testing/agent_data.zarr', mode='r')\n",
    "alpha=pd.DataFrame(agent_data['alpha'])\n",
    "net_trade=pd.DataFrame(agent_data['net_trade'])\n",
    "k=pd.DataFrame(agent_data['wealth'])\n",
    "\n",
    "fig=plt.figure()\n",
    "plt.xlabel(\"α\")\n",
    "plt.ylabel(\"$k_{t}$\")\n",
    "#xlims=[0.8,OGdata.loc[TimeSample,\"alpha\"].max()]\n",
    "xlims=[0.8,1.5]\n",
    "\n",
    "ylims=[0,10]\n",
    "#ylims=[0,OGdata.loc[TimeSample,\"k_t\"].max()]\n",
    "\n",
    "fig.suptitle(f\"k$_{{{'t'}}}$ v.s. α at Time Step {0}\")\n",
    "\n",
    "\n",
    "\n",
    "def animate3(i,alpha, k,net_trade, xlim,ylim):\n",
    "\n",
    "    plt.clf()\n",
    "    fig.suptitle(f\"k$_{{{'t'}}}$ v.s. α at Time Step {i}\")\n",
    "    plt.xlabel(\"α\")\n",
    "    plt.ylabel(\"$k_{t}$\")\n",
    "    pointart=plt.scatter(alpha[i], k[i])\n",
    "    plt.xlim(xlim)\n",
    "    plt.ylim(ylim)\n",
    "    snapshot=str(f\"Net Traded:{net_trade[i].mean()}\")\n",
    "    fig.text(0.05, 0.021, snapshot,fontsize=10, bbox=dict(fc=\"white\", ec=\"white\"))\n",
    "\n",
    "\n",
    "\n",
    "\n",
    "\n",
    "points=plt.scatter(alpha[0], k[0])\n",
    "    #hue=\"i_a\", \n",
    "    #palette=[\"b\", \"r\",\"#7f7f7f\"], \n",
    "\n",
    "plt.xlim(xlims)\n",
    "plt.ylim(ylims)\n",
    "\n",
    "anim3 = animation.FuncAnimation(fig, animate3, frames=k.shape[1], interval=2000, blit=False, fargs=(alpha,k,net_trade,xlims,ylims,)) \n",
    "\n",
    "\n",
    "\n",
    "plt.show()\n",
    "'''"
   ]
  }
 ],
 "metadata": {
  "kernelspec": {
   "display_name": "Python 3.10.12 ('dgl_ptm')",
   "language": "python",
   "name": "python3"
  },
  "language_info": {
   "codemirror_mode": {
    "name": "ipython",
    "version": 3
   },
   "file_extension": ".py",
   "mimetype": "text/x-python",
   "name": "python",
   "nbconvert_exporter": "python",
   "pygments_lexer": "ipython3",
   "version": "3.10.13"
  },
  "orig_nbformat": 4,
  "vscode": {
   "interpreter": {
    "hash": "1477468427ea6fe7f3c6460347a373a01cc68daae53faf91f7d9fb578ee805b7"
   }
  }
 },
 "nbformat": 4,
 "nbformat_minor": 2
}

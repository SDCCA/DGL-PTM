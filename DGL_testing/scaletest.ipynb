{
 "cells": [
  {
   "cell_type": "code",
   "execution_count": 1,
   "metadata": {},
   "outputs": [],
   "source": [
    "\n",
    "import torch\n",
    "import dgl_ptm\n",
    "import os\n",
    "os.environ[\"DGLBACKEND\"] = \"pytorch\"\n"
   ]
  },
  {
   "cell_type": "markdown",
   "metadata": {},
   "source": [
    "This version features the desired income generation function; a fitted function is used as a decent placeholder to determine consumption. There are many aspects (such as optimization and personal perception of theta) which will be required in future but are currently not utilized. With the model in its current arrangement, the agents stop trading and stabillize after ~7 time steps. I have included a commented-out section at the bottom which uses matplotlib pyplot if you wish to get a quick look.\n",
    "The current version of the config.yaml file is not formatted correctly and should not be used as is."
   ]
  },
  {
   "cell_type": "code",
   "execution_count": 2,
   "metadata": {},
   "outputs": [],
   "source": [
    "model = dgl_ptm.PovertyTrapModel(model_identifier='testwithpseudo')"
   ]
  },
  {
   "cell_type": "code",
   "execution_count": 3,
   "metadata": {},
   "outputs": [
    {
     "name": "stdout",
     "output_type": "stream",
     "text": [
      "100\n",
      "{'npath': './agent_data.zarr', 'epath': './edge_data', 'ndata': ['all_except', ['a_table']], 'edata': ['all'], 'mode': 'xarray', 'wealth_method': 'singular_transfer', 'income_method': 'default', 'capital_update_method': 'default', 'consume_method': 'default', 'perception_method': 'default', 'tech_gamma': tensor([0.3000, 0.3500, 0.4500]), 'tech_cost': tensor([0.0000, 0.1500, 0.6500]), 'adapt_m': tensor([0.0000, 0.5000, 0.9000]), 'adapt_cost': tensor([0.0000, 0.2500, 0.4500]), 'depreciation': 0.6, 'discount': 0.95, 'm_theta_dist': {'type': 'multinomial', 'parameters': [[0.01, 0.1, 0.79, 0.1], [0.1, 0.5, 0.8, 1]], 'round': False, 'decimals': None}, 'del_prob': 0.05, 'ratio': 0.1, 'weight_a': 0.69, 'weight_b': 35, 'truncation_weight': 1e-10, 'step_type': 'custom'}\n"
     ]
    }
   ],
   "source": [
    "model.set_model_parameters(default=False, **{'step_target': 2,'steering_parameters': {'npath':'./agent_data.zarr',\n",
    "                            'epath':'./edge_data', \n",
    "                            'ndata':['all_except',['a_table']],\n",
    "                            'edata':['all'],\n",
    "                            'mode':'xarray',\n",
    "                            'wealth_method':'singular_transfer',\n",
    "                            'income_method':'default',\n",
    "                            'capital_update_method':'default',\n",
    "                            'consume_method':'default',\n",
    "                            'perception_method':'default',\n",
    "                            'tech_gamma': torch.tensor([0.3,0.35,0.45]),\n",
    "                            'tech_cost': torch.tensor([0,0.15,0.65]),\n",
    "                            'adapt_m':torch.tensor([0,0.5,0.9]),\n",
    "                            'adapt_cost':torch.tensor([0,0.25,0.45]),\n",
    "                            'depreciation': 0.6,\n",
    "                            'discount': 0.95,\n",
    "                            'm_theta_dist': {'type':'multinomial','parameters':[[0.01 ,0.1, 0.79, 0.1],[0.1, 0.5, 0.8, 1]],'round':False,'decimals':None},\n",
    "                            'del_prob':0.05,\n",
    "                            'ratio':0.1,\n",
    "                            'weight_a':0.69,\n",
    "                            'weight_b':35, \n",
    "                            'truncation_weight':1.0e-10,\n",
    "                            'step_type': 'custom'}})\n",
    "\n",
    "print(model.number_agents)  \n",
    "print(model.steering_parameters)                        "
   ]
  },
  {
   "cell_type": "code",
   "execution_count": 4,
   "metadata": {},
   "outputs": [],
   "source": [
    "model.initialize_model()"
   ]
  },
  {
   "cell_type": "code",
   "execution_count": 5,
   "metadata": {},
   "outputs": [
    {
     "name": "stdout",
     "output_type": "stream",
     "text": [
      "performing step 1 of 2\n",
      "creating bidirectional link between nodes 97 (src) and tensor([16]) (dst)\n",
      "created 1 of 1 links requested\n",
      "running perception update\n",
      "running consume update\n",
      "running income update\n",
      "performing step 2 of 2\n",
      "running capital update\n",
      "dst node 90 is an end node\n",
      "no FoF link possible for src dst nodes 16 and 90.\n",
      "created 0 of 1 links requested\n",
      "running perception update\n",
      "running consume update\n",
      "running income update\n"
     ]
    }
   ],
   "source": [
    "model.run()\n",
    "\n"
   ]
  },
  {
   "cell_type": "code",
   "execution_count": 43,
   "metadata": {},
   "outputs": [
    {
     "data": {
      "text/plain": [
       "'\\n# try to see something happening\\nimport zarr\\nimport pandas as pd\\nimport matplotlib.pyplot as plt\\nimport matplotlib.animation as animation\\n\\n\\n\\nagent_data = zarr.open(\\'/Users/victoria/Documents/Scripts/Python/DGL-PTM/DGL_testing/agent_data.zarr\\', mode=\\'r\\')\\nalpha=pd.DataFrame(agent_data[\\'alpha\\'])\\nnet_trade=pd.DataFrame(agent_data[\\'net_trade\\'])\\nk=pd.DataFrame(agent_data[\\'wealth\\'])\\n\\nfig=plt.figure()\\nplt.xlabel(\"α\")\\nplt.ylabel(\"$k_{t}$\")\\n#xlims=[0.8,OGdata.loc[TimeSample,\"alpha\"].max()]\\nxlims=[0.8,1.5]\\n\\nylims=[0,10]\\n#ylims=[0,OGdata.loc[TimeSample,\"k_t\"].max()]\\n\\nfig.suptitle(f\"k$_{{{\\'t\\'}}}$ v.s. α at Time Step {0}\")\\n\\n\\n\\ndef animate3(i,alpha, k,net_trade, xlim,ylim):\\n\\n    plt.clf()\\n    fig.suptitle(f\"k$_{{{\\'t\\'}}}$ v.s. α at Time Step {i}\")\\n    plt.xlabel(\"α\")\\n    plt.ylabel(\"$k_{t}$\")\\n    pointart=plt.scatter(alpha[i], k[i])\\n    plt.xlim(xlim)\\n    plt.ylim(ylim)\\n    snapshot=str(f\"Net Traded:{net_trade[i].mean()}\")\\n    fig.text(0.05, 0.021, snapshot,fontsize=10, bbox=dict(fc=\"white\", ec=\"white\"))\\n\\n\\n\\n\\n\\npoints=plt.scatter(alpha[0], k[0])\\n    #hue=\"i_a\", \\n    #palette=[\"b\", \"r\",\"#7f7f7f\"], \\n\\nplt.xlim(xlims)\\nplt.ylim(ylims)\\n\\nanim3 = animation.FuncAnimation(fig, animate3, frames=k.shape[1], interval=2000, blit=False, fargs=(alpha,k,net_trade,xlims,ylims,)) \\n\\n\\n\\nplt.show()\\n'"
      ]
     },
     "execution_count": 43,
     "metadata": {},
     "output_type": "execute_result"
    }
   ],
   "source": [
    "'''\n",
    "# try to see something happening\n",
    "import zarr\n",
    "import pandas as pd\n",
    "import matplotlib.pyplot as plt\n",
    "import matplotlib.animation as animation\n",
    "\n",
    "\n",
    "\n",
    "agent_data = zarr.open('/Users/victoria/Documents/Scripts/Python/DGL-PTM/DGL_testing/agent_data.zarr', mode='r')\n",
    "alpha=pd.DataFrame(agent_data['alpha'])\n",
    "net_trade=pd.DataFrame(agent_data['net_trade'])\n",
    "k=pd.DataFrame(agent_data['wealth'])\n",
    "\n",
    "fig=plt.figure()\n",
    "plt.xlabel(\"α\")\n",
    "plt.ylabel(\"$k_{t}$\")\n",
    "#xlims=[0.8,OGdata.loc[TimeSample,\"alpha\"].max()]\n",
    "xlims=[0.8,1.5]\n",
    "\n",
    "ylims=[0,10]\n",
    "#ylims=[0,OGdata.loc[TimeSample,\"k_t\"].max()]\n",
    "\n",
    "fig.suptitle(f\"k$_{{{'t'}}}$ v.s. α at Time Step {0}\")\n",
    "\n",
    "\n",
    "\n",
    "def animate3(i,alpha, k,net_trade, xlim,ylim):\n",
    "\n",
    "    plt.clf()\n",
    "    fig.suptitle(f\"k$_{{{'t'}}}$ v.s. α at Time Step {i}\")\n",
    "    plt.xlabel(\"α\")\n",
    "    plt.ylabel(\"$k_{t}$\")\n",
    "    pointart=plt.scatter(alpha[i], k[i])\n",
    "    plt.xlim(xlim)\n",
    "    plt.ylim(ylim)\n",
    "    snapshot=str(f\"Net Traded:{net_trade[i].mean()}\")\n",
    "    fig.text(0.05, 0.021, snapshot,fontsize=10, bbox=dict(fc=\"white\", ec=\"white\"))\n",
    "\n",
    "\n",
    "\n",
    "\n",
    "\n",
    "points=plt.scatter(alpha[0], k[0])\n",
    "    #hue=\"i_a\", \n",
    "    #palette=[\"b\", \"r\",\"#7f7f7f\"], \n",
    "\n",
    "plt.xlim(xlims)\n",
    "plt.ylim(ylims)\n",
    "\n",
    "anim3 = animation.FuncAnimation(fig, animate3, frames=k.shape[1], interval=2000, blit=False, fargs=(alpha,k,net_trade,xlims,ylims,)) \n",
    "\n",
    "\n",
    "\n",
    "plt.show()\n",
    "'''"
   ]
  }
 ],
 "metadata": {
  "kernelspec": {
   "display_name": "Python 3.10.12 ('dgl_ptm')",
   "language": "python",
   "name": "python3"
  },
  "language_info": {
   "codemirror_mode": {
    "name": "ipython",
    "version": 3
   },
   "file_extension": ".py",
   "mimetype": "text/x-python",
   "name": "python",
   "nbconvert_exporter": "python",
   "pygments_lexer": "ipython3",
   "version": "3.10.12"
  },
  "orig_nbformat": 4,
  "vscode": {
   "interpreter": {
    "hash": "1477468427ea6fe7f3c6460347a373a01cc68daae53faf91f7d9fb578ee805b7"
   }
  }
 },
 "nbformat": 4,
 "nbformat_minor": 2
}

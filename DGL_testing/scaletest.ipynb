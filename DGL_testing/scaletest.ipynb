{
 "cells": [
  {
   "cell_type": "code",
   "execution_count": 28,
   "metadata": {},
   "outputs": [],
   "source": [
    "import sys\n",
    "sys.path.append('/Users/victoria/Documents/Scripts/Python/DGL-PTM/dgl_ptm')\n",
    "import torch\n",
    "import dgl_ptm\n",
    "import os\n",
    "os.environ[\"DGLBACKEND\"] = \"pytorch\"\n"
   ]
  },
  {
   "cell_type": "markdown",
   "metadata": {},
   "source": [
    "This version features the desired income generation function; a fitted function is used as a decent placeholder to determine consumption. There are many aspects (such as optimization and personal perception of theta) which will be required in future but are currently not utilized. With the model in its current arrangement, the agents stop trading and stabillize after ~7 time steps. I have included a commented-out section at the bottom which uses matplotlib pyplot if you wish to get a quick look.\n",
    "The current version of the config.yaml file is not formatted correctly and should not be used as is."
   ]
  },
  {
   "cell_type": "code",
   "execution_count": 29,
   "metadata": {},
   "outputs": [],
   "source": [
    "model = dgl_ptm.PovertyTrapModel(model_identifier='testwithnn')"
   ]
  },
  {
   "cell_type": "code",
   "execution_count": 30,
   "metadata": {},
   "outputs": [
    {
     "name": "stdout",
     "output_type": "stream",
     "text": [
      "{'npath': './agent_data_4.zarr', 'epath': './edge_data_4', 'ndata': ['all_except', ['a_table']], 'edata': ['all'], 'mode': 'xarray', 'wealth_method': 'weighted_transfer', 'income_method': 'income_generation', 'tech_gamma': tensor([0.3000, 0.3500, 0.4500]), 'tech_cost': tensor([0.0000, 0.1500, 0.6500]), 'consume_method': 'estimated_bellman_consumption', 'nn_path': '/Users/victoria/Documents/Scripts/Python/DGL-PTM/DGL_testing/nn_data/both_PudgeSixLayer_1024/0409_190204/model_best.pth', 'adapt_m': tensor([0.0000, 0.5000, 0.9000]), 'adapt_cost': tensor([0.0000, 0.2500, 0.4500]), 'depreciation': 0.6, 'discount': 0.95, 'm_theta_dist': {'type': 'multinomial', 'parameters': [[0.01, 0.1, 0.79, 0.1], [0.1, 0.5, 0.8, 1]], 'round': False, 'decimals': None}, 'm_attach_dist': {'type': 'uniform', 'parameters': [0.001, 1], 'round': False, 'decimals': None}, 'del_prob': 0.04, 'ratio': 0.2, 'weight_a': 0.69, 'weight_b': 5, 'truncation_weight': 1e-10, 'step_type': 'custom'}\n"
     ]
    }
   ],
   "source": [
    "model.set_model_parameters(default=False, **{'number_agents': 200000,'seed':1, 'step_target': 100,    \n",
    "'capital_dist': {'type':'uniform','parameters':[0.1,10.],'round':False,'decimals':None}, \n",
    " 'steering_parameters': {'npath':'./agent_data_25.zarr',\n",
    "                            'epath':'./edge_data_25', \n",
    "                            'ndata':['all_except',['a_table']],\n",
    "                            'edata':['all'],\n",
    "                            'mode':'xarray',\n",
    "                            'wealth_method':'weighted_transfer',\n",
    "                            'income_method':'income_generation',\n",
    "                            'tech_gamma': torch.tensor([0.3,0.35,0.45]),\n",
    "                            'tech_cost': torch.tensor([0,0.15,0.65]),\n",
    "                            'consume_method':'estimated_bellman_consumption',\n",
    "                            #'nn_path':'/Users/victoria/Documents/Scripts/Python/DGL-PTM/DGL_testing/nn_data/both_PudgeFiveLayer_1024/0409_175055/model_best.pth',\n",
    "                            'nn_path':'/Users/victoria/Documents/Scripts/Python/DGL-PTM/DGL_testing/nn_data/both_PudgeSixLayer_1024/0409_190204/model_best.pth',\n",
    "                            'adapt_m':torch.tensor([0,0.5,0.9]),\n",
    "                            'adapt_cost':torch.tensor([0,0.25,0.45]),\n",
    "                            'depreciation': 0.6,\n",
    "                            'discount': 0.95,\n",
    "                            'm_theta_dist': {'type':'multinomial','parameters':[[0.01 ,0.1, 0.79, 0.1],[0.1, 0.5, 0.8, 1]],'round':False,'decimals':None},\n",
    "                            'm_attach_dist': {'type':'uniform','parameters':[0.001,1],'round':False,'decimals':None},\n",
    "                            'del_prob':0.025,\n",
    "                            'ratio':0.2,\n",
    "                            'weight_a':0.69,\n",
    "                            'weight_b':5, \n",
    "                            'truncation_weight':1.0e-10,\n",
    "                            'step_type': 'custom'}})\n",
    "\n",
    "#print(model.number_agents)  \n",
    "#print(model.nn_path)  \n",
    "print(model.steering_parameters)                        "
   ]
  },
  {
   "cell_type": "code",
   "execution_count": 31,
   "metadata": {},
   "outputs": [
    {
     "name": "stdout",
     "output_type": "stream",
     "text": [
      "1 42\n",
      "Created graph with 200000 agents.\n"
     ]
    }
   ],
   "source": [
    "model.initialize_model()"
   ]
  },
  {
   "cell_type": "code",
   "execution_count": 34,
   "metadata": {},
   "outputs": [
    {
     "name": "stdout",
     "output_type": "stream",
     "text": [
      "performing step 14 of 100\n"
     ]
    },
    {
     "ename": "RuntimeError",
     "evalue": "execution of step failed for step 13",
     "output_type": "error",
     "traceback": [
      "\u001b[0;31m---------------------------------------------------------------------------\u001b[0m",
      "\u001b[0;31mKeyboardInterrupt\u001b[0m                         Traceback (most recent call last)",
      "File \u001b[0;32m~/Documents/Scripts/Python/DGL-PTM/dgl_ptm/dgl_ptm/model/initialize_model.py:322\u001b[0m, in \u001b[0;36mPovertyTrapModel.step\u001b[0;34m(self)\u001b[0m\n\u001b[1;32m    321\u001b[0m \u001b[38;5;28;01mtry\u001b[39;00m:\n\u001b[0;32m--> 322\u001b[0m     \u001b[43mptm_step\u001b[49m\u001b[43m(\u001b[49m\u001b[38;5;28;43mself\u001b[39;49m\u001b[38;5;241;43m.\u001b[39;49m\u001b[43mmodel_graph\u001b[49m\u001b[43m,\u001b[49m\u001b[43m \u001b[49m\u001b[38;5;28;43mself\u001b[39;49m\u001b[38;5;241;43m.\u001b[39;49m\u001b[43mdevice\u001b[49m\u001b[43m,\u001b[49m\u001b[43m \u001b[49m\u001b[38;5;28;43mself\u001b[39;49m\u001b[38;5;241;43m.\u001b[39;49m\u001b[43mstep_count\u001b[49m\u001b[43m,\u001b[49m\u001b[38;5;28;43mself\u001b[39;49m\u001b[38;5;241;43m.\u001b[39;49m\u001b[43msteering_parameters\u001b[49m\u001b[43m)\u001b[49m\n\u001b[1;32m    323\u001b[0m     \u001b[38;5;28mself\u001b[39m\u001b[38;5;241m.\u001b[39mstep_count \u001b[38;5;241m+\u001b[39m\u001b[38;5;241m=\u001b[39m\u001b[38;5;241m1\u001b[39m\n",
      "File \u001b[0;32m~/Documents/Scripts/Python/DGL-PTM/dgl_ptm/dgl_ptm/model/step.py:68\u001b[0m, in \u001b[0;36mptm_step\u001b[0;34m(agent_graph, device, timestep, params)\u001b[0m\n\u001b[1;32m     67\u001b[0m agent_update(agent_graph, params, method \u001b[38;5;241m=\u001b[39m\u001b[38;5;124m'\u001b[39m\u001b[38;5;124mincome\u001b[39m\u001b[38;5;124m'\u001b[39m)\n\u001b[0;32m---> 68\u001b[0m \u001b[43magent_update\u001b[49m\u001b[43m(\u001b[49m\u001b[43magent_graph\u001b[49m\u001b[43m,\u001b[49m\u001b[43m \u001b[49m\u001b[43mparams\u001b[49m\u001b[43m,\u001b[49m\u001b[43m \u001b[49m\u001b[43mdevice\u001b[49m\u001b[38;5;241;43m=\u001b[39;49m\u001b[43mdevice\u001b[49m\u001b[43m,\u001b[49m\u001b[43m \u001b[49m\u001b[43mmethod\u001b[49m\u001b[43m \u001b[49m\u001b[38;5;241;43m=\u001b[39;49m\u001b[38;5;124;43m'\u001b[39;49m\u001b[38;5;124;43mconsumption\u001b[39;49m\u001b[38;5;124;43m'\u001b[39;49m\u001b[43m)\u001b[49m\n\u001b[1;32m     70\u001b[0m \u001b[38;5;66;03m#Weight update\u001b[39;00m\n",
      "File \u001b[0;32m~/Documents/Scripts/Python/DGL-PTM/dgl_ptm/dgl_ptm/agent/agent_update.py:16\u001b[0m, in \u001b[0;36magent_update\u001b[0;34m(model_graph, model_params, device, timestep, method)\u001b[0m\n\u001b[1;32m     15\u001b[0m \u001b[38;5;28;01melif\u001b[39;00m method \u001b[38;5;241m==\u001b[39m \u001b[38;5;124m'\u001b[39m\u001b[38;5;124mconsumption\u001b[39m\u001b[38;5;124m'\u001b[39m:\n\u001b[0;32m---> 16\u001b[0m     \u001b[43m_agent_consumption_update\u001b[49m\u001b[43m(\u001b[49m\u001b[43mmodel_graph\u001b[49m\u001b[43m,\u001b[49m\u001b[43m \u001b[49m\u001b[43mmodel_params\u001b[49m\u001b[43m,\u001b[49m\u001b[43mdevice\u001b[49m\u001b[43m)\u001b[49m\n\u001b[1;32m     17\u001b[0m \u001b[38;5;28;01melif\u001b[39;00m method \u001b[38;5;241m==\u001b[39m \u001b[38;5;124m'\u001b[39m\u001b[38;5;124mincome\u001b[39m\u001b[38;5;124m'\u001b[39m:\n",
      "File \u001b[0;32m~/Documents/Scripts/Python/DGL-PTM/dgl_ptm/dgl_ptm/agent/agent_update.py:57\u001b[0m, in \u001b[0;36m_agent_consumption_update\u001b[0;34m(model_graph, model_params, device)\u001b[0m\n\u001b[1;32m     56\u001b[0m \u001b[38;5;250m\u001b[39m\u001b[38;5;124;03m'''Updates agent consumption based on method specified in model parameters.'''\u001b[39;00m\n\u001b[0;32m---> 57\u001b[0m \u001b[43mwealth_consumption\u001b[49m\u001b[43m(\u001b[49m\u001b[43mmodel_graph\u001b[49m\u001b[43m,\u001b[49m\u001b[43m \u001b[49m\u001b[43mmodel_params\u001b[49m\u001b[43m,\u001b[49m\u001b[43m \u001b[49m\u001b[43mdevice\u001b[49m\u001b[43m,\u001b[49m\u001b[43m \u001b[49m\u001b[43mmethod\u001b[49m\u001b[38;5;241;43m=\u001b[39;49m\u001b[43mmodel_params\u001b[49m\u001b[43m[\u001b[49m\u001b[38;5;124;43m'\u001b[39;49m\u001b[38;5;124;43mconsume_method\u001b[39;49m\u001b[38;5;124;43m'\u001b[39;49m\u001b[43m]\u001b[49m\u001b[43m)\u001b[49m\n",
      "File \u001b[0;32m~/Documents/Scripts/Python/DGL-PTM/dgl_ptm/dgl_ptm/agent/wealth_consumption.py:19\u001b[0m, in \u001b[0;36mwealth_consumption\u001b[0;34m(model_graph, model_params, device, method)\u001b[0m\n\u001b[1;32m     18\u001b[0m \u001b[38;5;28;01melif\u001b[39;00m method \u001b[38;5;241m==\u001b[39m \u001b[38;5;124m'\u001b[39m\u001b[38;5;124mestimated_bellman_consumption\u001b[39m\u001b[38;5;124m'\u001b[39m:\n\u001b[0;32m---> 19\u001b[0m     \u001b[43m_nn_bellman_wealth_consumption\u001b[49m\u001b[43m(\u001b[49m\u001b[43mmodel_graph\u001b[49m\u001b[43m,\u001b[49m\u001b[43mmodel_params\u001b[49m\u001b[43m,\u001b[49m\u001b[43mdevice\u001b[49m\u001b[43m)\u001b[49m\n\u001b[1;32m     20\u001b[0m \u001b[38;5;28;01melse\u001b[39;00m:\n",
      "File \u001b[0;32m~/Documents/Scripts/Python/DGL-PTM/dgl_ptm/dgl_ptm/agent/wealth_consumption.py:240\u001b[0m, in \u001b[0;36m_nn_bellman_wealth_consumption\u001b[0;34m(model_graph, model_params, device)\u001b[0m\n\u001b[1;32m    238\u001b[0m \u001b[38;5;28;01mwith\u001b[39;00m torch\u001b[38;5;241m.\u001b[39mno_grad():\n\u001b[0;32m--> 240\u001b[0m     pred\u001b[38;5;241m=\u001b[39m\u001b[43mestimator\u001b[49m\u001b[43m(\u001b[49m\u001b[38;5;28;43minput\u001b[39;49m\u001b[43m)\u001b[49m\n\u001b[1;32m    242\u001b[0m \u001b[38;5;66;03m#print(\" went forward, writing values\")\u001b[39;00m\n",
      "File \u001b[0;32m~/opt/anaconda3/envs/dgl_ptm/lib/python3.10/site-packages/torch/nn/modules/module.py:1501\u001b[0m, in \u001b[0;36mModule._call_impl\u001b[0;34m(self, *args, **kwargs)\u001b[0m\n\u001b[1;32m   1498\u001b[0m \u001b[38;5;28;01mif\u001b[39;00m \u001b[38;5;129;01mnot\u001b[39;00m (\u001b[38;5;28mself\u001b[39m\u001b[38;5;241m.\u001b[39m_backward_hooks \u001b[38;5;129;01mor\u001b[39;00m \u001b[38;5;28mself\u001b[39m\u001b[38;5;241m.\u001b[39m_backward_pre_hooks \u001b[38;5;129;01mor\u001b[39;00m \u001b[38;5;28mself\u001b[39m\u001b[38;5;241m.\u001b[39m_forward_hooks \u001b[38;5;129;01mor\u001b[39;00m \u001b[38;5;28mself\u001b[39m\u001b[38;5;241m.\u001b[39m_forward_pre_hooks\n\u001b[1;32m   1499\u001b[0m         \u001b[38;5;129;01mor\u001b[39;00m _global_backward_pre_hooks \u001b[38;5;129;01mor\u001b[39;00m _global_backward_hooks\n\u001b[1;32m   1500\u001b[0m         \u001b[38;5;129;01mor\u001b[39;00m _global_forward_hooks \u001b[38;5;129;01mor\u001b[39;00m _global_forward_pre_hooks):\n\u001b[0;32m-> 1501\u001b[0m     \u001b[38;5;28;01mreturn\u001b[39;00m \u001b[43mforward_call\u001b[49m\u001b[43m(\u001b[49m\u001b[38;5;241;43m*\u001b[39;49m\u001b[43margs\u001b[49m\u001b[43m,\u001b[49m\u001b[43m \u001b[49m\u001b[38;5;241;43m*\u001b[39;49m\u001b[38;5;241;43m*\u001b[39;49m\u001b[43mkwargs\u001b[49m\u001b[43m)\u001b[49m\n\u001b[1;32m   1502\u001b[0m \u001b[38;5;66;03m# Do not call functions when jit is used\u001b[39;00m\n",
      "File \u001b[0;32m~/Documents/Scripts/Python/DGL-PTM/dgl_ptm/dgl_ptm/util/nn_arch/nn_arch.py:157\u001b[0m, in \u001b[0;36mPudgeFiveLayer.forward\u001b[0;34m(self, x)\u001b[0m\n\u001b[1;32m    156\u001b[0m x \u001b[38;5;241m=\u001b[39m F\u001b[38;5;241m.\u001b[39mrelu(\u001b[38;5;28mself\u001b[39m\u001b[38;5;241m.\u001b[39mlayer1(x))\n\u001b[0;32m--> 157\u001b[0m x \u001b[38;5;241m=\u001b[39m F\u001b[38;5;241m.\u001b[39mrelu(\u001b[38;5;28;43mself\u001b[39;49m\u001b[38;5;241;43m.\u001b[39;49m\u001b[43mlayer2\u001b[49m\u001b[43m(\u001b[49m\u001b[43mx\u001b[49m\u001b[43m)\u001b[49m)\n\u001b[1;32m    158\u001b[0m x \u001b[38;5;241m=\u001b[39m F\u001b[38;5;241m.\u001b[39mrelu(\u001b[38;5;28mself\u001b[39m\u001b[38;5;241m.\u001b[39mlayer3(x))\n",
      "File \u001b[0;32m~/opt/anaconda3/envs/dgl_ptm/lib/python3.10/site-packages/torch/nn/modules/module.py:1501\u001b[0m, in \u001b[0;36mModule._call_impl\u001b[0;34m(self, *args, **kwargs)\u001b[0m\n\u001b[1;32m   1498\u001b[0m \u001b[38;5;28;01mif\u001b[39;00m \u001b[38;5;129;01mnot\u001b[39;00m (\u001b[38;5;28mself\u001b[39m\u001b[38;5;241m.\u001b[39m_backward_hooks \u001b[38;5;129;01mor\u001b[39;00m \u001b[38;5;28mself\u001b[39m\u001b[38;5;241m.\u001b[39m_backward_pre_hooks \u001b[38;5;129;01mor\u001b[39;00m \u001b[38;5;28mself\u001b[39m\u001b[38;5;241m.\u001b[39m_forward_hooks \u001b[38;5;129;01mor\u001b[39;00m \u001b[38;5;28mself\u001b[39m\u001b[38;5;241m.\u001b[39m_forward_pre_hooks\n\u001b[1;32m   1499\u001b[0m         \u001b[38;5;129;01mor\u001b[39;00m _global_backward_pre_hooks \u001b[38;5;129;01mor\u001b[39;00m _global_backward_hooks\n\u001b[1;32m   1500\u001b[0m         \u001b[38;5;129;01mor\u001b[39;00m _global_forward_hooks \u001b[38;5;129;01mor\u001b[39;00m _global_forward_pre_hooks):\n\u001b[0;32m-> 1501\u001b[0m     \u001b[38;5;28;01mreturn\u001b[39;00m \u001b[43mforward_call\u001b[49m\u001b[43m(\u001b[49m\u001b[38;5;241;43m*\u001b[39;49m\u001b[43margs\u001b[49m\u001b[43m,\u001b[49m\u001b[43m \u001b[49m\u001b[38;5;241;43m*\u001b[39;49m\u001b[38;5;241;43m*\u001b[39;49m\u001b[43mkwargs\u001b[49m\u001b[43m)\u001b[49m\n\u001b[1;32m   1502\u001b[0m \u001b[38;5;66;03m# Do not call functions when jit is used\u001b[39;00m\n",
      "File \u001b[0;32m~/opt/anaconda3/envs/dgl_ptm/lib/python3.10/site-packages/torch/nn/modules/linear.py:114\u001b[0m, in \u001b[0;36mLinear.forward\u001b[0;34m(self, input)\u001b[0m\n\u001b[1;32m    113\u001b[0m \u001b[38;5;28;01mdef\u001b[39;00m \u001b[38;5;21mforward\u001b[39m(\u001b[38;5;28mself\u001b[39m, \u001b[38;5;28minput\u001b[39m: Tensor) \u001b[38;5;241m-\u001b[39m\u001b[38;5;241m>\u001b[39m Tensor:\n\u001b[0;32m--> 114\u001b[0m     \u001b[38;5;28;01mreturn\u001b[39;00m \u001b[43mF\u001b[49m\u001b[38;5;241;43m.\u001b[39;49m\u001b[43mlinear\u001b[49m\u001b[43m(\u001b[49m\u001b[38;5;28;43minput\u001b[39;49m\u001b[43m,\u001b[49m\u001b[43m \u001b[49m\u001b[38;5;28;43mself\u001b[39;49m\u001b[38;5;241;43m.\u001b[39;49m\u001b[43mweight\u001b[49m\u001b[43m,\u001b[49m\u001b[43m \u001b[49m\u001b[38;5;28;43mself\u001b[39;49m\u001b[38;5;241;43m.\u001b[39;49m\u001b[43mbias\u001b[49m\u001b[43m)\u001b[49m\n",
      "\u001b[0;31mKeyboardInterrupt\u001b[0m: ",
      "\nDuring handling of the above exception, another exception occurred:\n",
      "\u001b[0;31mRuntimeError\u001b[0m                              Traceback (most recent call last)",
      "Cell \u001b[0;32mIn[34], line 1\u001b[0m\n\u001b[0;32m----> 1\u001b[0m \u001b[43mmodel\u001b[49m\u001b[38;5;241;43m.\u001b[39;49m\u001b[43mrun\u001b[49m\u001b[43m(\u001b[49m\u001b[43m)\u001b[49m\n",
      "File \u001b[0;32m~/Documents/Scripts/Python/DGL-PTM/dgl_ptm/dgl_ptm/model/initialize_model.py:334\u001b[0m, in \u001b[0;36mPovertyTrapModel.run\u001b[0;34m(self)\u001b[0m\n\u001b[1;32m    332\u001b[0m \u001b[38;5;28;01mwhile\u001b[39;00m \u001b[38;5;28mself\u001b[39m\u001b[38;5;241m.\u001b[39mstep_count \u001b[38;5;241m<\u001b[39m \u001b[38;5;28mself\u001b[39m\u001b[38;5;241m.\u001b[39mstep_target:\n\u001b[1;32m    333\u001b[0m     \u001b[38;5;28mprint\u001b[39m(\u001b[38;5;124mf\u001b[39m\u001b[38;5;124m'\u001b[39m\u001b[38;5;124mperforming step \u001b[39m\u001b[38;5;132;01m{\u001b[39;00m\u001b[38;5;28mself\u001b[39m\u001b[38;5;241m.\u001b[39mstep_count\u001b[38;5;241m+\u001b[39m\u001b[38;5;241m1\u001b[39m\u001b[38;5;132;01m}\u001b[39;00m\u001b[38;5;124m of \u001b[39m\u001b[38;5;132;01m{\u001b[39;00m\u001b[38;5;28mself\u001b[39m\u001b[38;5;241m.\u001b[39mstep_target\u001b[38;5;132;01m}\u001b[39;00m\u001b[38;5;124m'\u001b[39m)\n\u001b[0;32m--> 334\u001b[0m     \u001b[38;5;28;43mself\u001b[39;49m\u001b[38;5;241;43m.\u001b[39;49m\u001b[43mstep\u001b[49m\u001b[43m(\u001b[49m\u001b[43m)\u001b[49m\n",
      "File \u001b[0;32m~/Documents/Scripts/Python/DGL-PTM/dgl_ptm/dgl_ptm/model/initialize_model.py:328\u001b[0m, in \u001b[0;36mPovertyTrapModel.step\u001b[0;34m(self)\u001b[0m\n\u001b[1;32m    323\u001b[0m     \u001b[38;5;28mself\u001b[39m\u001b[38;5;241m.\u001b[39mstep_count \u001b[38;5;241m+\u001b[39m\u001b[38;5;241m=\u001b[39m\u001b[38;5;241m1\u001b[39m\n\u001b[1;32m    324\u001b[0m \u001b[38;5;28;01mexcept\u001b[39;00m:\n\u001b[1;32m    325\u001b[0m     \u001b[38;5;66;03m#TODO add model dump here. Also check against previous save to avoid overwriting\u001b[39;00m\n\u001b[0;32m--> 328\u001b[0m     \u001b[38;5;28;01mraise\u001b[39;00m \u001b[38;5;167;01mRuntimeError\u001b[39;00m(\u001b[38;5;124mf\u001b[39m\u001b[38;5;124m'\u001b[39m\u001b[38;5;124mexecution of step failed for step \u001b[39m\u001b[38;5;132;01m{\u001b[39;00m\u001b[38;5;28mself\u001b[39m\u001b[38;5;241m.\u001b[39mstep_count\u001b[38;5;132;01m}\u001b[39;00m\u001b[38;5;124m'\u001b[39m)\n",
      "\u001b[0;31mRuntimeError\u001b[0m: execution of step failed for step 13"
     ]
    }
   ],
   "source": [
    "model.run()\n",
    "#100,000 took about 1.5 min on CPU\n",
    "#1,000,000 took about 16 min on CPU\n",
    "#need to tune characteristic distance\n"
   ]
  },
  {
   "cell_type": "code",
   "execution_count": null,
   "metadata": {},
   "outputs": [
    {
     "name": "stdout",
     "output_type": "stream",
     "text": [
      "(tensor([1, 2, 2, 4, 4, 0, 0]), tensor([4, 3, 0, 0, 1, 2, 3]))\n",
      "(tensor([1, 2, 2, 4, 4, 0, 0]), tensor([4, 0, 3, 0, 1, 3, 2]))\n",
      "tensor([1, 2, 0, 2, 2])\n",
      "tensor([2, 1, 2, 0, 2])\n",
      "tensor([ True, False,  True, False,  True])\n",
      "here:tensor([1, 2, 2, 2, 2, 2, 2])\n",
      "tensor([0])\n",
      "(tensor([2, 2, 4, 4, 0, 0]), tensor([0, 3, 0, 1, 3, 2]))\n",
      "tensor([0, 3, 0, 1, 3, 2])\n",
      "even_indices_tensor:tensor([0, 0, 3])\n",
      "odd_indices_tensor:tensor([3, 1, 2])\n",
      "existing_connections:tensor([ True, False, False])\n",
      "tensor([False,  True,  True])\n",
      "tensor([0, 3])\n",
      "tensor([1, 2])\n",
      "tensor([0.2094, 0.7066])\n",
      "tensor([False,  True])\n",
      "(tensor([1, 2, 2, 4, 4, 0, 0, 3]), tensor([4, 3, 0, 0, 1, 2, 3, 2]))\n",
      "(tensor([1, 2, 2, 4, 4, 0, 0, 3, 3]), tensor([4, 3, 0, 0, 1, 2, 3, 2, 2]))\n",
      "torch.Size([10])\n"
     ]
    }
   ],
   "source": [
    "import dgl\n",
    "src_ids = torch.tensor([1, 2, 2, 4, 4,0,0])\n",
    "dst_ids = torch.tensor([4, 3, 0, 0, 1,2,3])\n",
    "g = dgl.graph((src_ids, dst_ids), num_nodes=5)\n",
    "print(g.edges(order='eid'))\n",
    "\n",
    "connecting_nodes=torch.tensor([1,2,3,4,0])\n",
    "sample = dgl.sampling.sample_neighbors(g, connecting_nodes, 2, edge_dir =\"out\")\n",
    "print(sample.edges(order='eid'))\n",
    "\n",
    "#isolate and delete edges with no partner\n",
    "print(sample.out_degrees(connecting_nodes))\n",
    "sample.ndata['out_degree'] = sample.out_degrees()\n",
    "\n",
    "print(sample.ndata['out_degree'])\n",
    "\n",
    "print(sample.ndata['out_degree'] == 2)\n",
    "\n",
    "#def nodes_without_two_neighbors(nodes):\n",
    "    #return (nodes.data['out_degree'] != 2)\n",
    "\n",
    "#print(sample.filter_nodes(nodes_without_two_neighbors))\n",
    "#insufficient_connections=sample.filter_nodes(nodes_without_two_neighbors)\n",
    "\n",
    "# Edges from nodes with insufficient connections\n",
    "def edges_to_remove(edges):\n",
    "    print(f\"here:{edges.src['out_degree']}\")\n",
    "    return (edges.src['out_degree'] != 2)\n",
    "\n",
    "insufficient_connections = sample.filter_edges(edges_to_remove)\n",
    "\n",
    "print(insufficient_connections)\n",
    "\n",
    "sample.remove_edges(insufficient_connections)\n",
    "print(sample.edges(order='eid'))\n",
    "print(sample.edges(order='eid')[1])\n",
    "\n",
    "even_indices_tensor = sample.edges(order='eid')[1][::2]\n",
    "odd_indices_tensor = sample.edges(order='eid')[1][1::2]\n",
    "existing_connections = g.has_edges_between(even_indices_tensor, odd_indices_tensor)\n",
    "print(f'even_indices_tensor:{even_indices_tensor}')\n",
    "print(f'odd_indices_tensor:{odd_indices_tensor}')\n",
    "print(f'existing_connections:{existing_connections}')\n",
    "print(~existing_connections)\n",
    "\n",
    "\n",
    "even_indices_tensor = sample.edges(order='eid')[1][::2][~existing_connections]\n",
    "odd_indices_tensor = sample.edges(order='eid')[1][1::2][~existing_connections]\n",
    "prob_tensor = torch.rand(even_indices_tensor.size(0))\n",
    "\n",
    "\n",
    "print(even_indices_tensor)\n",
    "print(odd_indices_tensor)\n",
    "print(prob_tensor)\n",
    "\n",
    "successful_links = prob_tensor > 0.5\n",
    "print(successful_links)\n",
    "#add \"new\" edges to the original graph\n",
    "\n",
    "g.add_edges(even_indices_tensor[successful_links], odd_indices_tensor[successful_links])\n",
    "print(g.edges(order='eid'))\n",
    "\n",
    "g.add_edges(even_indices_tensor[successful_links], odd_indices_tensor[successful_links])\n",
    "\n",
    "print(g.edges(order='eid'))\n",
    "\n",
    "ten=torch.tensor([1,2,3,4,5,6,7,8,9,10])\n",
    "print(ten.shape)\n",
    "\n",
    "\n",
    "\n",
    "\n"
   ]
  },
  {
   "cell_type": "code",
   "execution_count": null,
   "metadata": {},
   "outputs": [
    {
     "name": "stdout",
     "output_type": "stream",
     "text": [
      "(tensor([1, 4, 2, 3, 2, 0, 4, 0, 0]), tensor([4, 1, 3, 2, 0, 2, 0, 4, 3]))\n",
      "tensor([3., 1., 2., 1., 2., 0., 0., 0., 0., 0.])\n"
     ]
    }
   ],
   "source": [
    "import dgl.sparse as spmatrix\n",
    "\n",
    "src_ids = torch.tensor([1, 4, 2, 3, 2, 0, 4, 0, 0])\n",
    "dst_ids = torch.tensor([4, 1, 3, 2, 0, 2, 0, 4, 3])\n",
    "g = dgl.graph((src_ids, dst_ids), num_nodes=10)\n",
    "print(g.edges(order='eid'))\n",
    "\n",
    "\n",
    "adjacency_matrix = g.adj()\n",
    "neighbor_sum = spmatrix.sum(adjacency_matrix, dim=1)\n",
    "\n",
    "print(neighbor_sum)\n"
   ]
  },
  {
   "cell_type": "code",
   "execution_count": null,
   "metadata": {},
   "outputs": [
    {
     "data": {
      "text/plain": [
       "'\\n# try to see something happening\\nimport zarr\\nimport pandas as pd\\nimport matplotlib.pyplot as plt\\nimport matplotlib.animation as animation\\n\\n\\n\\nagent_data = zarr.open(\\'/Users/victoria/Documents/Scripts/Python/DGL-PTM/DGL_testing/agent_data.zarr\\', mode=\\'r\\')\\nalpha=pd.DataFrame(agent_data[\\'alpha\\'])\\nnet_trade=pd.DataFrame(agent_data[\\'net_trade\\'])\\nk=pd.DataFrame(agent_data[\\'wealth\\'])\\n\\nfig=plt.figure()\\nplt.xlabel(\"α\")\\nplt.ylabel(\"$k_{t}$\")\\n#xlims=[0.8,OGdata.loc[TimeSample,\"alpha\"].max()]\\nxlims=[0.8,1.5]\\n\\nylims=[0,10]\\n#ylims=[0,OGdata.loc[TimeSample,\"k_t\"].max()]\\n\\nfig.suptitle(f\"k$_{{{\\'t\\'}}}$ v.s. α at Time Step {0}\")\\n\\n\\n\\ndef animate3(i,alpha, k,net_trade, xlim,ylim):\\n\\n    plt.clf()\\n    fig.suptitle(f\"k$_{{{\\'t\\'}}}$ v.s. α at Time Step {i}\")\\n    plt.xlabel(\"α\")\\n    plt.ylabel(\"$k_{t}$\")\\n    pointart=plt.scatter(alpha[i], k[i])\\n    plt.xlim(xlim)\\n    plt.ylim(ylim)\\n    snapshot=str(f\"Net Traded:{net_trade[i].mean()}\")\\n    fig.text(0.05, 0.021, snapshot,fontsize=10, bbox=dict(fc=\"white\", ec=\"white\"))\\n\\n\\n\\n\\n\\npoints=plt.scatter(alpha[0], k[0])\\n    #hue=\"i_a\", \\n    #palette=[\"b\", \"r\",\"#7f7f7f\"], \\n\\nplt.xlim(xlims)\\nplt.ylim(ylims)\\n\\nanim3 = animation.FuncAnimation(fig, animate3, frames=k.shape[1], interval=2000, blit=False, fargs=(alpha,k,net_trade,xlims,ylims,)) \\n\\n\\n\\nplt.show()\\n'"
      ]
     },
     "execution_count": 7,
     "metadata": {},
     "output_type": "execute_result"
    }
   ],
   "source": [
    "'''\n",
    "# try to see something happening\n",
    "import zarr\n",
    "import pandas as pd\n",
    "import matplotlib.pyplot as plt\n",
    "import matplotlib.animation as animation\n",
    "\n",
    "\n",
    "\n",
    "agent_data = zarr.open('/Users/victoria/Documents/Scripts/Python/DGL-PTM/DGL_testing/agent_data.zarr', mode='r')\n",
    "alpha=pd.DataFrame(agent_data['alpha'])\n",
    "net_trade=pd.DataFrame(agent_data['net_trade'])\n",
    "k=pd.DataFrame(agent_data['wealth'])\n",
    "\n",
    "fig=plt.figure()\n",
    "plt.xlabel(\"α\")\n",
    "plt.ylabel(\"$k_{t}$\")\n",
    "#xlims=[0.8,OGdata.loc[TimeSample,\"alpha\"].max()]\n",
    "xlims=[0.8,1.5]\n",
    "\n",
    "ylims=[0,10]\n",
    "#ylims=[0,OGdata.loc[TimeSample,\"k_t\"].max()]\n",
    "\n",
    "fig.suptitle(f\"k$_{{{'t'}}}$ v.s. α at Time Step {0}\")\n",
    "\n",
    "\n",
    "\n",
    "def animate3(i,alpha, k,net_trade, xlim,ylim):\n",
    "\n",
    "    plt.clf()\n",
    "    fig.suptitle(f\"k$_{{{'t'}}}$ v.s. α at Time Step {i}\")\n",
    "    plt.xlabel(\"α\")\n",
    "    plt.ylabel(\"$k_{t}$\")\n",
    "    pointart=plt.scatter(alpha[i], k[i])\n",
    "    plt.xlim(xlim)\n",
    "    plt.ylim(ylim)\n",
    "    snapshot=str(f\"Net Traded:{net_trade[i].mean()}\")\n",
    "    fig.text(0.05, 0.021, snapshot,fontsize=10, bbox=dict(fc=\"white\", ec=\"white\"))\n",
    "\n",
    "\n",
    "\n",
    "\n",
    "\n",
    "points=plt.scatter(alpha[0], k[0])\n",
    "    #hue=\"i_a\", \n",
    "    #palette=[\"b\", \"r\",\"#7f7f7f\"], \n",
    "\n",
    "plt.xlim(xlims)\n",
    "plt.ylim(ylims)\n",
    "\n",
    "anim3 = animation.FuncAnimation(fig, animate3, frames=k.shape[1], interval=2000, blit=False, fargs=(alpha,k,net_trade,xlims,ylims,)) \n",
    "\n",
    "\n",
    "\n",
    "plt.show()\n",
    "'''"
   ]
  },
  {
   "cell_type": "code",
   "execution_count": null,
   "metadata": {},
   "outputs": [],
   "source": [
    "\n"
   ]
  }
 ],
 "metadata": {
  "kernelspec": {
   "display_name": "Python 3.10.12 ('dgl_ptm')",
   "language": "python",
   "name": "python3"
  },
  "language_info": {
   "codemirror_mode": {
    "name": "ipython",
    "version": 3
   },
   "file_extension": ".py",
   "mimetype": "text/x-python",
   "name": "python",
   "nbconvert_exporter": "python",
   "pygments_lexer": "ipython3",
   "version": "3.10.13"
  },
  "orig_nbformat": 4,
  "vscode": {
   "interpreter": {
    "hash": "1477468427ea6fe7f3c6460347a373a01cc68daae53faf91f7d9fb578ee805b7"
   }
  }
 },
 "nbformat": 4,
 "nbformat_minor": 2
}

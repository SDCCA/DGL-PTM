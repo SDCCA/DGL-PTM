{
 "cells": [
  {
   "cell_type": "code",
   "execution_count": null,
   "metadata": {},
   "outputs": [],
   "source": [
    "import sys\n",
    "sys.path.append('/Users/victoria/Documents/Scripts/Python/DGL-PTM/dgl_ptm')\n",
    "import torch\n",
    "import dgl_ptm\n",
    "import os\n",
    "os.environ[\"DGLBACKEND\"] = \"pytorch\"\n"
   ]
  },
  {
   "cell_type": "markdown",
   "metadata": {},
   "source": [
    "This version features the desired income generation function; a fitted function is used as a decent placeholder to determine consumption. There are many aspects (such as optimization and personal perception of theta) which will be required in future but are currently not utilized. With the model in its current arrangement, the agents stop trading and stabillize after ~7 time steps. I have included a commented-out section at the bottom which uses matplotlib pyplot if you wish to get a quick look.\n",
    "The current version of the config.yaml file is not formatted correctly and should not be used as is."
   ]
  },
  {
   "cell_type": "code",
   "execution_count": null,
   "metadata": {},
   "outputs": [],
   "source": [
    "model = dgl_ptm.PovertyTrapModel(model_identifier='testwithnn')"
   ]
  },
  {
   "cell_type": "code",
   "execution_count": null,
   "metadata": {},
   "outputs": [],
   "source": [
    "model.set_model_parameters(default=False, **{'number_agents': 20,'seed':1, 'step_target': 500,    \n",
    "'capital_dist': {'type':'uniform','parameters':[0.1,10.],'round':False,'decimals':None}, \n",
    " 'steering_parameters': {'npath':'./agent_data_s.zarr',\n",
    "                            'epath':'./edge_data', \n",
    "                            'ndata':['all_except',['a_table']],\n",
    "                            'edata':['all'],\n",
    "                            'mode':'xarray',\n",
    "                            'wealth_method':'weighted_transfer',\n",
    "                            'income_method':'income_generation',\n",
    "                            'tech_gamma': torch.tensor([0.3,0.35,0.45]),\n",
    "                            'tech_cost': torch.tensor([0,0.15,0.65]),\n",
    "                            'consume_method':'estimated_bellman_consumption',\n",
    "                            'nn_path':'/Users/victoria/Documents/Scripts/Python/DGL-PTM/DGL_testing/nn_data/both_PudgeFiveLayer_1024/0409_175055/model_best.pth',\n",
    "                            'adapt_m':torch.tensor([0,0.5,0.9]),\n",
    "                            'adapt_cost':torch.tensor([0,0.25,0.45]),\n",
    "                            'depreciation': 0.6,\n",
    "                            'discount': 0.95,\n",
    "                            'm_theta_dist': {'type':'multinomial','parameters':[[0.01 ,0.1, 0.79, 0.1],[0.1, 0.5, 0.8, 1]],'round':False,'decimals':None},\n",
    "                            'm_attach_dist': {'type':'uniform','parameters':[0.001,1],'round':False,'decimals':None},\n",
    "                            'del_prob':0.05,\n",
    "                            'ratio':0.1,\n",
    "                            'weight_a':0.69,\n",
    "                            'weight_b':5, \n",
    "                            'truncation_weight':1.0e-10,\n",
    "                            'step_type': 'custom'}})\n",
    "\n",
    "#print(model.number_agents)  \n",
    "#print(model.nn_path)  \n",
    "print(model.steering_parameters)                        "
   ]
  },
  {
   "cell_type": "code",
   "execution_count": null,
   "metadata": {},
   "outputs": [],
   "source": [
    "model.initialize_model()"
   ]
  },
  {
   "cell_type": "code",
   "execution_count": null,
   "metadata": {},
   "outputs": [],
   "source": [
    "model.run()\n",
    "#100,000 took about 1.5 min on CPU\n",
    "#1,000,000 took about 16 min on CPU\n",
    "#need to tune characteristic distance\n"
   ]
  },
  {
   "cell_type": "code",
   "execution_count": null,
   "metadata": {},
   "outputs": [],
   "source": [
    "'''\n",
    "# try to see something happening\n",
    "import zarr\n",
    "import pandas as pd\n",
    "import matplotlib.pyplot as plt\n",
    "import matplotlib.animation as animation\n",
    "\n",
    "\n",
    "\n",
    "agent_data = zarr.open('/Users/victoria/Documents/Scripts/Python/DGL-PTM/DGL_testing/agent_data.zarr', mode='r')\n",
    "alpha=pd.DataFrame(agent_data['alpha'])\n",
    "net_trade=pd.DataFrame(agent_data['net_trade'])\n",
    "k=pd.DataFrame(agent_data['wealth'])\n",
    "\n",
    "fig=plt.figure()\n",
    "plt.xlabel(\"α\")\n",
    "plt.ylabel(\"$k_{t}$\")\n",
    "#xlims=[0.8,OGdata.loc[TimeSample,\"alpha\"].max()]\n",
    "xlims=[0.8,1.5]\n",
    "\n",
    "ylims=[0,10]\n",
    "#ylims=[0,OGdata.loc[TimeSample,\"k_t\"].max()]\n",
    "\n",
    "fig.suptitle(f\"k$_{{{'t'}}}$ v.s. α at Time Step {0}\")\n",
    "\n",
    "\n",
    "\n",
    "def animate3(i,alpha, k,net_trade, xlim,ylim):\n",
    "\n",
    "    plt.clf()\n",
    "    fig.suptitle(f\"k$_{{{'t'}}}$ v.s. α at Time Step {i}\")\n",
    "    plt.xlabel(\"α\")\n",
    "    plt.ylabel(\"$k_{t}$\")\n",
    "    pointart=plt.scatter(alpha[i], k[i])\n",
    "    plt.xlim(xlim)\n",
    "    plt.ylim(ylim)\n",
    "    snapshot=str(f\"Net Traded:{net_trade[i].mean()}\")\n",
    "    fig.text(0.05, 0.021, snapshot,fontsize=10, bbox=dict(fc=\"white\", ec=\"white\"))\n",
    "\n",
    "\n",
    "\n",
    "\n",
    "\n",
    "points=plt.scatter(alpha[0], k[0])\n",
    "    #hue=\"i_a\", \n",
    "    #palette=[\"b\", \"r\",\"#7f7f7f\"], \n",
    "\n",
    "plt.xlim(xlims)\n",
    "plt.ylim(ylims)\n",
    "\n",
    "anim3 = animation.FuncAnimation(fig, animate3, frames=k.shape[1], interval=2000, blit=False, fargs=(alpha,k,net_trade,xlims,ylims,)) \n",
    "\n",
    "\n",
    "\n",
    "plt.show()\n",
    "'''"
   ]
  }
 ],
 "metadata": {
  "kernelspec": {
   "display_name": "Python 3.10.12 ('dgl_ptm')",
   "language": "python",
   "name": "python3"
  },
  "language_info": {
   "codemirror_mode": {
    "name": "ipython",
    "version": 3
   },
   "file_extension": ".py",
   "mimetype": "text/x-python",
   "name": "python",
   "nbconvert_exporter": "python",
   "pygments_lexer": "ipython3",
   "version": "3.10.13"
  },
  "orig_nbformat": 4,
  "vscode": {
   "interpreter": {
    "hash": "1477468427ea6fe7f3c6460347a373a01cc68daae53faf91f7d9fb578ee805b7"
   }
  }
 },
 "nbformat": 4,
 "nbformat_minor": 2
}

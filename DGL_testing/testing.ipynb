{
 "cells": [
  {
   "cell_type": "code",
   "execution_count": 6,
   "metadata": {},
   "outputs": [],
   "source": [
    "import dgl_ptm\n",
    "import os\n",
    "os.environ[\"DGLBACKEND\"] = \"pytorch\""
   ]
  },
  {
   "cell_type": "code",
   "execution_count": 2,
   "metadata": {},
   "outputs": [],
   "source": [
    "# Create an instance of the model class\n",
    "model = dgl_ptm.PovertyTrapModel(model_identifier='test')\n",
    "\n",
    "# Set the model and simulation parameters\n",
    "# Using DEFAULT values\n",
    "# model.set_model_parameters(default=True)\n",
    "\n",
    "# OR\n",
    "# using a CONFIG file\n",
    "model.set_model_parameters(default=True, parameterFilePath='../dgl_ptm/dgl_ptm/config.yaml')\n",
    "\n",
    "# Initialize the model\n",
    "model.initialize_model()"
   ]
  },
  {
   "cell_type": "code",
   "execution_count": 4,
   "metadata": {},
   "outputs": [
    {
     "data": {
      "text/plain": [
       "'./test/agent_data.zarr'"
      ]
     },
     "execution_count": 4,
     "metadata": {},
     "output_type": "execute_result"
    }
   ],
   "source": [
    "model.steering_parameters['npath']"
   ]
  },
  {
   "cell_type": "code",
   "execution_count": 5,
   "metadata": {},
   "outputs": [
    {
     "name": "stdout",
     "output_type": "stream",
     "text": [
      "performing step 1 of 20\n",
      "creating bidirectional link between nodes 1 (src) and tensor([90]) (dst)\n",
      "created 1 of 1 links requested\n",
      "performing step 2 of 20\n",
      "creating bidirectional link between nodes 45 (src) and tensor([46]) (dst)\n",
      "created 1 of 1 links requested\n",
      "performing step 3 of 20\n",
      "creating bidirectional link between nodes 27 (src) and tensor([2]) (dst)\n",
      "created 1 of 1 links requested\n",
      "performing step 4 of 20\n",
      "creating bidirectional link between nodes 42 (src) and tensor([26]) (dst)\n",
      "created 1 of 1 links requested\n",
      "performing step 5 of 20\n",
      "creating bidirectional link between nodes 23 (src) and tensor([79]) (dst)\n",
      "created 1 of 1 links requested\n",
      "performing step 6 of 20\n",
      "dst node 91 is an end node\n",
      "no FoF link possible for src dst nodes 78 and 91.\n",
      "created 0 of 1 links requested\n",
      "performing step 7 of 20\n",
      "creating bidirectional link between nodes 33 (src) and tensor([7]) (dst)\n",
      "created 1 of 1 links requested\n",
      "performing step 8 of 20\n",
      "creating bidirectional link between nodes 6 (src) and tensor([78]) (dst)\n",
      "created 1 of 1 links requested\n",
      "performing step 9 of 20\n",
      "creating bidirectional link between nodes 11 (src) and tensor([48]) (dst)\n",
      "created 1 of 1 links requested\n",
      "performing step 10 of 20\n",
      "creating bidirectional link between nodes 28 (src) and tensor([91]) (dst)\n",
      "created 1 of 1 links requested\n",
      "performing step 11 of 20\n",
      "all FoF nodes are already direcctly connected to node 78.\n",
      "no FoF link possible for src dst nodes 78 and 28.\n",
      "created 0 of 1 links requested\n"
     ]
    },
    {
     "ename": "RuntimeError",
     "evalue": "execution of step failed for step 10",
     "output_type": "error",
     "traceback": [
      "\u001b[0;31m---------------------------------------------------------------------------\u001b[0m",
      "\u001b[0;31mKeyboardInterrupt\u001b[0m                         Traceback (most recent call last)",
      "File \u001b[0;32m/mnt/c/Users/PranavChandramouli/OneDrive - Netherlands eScience Center/Projects/Social_Dynamics/DGL-PTM/dgl_ptm/dgl_ptm/model/initialize_model.py:320\u001b[0m, in \u001b[0;36mPovertyTrapModel.step\u001b[0;34m(self)\u001b[0m\n\u001b[1;32m    319\u001b[0m \u001b[39mtry\u001b[39;00m:\n\u001b[0;32m--> 320\u001b[0m     ptm_step(\u001b[39mself\u001b[39;49m\u001b[39m.\u001b[39;49mmodel_graph,\u001b[39mself\u001b[39;49m\u001b[39m.\u001b[39;49mmodel_data,\u001b[39mself\u001b[39;49m\u001b[39m.\u001b[39;49mstep_count,\u001b[39mself\u001b[39;49m\u001b[39m.\u001b[39;49msteering_parameters)\n\u001b[1;32m    321\u001b[0m     \u001b[39mself\u001b[39m\u001b[39m.\u001b[39mstep_count \u001b[39m+\u001b[39m\u001b[39m=\u001b[39m\u001b[39m1\u001b[39m\n",
      "File \u001b[0;32m/mnt/c/Users/PranavChandramouli/OneDrive - Netherlands eScience Center/Projects/Social_Dynamics/DGL-PTM/dgl_ptm/dgl_ptm/model/step.py:46\u001b[0m, in \u001b[0;36mptm_step\u001b[0;34m(agent_graph, model_data, timestep, params)\u001b[0m\n\u001b[1;32m     45\u001b[0m \u001b[39m#Data collection and storage\u001b[39;00m\n\u001b[0;32m---> 46\u001b[0m data_collection(agent_graph, timestep \u001b[39m=\u001b[39;49m timestep, npath \u001b[39m=\u001b[39;49m params[\u001b[39m'\u001b[39;49m\u001b[39mnpath\u001b[39;49m\u001b[39m'\u001b[39;49m], epath \u001b[39m=\u001b[39;49m params[\u001b[39m'\u001b[39;49m\u001b[39mepath\u001b[39;49m\u001b[39m'\u001b[39;49m], ndata \u001b[39m=\u001b[39;49m params[\u001b[39m'\u001b[39;49m\u001b[39mndata\u001b[39;49m\u001b[39m'\u001b[39;49m], \n\u001b[1;32m     47\u001b[0m                 edata \u001b[39m=\u001b[39;49m params[\u001b[39m'\u001b[39;49m\u001b[39medata\u001b[39;49m\u001b[39m'\u001b[39;49m], \u001b[39mformat\u001b[39;49m \u001b[39m=\u001b[39;49m params[\u001b[39m'\u001b[39;49m\u001b[39mformat\u001b[39;49m\u001b[39m'\u001b[39;49m], mode \u001b[39m=\u001b[39;49m params[\u001b[39m'\u001b[39;49m\u001b[39mmode\u001b[39;49m\u001b[39m'\u001b[39;49m])\n",
      "File \u001b[0;32m/mnt/c/Users/PranavChandramouli/OneDrive - Netherlands eScience Center/Projects/Social_Dynamics/DGL-PTM/dgl_ptm/dgl_ptm/model/data_collection.py:34\u001b[0m, in \u001b[0;36mdata_collection\u001b[0;34m(agent_graph, timestep, npath, epath, ndata, edata, format, mode)\u001b[0m\n\u001b[1;32m     32\u001b[0m     edata \u001b[39m=\u001b[39m \u001b[39mlist\u001b[39m(agent_graph\u001b[39m.\u001b[39medge_attr_schemes()\u001b[39m.\u001b[39mkeys())\n\u001b[0;32m---> 34\u001b[0m _node_property_collector(agent_graph, npath, ndata, timestep, \u001b[39mformat\u001b[39;49m, mode)\n\u001b[1;32m     35\u001b[0m _edge_property_collector(agent_graph, epath, edata, timestep, \u001b[39mformat\u001b[39m, mode)\n",
      "File \u001b[0;32m/mnt/c/Users/PranavChandramouli/OneDrive - Netherlands eScience Center/Projects/Social_Dynamics/DGL-PTM/dgl_ptm/dgl_ptm/model/data_collection.py:49\u001b[0m, in \u001b[0;36m_node_property_collector\u001b[0;34m(agent_graph, npath, ndata, timestep, format, mode)\u001b[0m\n\u001b[1;32m     48\u001b[0m     \u001b[39melse\u001b[39;00m:\n\u001b[0;32m---> 49\u001b[0m         agent_data_instance\u001b[39m.\u001b[39;49mto_zarr(npath, append_dim\u001b[39m=\u001b[39;49m\u001b[39m'\u001b[39;49m\u001b[39mn_time\u001b[39;49m\u001b[39m'\u001b[39;49m)\n\u001b[1;32m     50\u001b[0m \u001b[39melse\u001b[39;00m:\n",
      "File \u001b[0;32m~/.local/lib/python3.10/site-packages/xarray/core/dataset.py:2105\u001b[0m, in \u001b[0;36mDataset.to_zarr\u001b[0;34m(self, store, chunk_store, mode, synchronizer, group, encoding, compute, consolidated, append_dim, region, safe_chunks, storage_options, zarr_version)\u001b[0m\n\u001b[1;32m   2103\u001b[0m \u001b[39mfrom\u001b[39;00m \u001b[39mxarray\u001b[39;00m\u001b[39m.\u001b[39;00m\u001b[39mbackends\u001b[39;00m\u001b[39m.\u001b[39;00m\u001b[39mapi\u001b[39;00m \u001b[39mimport\u001b[39;00m to_zarr\n\u001b[0;32m-> 2105\u001b[0m \u001b[39mreturn\u001b[39;00m to_zarr(  \u001b[39m# type: ignore[call-overload,misc]\u001b[39;49;00m\n\u001b[1;32m   2106\u001b[0m     \u001b[39mself\u001b[39;49m,\n\u001b[1;32m   2107\u001b[0m     store\u001b[39m=\u001b[39;49mstore,\n\u001b[1;32m   2108\u001b[0m     chunk_store\u001b[39m=\u001b[39;49mchunk_store,\n\u001b[1;32m   2109\u001b[0m     storage_options\u001b[39m=\u001b[39;49mstorage_options,\n\u001b[1;32m   2110\u001b[0m     mode\u001b[39m=\u001b[39;49mmode,\n\u001b[1;32m   2111\u001b[0m     synchronizer\u001b[39m=\u001b[39;49msynchronizer,\n\u001b[1;32m   2112\u001b[0m     group\u001b[39m=\u001b[39;49mgroup,\n\u001b[1;32m   2113\u001b[0m     encoding\u001b[39m=\u001b[39;49mencoding,\n\u001b[1;32m   2114\u001b[0m     compute\u001b[39m=\u001b[39;49mcompute,\n\u001b[1;32m   2115\u001b[0m     consolidated\u001b[39m=\u001b[39;49mconsolidated,\n\u001b[1;32m   2116\u001b[0m     append_dim\u001b[39m=\u001b[39;49mappend_dim,\n\u001b[1;32m   2117\u001b[0m     region\u001b[39m=\u001b[39;49mregion,\n\u001b[1;32m   2118\u001b[0m     safe_chunks\u001b[39m=\u001b[39;49msafe_chunks,\n\u001b[1;32m   2119\u001b[0m     zarr_version\u001b[39m=\u001b[39;49mzarr_version,\n\u001b[1;32m   2120\u001b[0m )\n",
      "File \u001b[0;32m~/.local/lib/python3.10/site-packages/xarray/backends/api.py:1629\u001b[0m, in \u001b[0;36mto_zarr\u001b[0;34m(dataset, store, chunk_store, mode, synchronizer, group, encoding, compute, consolidated, append_dim, region, safe_chunks, storage_options, zarr_version)\u001b[0m\n\u001b[1;32m   1628\u001b[0m \u001b[39mif\u001b[39;00m mode \u001b[39min\u001b[39;00m [\u001b[39m\"\u001b[39m\u001b[39ma\u001b[39m\u001b[39m\"\u001b[39m, \u001b[39m\"\u001b[39m\u001b[39mr+\u001b[39m\u001b[39m\"\u001b[39m]:\n\u001b[0;32m-> 1629\u001b[0m     _validate_datatypes_for_zarr_append(zstore, dataset)\n\u001b[1;32m   1630\u001b[0m     \u001b[39mif\u001b[39;00m append_dim \u001b[39mis\u001b[39;00m \u001b[39mnot\u001b[39;00m \u001b[39mNone\u001b[39;00m:\n",
      "File \u001b[0;32m~/.local/lib/python3.10/site-packages/xarray/backends/api.py:1445\u001b[0m, in \u001b[0;36m_validate_datatypes_for_zarr_append\u001b[0;34m(zstore, dataset)\u001b[0m\n\u001b[1;32m   1441\u001b[0m \u001b[39m\u001b[39m\u001b[39m\"\"\"If variable exists in the store, confirm dtype of the data to append is compatible with\u001b[39;00m\n\u001b[1;32m   1442\u001b[0m \u001b[39mexisting dtype.\u001b[39;00m\n\u001b[1;32m   1443\u001b[0m \u001b[39m\"\"\"\u001b[39;00m\n\u001b[0;32m-> 1445\u001b[0m existing_vars \u001b[39m=\u001b[39m zstore\u001b[39m.\u001b[39;49mget_variables()\n\u001b[1;32m   1447\u001b[0m \u001b[39mdef\u001b[39;00m \u001b[39mcheck_dtype\u001b[39m(vname, var):\n",
      "File \u001b[0;32m~/.local/lib/python3.10/site-packages/xarray/backends/zarr.py:504\u001b[0m, in \u001b[0;36mZarrStore.get_variables\u001b[0;34m(self)\u001b[0m\n\u001b[1;32m    503\u001b[0m \u001b[39mdef\u001b[39;00m \u001b[39mget_variables\u001b[39m(\u001b[39mself\u001b[39m):\n\u001b[0;32m--> 504\u001b[0m     \u001b[39mreturn\u001b[39;00m FrozenDict(\n\u001b[1;32m    505\u001b[0m         (k, \u001b[39mself\u001b[39;49m\u001b[39m.\u001b[39;49mopen_store_variable(k, v)) \u001b[39mfor\u001b[39;49;00m k, v \u001b[39min\u001b[39;49;00m \u001b[39mself\u001b[39;49m\u001b[39m.\u001b[39;49mzarr_group\u001b[39m.\u001b[39;49marrays()\n\u001b[1;32m    506\u001b[0m     )\n",
      "File \u001b[0;32m~/.local/lib/python3.10/site-packages/xarray/core/utils.py:471\u001b[0m, in \u001b[0;36mFrozenDict\u001b[0;34m(*args, **kwargs)\u001b[0m\n\u001b[1;32m    470\u001b[0m \u001b[39mdef\u001b[39;00m \u001b[39mFrozenDict\u001b[39m(\u001b[39m*\u001b[39margs, \u001b[39m*\u001b[39m\u001b[39m*\u001b[39mkwargs) \u001b[39m-\u001b[39m\u001b[39m>\u001b[39m Frozen:\n\u001b[0;32m--> 471\u001b[0m     \u001b[39mreturn\u001b[39;00m Frozen(\u001b[39mdict\u001b[39;49m(\u001b[39m*\u001b[39;49margs, \u001b[39m*\u001b[39;49m\u001b[39m*\u001b[39;49mkwargs))\n",
      "File \u001b[0;32m~/.local/lib/python3.10/site-packages/xarray/backends/zarr.py:504\u001b[0m, in \u001b[0;36m<genexpr>\u001b[0;34m(.0)\u001b[0m\n\u001b[1;32m    503\u001b[0m \u001b[39mdef\u001b[39;00m \u001b[39mget_variables\u001b[39m(\u001b[39mself\u001b[39m):\n\u001b[0;32m--> 504\u001b[0m     \u001b[39mreturn\u001b[39;00m FrozenDict(\n\u001b[1;32m    505\u001b[0m         (k, \u001b[39mself\u001b[39m\u001b[39m.\u001b[39mopen_store_variable(k, v)) \u001b[39mfor\u001b[39;00m k, v \u001b[39min\u001b[39;00m \u001b[39mself\u001b[39m\u001b[39m.\u001b[39mzarr_group\u001b[39m.\u001b[39marrays()\n\u001b[1;32m    506\u001b[0m     )\n",
      "File \u001b[0;32m~/miniconda3/envs/dgl_ptm/lib/python3.10/site-packages/zarr/hierarchy.py:673\u001b[0m, in \u001b[0;36mGroup._array_iter\u001b[0;34m(self, keys_only, method, recurse)\u001b[0m\n\u001b[1;32m    672\u001b[0m     _key \u001b[39m=\u001b[39m key\u001b[39m.\u001b[39mrstrip(\u001b[39m\"\u001b[39m\u001b[39m/\u001b[39m\u001b[39m\"\u001b[39m)\n\u001b[0;32m--> 673\u001b[0m     \u001b[39myield\u001b[39;00m _key \u001b[39mif\u001b[39;00m keys_only \u001b[39melse\u001b[39;00m (_key, \u001b[39mself\u001b[39;49m[key])\n\u001b[1;32m    674\u001b[0m \u001b[39melif\u001b[39;00m recurse \u001b[39mand\u001b[39;00m contains_group(\u001b[39mself\u001b[39m\u001b[39m.\u001b[39m_store, path):\n",
      "File \u001b[0;32m~/miniconda3/envs/dgl_ptm/lib/python3.10/site-packages/zarr/hierarchy.py:462\u001b[0m, in \u001b[0;36mGroup.__getitem__\u001b[0;34m(self, item)\u001b[0m\n\u001b[1;32m    461\u001b[0m \u001b[39mif\u001b[39;00m contains_array(\u001b[39mself\u001b[39m\u001b[39m.\u001b[39m_store, path):\n\u001b[0;32m--> 462\u001b[0m     \u001b[39mreturn\u001b[39;00m Array(\n\u001b[1;32m    463\u001b[0m         \u001b[39mself\u001b[39;49m\u001b[39m.\u001b[39;49m_store,\n\u001b[1;32m    464\u001b[0m         read_only\u001b[39m=\u001b[39;49m\u001b[39mself\u001b[39;49m\u001b[39m.\u001b[39;49m_read_only,\n\u001b[1;32m    465\u001b[0m         path\u001b[39m=\u001b[39;49mpath,\n\u001b[1;32m    466\u001b[0m         chunk_store\u001b[39m=\u001b[39;49m\u001b[39mself\u001b[39;49m\u001b[39m.\u001b[39;49m_chunk_store,\n\u001b[1;32m    467\u001b[0m         synchronizer\u001b[39m=\u001b[39;49m\u001b[39mself\u001b[39;49m\u001b[39m.\u001b[39;49m_synchronizer,\n\u001b[1;32m    468\u001b[0m         cache_attrs\u001b[39m=\u001b[39;49m\u001b[39mself\u001b[39;49m\u001b[39m.\u001b[39;49mattrs\u001b[39m.\u001b[39;49mcache,\n\u001b[1;32m    469\u001b[0m         zarr_version\u001b[39m=\u001b[39;49m\u001b[39mself\u001b[39;49m\u001b[39m.\u001b[39;49m_version,\n\u001b[1;32m    470\u001b[0m         meta_array\u001b[39m=\u001b[39;49m\u001b[39mself\u001b[39;49m\u001b[39m.\u001b[39;49m_meta_array,\n\u001b[1;32m    471\u001b[0m     )\n\u001b[1;32m    472\u001b[0m \u001b[39melif\u001b[39;00m contains_group(\u001b[39mself\u001b[39m\u001b[39m.\u001b[39m_store, path, explicit_only\u001b[39m=\u001b[39m\u001b[39mTrue\u001b[39;00m):\n",
      "File \u001b[0;32m~/miniconda3/envs/dgl_ptm/lib/python3.10/site-packages/zarr/core.py:224\u001b[0m, in \u001b[0;36mArray.__init__\u001b[0;34m(self, store, path, read_only, chunk_store, synchronizer, cache_metadata, cache_attrs, partial_decompress, write_empty_chunks, zarr_version, meta_array)\u001b[0m\n\u001b[1;32m    223\u001b[0m \u001b[39m# initialize metadata\u001b[39;00m\n\u001b[0;32m--> 224\u001b[0m \u001b[39mself\u001b[39;49m\u001b[39m.\u001b[39;49m_load_metadata()\n\u001b[1;32m    226\u001b[0m \u001b[39m# initialize attributes\u001b[39;00m\n",
      "File \u001b[0;32m~/miniconda3/envs/dgl_ptm/lib/python3.10/site-packages/zarr/core.py:243\u001b[0m, in \u001b[0;36mArray._load_metadata\u001b[0;34m(self)\u001b[0m\n\u001b[1;32m    242\u001b[0m \u001b[39mif\u001b[39;00m \u001b[39mself\u001b[39m\u001b[39m.\u001b[39m_synchronizer \u001b[39mis\u001b[39;00m \u001b[39mNone\u001b[39;00m:\n\u001b[0;32m--> 243\u001b[0m     \u001b[39mself\u001b[39;49m\u001b[39m.\u001b[39;49m_load_metadata_nosync()\n\u001b[1;32m    244\u001b[0m \u001b[39melse\u001b[39;00m:\n",
      "File \u001b[0;32m~/miniconda3/envs/dgl_ptm/lib/python3.10/site-packages/zarr/core.py:252\u001b[0m, in \u001b[0;36mArray._load_metadata_nosync\u001b[0;34m(self)\u001b[0m\n\u001b[1;32m    251\u001b[0m     mkey \u001b[39m=\u001b[39m _prefix_to_array_key(\u001b[39mself\u001b[39m\u001b[39m.\u001b[39m_store, \u001b[39mself\u001b[39m\u001b[39m.\u001b[39m_key_prefix)\n\u001b[0;32m--> 252\u001b[0m     meta_bytes \u001b[39m=\u001b[39m \u001b[39mself\u001b[39;49m\u001b[39m.\u001b[39;49m_store[mkey]\n\u001b[1;32m    253\u001b[0m \u001b[39mexcept\u001b[39;00m \u001b[39mKeyError\u001b[39;00m:\n",
      "File \u001b[0;32m~/miniconda3/envs/dgl_ptm/lib/python3.10/site-packages/zarr/storage.py:1110\u001b[0m, in \u001b[0;36mDirectoryStore.__getitem__\u001b[0;34m(self, key)\u001b[0m\n\u001b[1;32m   1109\u001b[0m filepath \u001b[39m=\u001b[39m os\u001b[39m.\u001b[39mpath\u001b[39m.\u001b[39mjoin(\u001b[39mself\u001b[39m\u001b[39m.\u001b[39mpath, key)\n\u001b[0;32m-> 1110\u001b[0m \u001b[39mif\u001b[39;00m os\u001b[39m.\u001b[39;49mpath\u001b[39m.\u001b[39;49misfile(filepath):\n\u001b[1;32m   1111\u001b[0m     \u001b[39mreturn\u001b[39;00m \u001b[39mself\u001b[39m\u001b[39m.\u001b[39m_fromfile(filepath)\n",
      "File \u001b[0;32m~/miniconda3/envs/dgl_ptm/lib/python3.10/genericpath.py:30\u001b[0m, in \u001b[0;36misfile\u001b[0;34m(path)\u001b[0m\n\u001b[1;32m     29\u001b[0m \u001b[39mtry\u001b[39;00m:\n\u001b[0;32m---> 30\u001b[0m     st \u001b[39m=\u001b[39m os\u001b[39m.\u001b[39;49mstat(path)\n\u001b[1;32m     31\u001b[0m \u001b[39mexcept\u001b[39;00m (\u001b[39mOSError\u001b[39;00m, \u001b[39mValueError\u001b[39;00m):\n",
      "\u001b[0;31mKeyboardInterrupt\u001b[0m: ",
      "\nDuring handling of the above exception, another exception occurred:\n",
      "\u001b[0;31mRuntimeError\u001b[0m                              Traceback (most recent call last)",
      "\u001b[1;32m/mnt/c/Users/PranavChandramouli/OneDrive - Netherlands eScience Center/Projects/Social_Dynamics/DGL-PTM/DGL_testing/testing.ipynb Cell 4\u001b[0m line \u001b[0;36m1\n\u001b[0;32m----> <a href='vscode-notebook-cell://wsl%2Bubuntu-22.04/mnt/c/Users/PranavChandramouli/OneDrive%20-%20Netherlands%20eScience%20Center/Projects/Social_Dynamics/DGL-PTM/DGL_testing/testing.ipynb#W2sdnNjb2RlLXJlbW90ZQ%3D%3D?line=0'>1</a>\u001b[0m model\u001b[39m.\u001b[39;49mrun()\n",
      "File \u001b[0;32m/mnt/c/Users/PranavChandramouli/OneDrive - Netherlands eScience Center/Projects/Social_Dynamics/DGL-PTM/dgl_ptm/dgl_ptm/model/initialize_model.py:332\u001b[0m, in \u001b[0;36mPovertyTrapModel.run\u001b[0;34m(self)\u001b[0m\n\u001b[1;32m    330\u001b[0m \u001b[39mwhile\u001b[39;00m \u001b[39mself\u001b[39m\u001b[39m.\u001b[39mstep_count \u001b[39m<\u001b[39m \u001b[39mself\u001b[39m\u001b[39m.\u001b[39mstep_target:\n\u001b[1;32m    331\u001b[0m     \u001b[39mprint\u001b[39m(\u001b[39mf\u001b[39m\u001b[39m'\u001b[39m\u001b[39mperforming step \u001b[39m\u001b[39m{\u001b[39;00m\u001b[39mself\u001b[39m\u001b[39m.\u001b[39mstep_count\u001b[39m+\u001b[39m\u001b[39m1\u001b[39m\u001b[39m}\u001b[39;00m\u001b[39m of \u001b[39m\u001b[39m{\u001b[39;00m\u001b[39mself\u001b[39m\u001b[39m.\u001b[39mstep_target\u001b[39m}\u001b[39;00m\u001b[39m'\u001b[39m)\n\u001b[0;32m--> 332\u001b[0m     \u001b[39mself\u001b[39;49m\u001b[39m.\u001b[39;49mstep()\n",
      "File \u001b[0;32m/mnt/c/Users/PranavChandramouli/OneDrive - Netherlands eScience Center/Projects/Social_Dynamics/DGL-PTM/dgl_ptm/dgl_ptm/model/initialize_model.py:326\u001b[0m, in \u001b[0;36mPovertyTrapModel.step\u001b[0;34m(self)\u001b[0m\n\u001b[1;32m    321\u001b[0m     \u001b[39mself\u001b[39m\u001b[39m.\u001b[39mstep_count \u001b[39m+\u001b[39m\u001b[39m=\u001b[39m\u001b[39m1\u001b[39m\n\u001b[1;32m    322\u001b[0m \u001b[39mexcept\u001b[39;00m:\n\u001b[1;32m    323\u001b[0m     \u001b[39m#TODO add model dump here. Also check against previous save to avoid overwriting\u001b[39;00m\n\u001b[0;32m--> 326\u001b[0m     \u001b[39mraise\u001b[39;00m \u001b[39mRuntimeError\u001b[39;00m(\u001b[39mf\u001b[39m\u001b[39m'\u001b[39m\u001b[39mexecution of step failed for step \u001b[39m\u001b[39m{\u001b[39;00m\u001b[39mself\u001b[39m\u001b[39m.\u001b[39mstep_count\u001b[39m}\u001b[39;00m\u001b[39m'\u001b[39m)\n",
      "\u001b[0;31mRuntimeError\u001b[0m: execution of step failed for step 10"
     ]
    }
   ],
   "source": [
    "model.run()"
   ]
  },
  {
   "cell_type": "code",
   "execution_count": null,
   "metadata": {},
   "outputs": [],
   "source": []
  }
 ],
 "metadata": {
  "kernelspec": {
   "display_name": "dgl",
   "language": "python",
   "name": "python3"
  },
  "language_info": {
   "codemirror_mode": {
    "name": "ipython",
    "version": 3
   },
   "file_extension": ".py",
   "mimetype": "text/x-python",
   "name": "python",
   "nbconvert_exporter": "python",
   "pygments_lexer": "ipython3",
   "version": "3.10.12"
  },
  "orig_nbformat": 4
 },
 "nbformat": 4,
 "nbformat_minor": 2
}

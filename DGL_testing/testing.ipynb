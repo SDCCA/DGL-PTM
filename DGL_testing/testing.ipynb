{
 "cells": [
  {
   "cell_type": "code",
   "execution_count": 1,
   "metadata": {},
   "outputs": [],
   "source": [
    "import dgl_ptm"
   ]
  },
  {
   "cell_type": "code",
   "execution_count": 3,
   "metadata": {},
   "outputs": [
    {
     "name": "stdout",
     "output_type": "stream",
     "text": [
      "\u001b[0;31mType:\u001b[0m        module\n",
      "\u001b[0;31mString form:\u001b[0m <module 'dgl_ptm.agentInteraction.trade_money' from '/mnt/c/Users/PranavChandramouli/OneDrive - N <...> Science Center/Projects/Social_Dynamics/DGL-PTM/dgl_ptm/dgl_ptm/agentInteraction/trade_money.py'>\n",
      "\u001b[0;31mFile:\u001b[0m        /mnt/c/Users/PranavChandramouli/OneDrive - Netherlands eScience Center/Projects/Social_Dynamics/DGL-PTM/dgl_ptm/dgl_ptm/agentInteraction/trade_money.py\n",
      "\u001b[0;31mDocstring:\u001b[0m   <no docstring>"
     ]
    }
   ],
   "source": []
  },
  {
   "cell_type": "code",
   "execution_count": null,
   "metadata": {},
   "outputs": [],
   "source": []
  }
 ],
 "metadata": {
  "kernelspec": {
   "display_name": "dgl",
   "language": "python",
   "name": "python3"
  },
  "language_info": {
   "codemirror_mode": {
    "name": "ipython",
    "version": 3
   },
   "file_extension": ".py",
   "mimetype": "text/x-python",
   "name": "python",
   "nbconvert_exporter": "python",
   "pygments_lexer": "ipython3",
   "version": "3.10.12"
  },
  "orig_nbformat": 4
 },
 "nbformat": 4,
 "nbformat_minor": 2
}

{
 "cells": [
  {
   "cell_type": "markdown",
   "metadata": {},
   "source": [
    "## Test config "
   ]
  },
  {
   "cell_type": "code",
   "execution_count": 1,
   "metadata": {},
   "outputs": [],
   "source": [
    "import dgl_ptm\n",
    "import os\n",
    "os.environ[\"DGLBACKEND\"] = \"pytorch\""
   ]
  },
  {
   "cell_type": "code",
   "execution_count": 2,
   "metadata": {},
   "outputs": [
    {
     "data": {
      "text/plain": [
       "{'_model_identifier': 'test2', 'restart': None, 'savestate': True}"
      ]
     },
     "execution_count": 2,
     "metadata": {},
     "output_type": "execute_result"
    }
   ],
   "source": [
    "# Create an instance of the model class\n",
    "model = dgl_ptm.PovertyTrapModel(model_identifier='test2')\n",
    "\n",
    "# Inspect default configs\n",
    "model.__dict__"
   ]
  },
  {
   "cell_type": "code",
   "execution_count": 3,
   "metadata": {},
   "outputs": [
    {
     "data": {
      "text/plain": [
       "{'_model_identifier': 'test2',\n",
       " 'restart': None,\n",
       " 'savestate': True,\n",
       " 'number_agents': 100,\n",
       " 'initial_graph_type': 'barabasi-albert',\n",
       " 'model_data': {},\n",
       " 'model_graph': None,\n",
       " 'step_count': 0,\n",
       " 'step_target': 6,\n",
       " 'steering_parameters': {'deletion_prob': 0.05,\n",
       "  'edata': ['all'],\n",
       "  'epath': 'test2/edge_data',\n",
       "  'format': 'xarray',\n",
       "  'mode': 'w',\n",
       "  'ndata': ['all_except', ['a_table']],\n",
       "  'npath': 'test2/agent_data.zarr',\n",
       "  'ratio': 0.1,\n",
       "  'wealth_method': 'singular_transfer',\n",
       "  'income_method': 'default',\n",
       "  'consume_method': 'default',\n",
       "  'capital_update_method': 'default',\n",
       "  'characteristic_distance': 35,\n",
       "  'homophily_parameter': 0.69,\n",
       "  'perception_method': 'default',\n",
       "  'adapt_m': tensor([0.0000, 0.5000, 0.9000]),\n",
       "  'adapt_cost': tensor([0.0000, 0.2500, 0.4500]),\n",
       "  'depreciation': 0.6,\n",
       "  'discount': 0.95,\n",
       "  'm_theta_dist': {'type': 'multinomial',\n",
       "   'parameters': [tensor([0.0200, 0.0300, 0.0500, 0.9000]),\n",
       "    tensor([0.7000, 0.8000, 0.9000, 1.0000])],\n",
       "   'round': False,\n",
       "   'decimals': None},\n",
       "  'tech_gamma': tensor([0.3000, 0.3500, 0.4500]),\n",
       "  'tech_cost': tensor([0.0000, 0.1500, 0.6500]),\n",
       "  'truncation_weight': 1e-10,\n",
       "  'step_type': 'custom'},\n",
       " 'alpha_dist': {'type': 'normal',\n",
       "  'parameters': tensor([1.0800, 0.0740]),\n",
       "  'round': False,\n",
       "  'decimals': None},\n",
       " 'capital_dist': {'type': 'uniform',\n",
       "  'parameters': tensor([0., 1.]),\n",
       "  'round': False,\n",
       "  'decimals': None},\n",
       " 'cost_vals': [0.0, 0.45],\n",
       " 'gamma_vals': [0.3, 0.45],\n",
       " 'lambda_dist': {'type': 'uniform',\n",
       "  'parameters': tensor([0.1000, 0.9000]),\n",
       "  'round': True,\n",
       "  'decimals': 1},\n",
       " 'sigma_dist': {'type': 'uniform',\n",
       "  'parameters': tensor([0.1000, 1.9000]),\n",
       "  'round': True,\n",
       "  'decimals': 1},\n",
       " 'technology_dist': {'type': 'bernoulli',\n",
       "  'parameters': [0.5, None],\n",
       "  'round': False,\n",
       "  'decimals': None},\n",
       " 'technology_levels': [0, 1],\n",
       " 'a_theta_dist': {'type': 'uniform',\n",
       "  'parameters': tensor([0.1000, 1.0000]),\n",
       "  'round': False,\n",
       "  'decimals': None},\n",
       " 'sensitivity_dist': {'type': 'uniform',\n",
       "  'parameters': tensor([0., 1.]),\n",
       "  'round': False,\n",
       "  'decimals': None},\n",
       " 'adapt_m': tensor([0.0000, 0.5000, 0.9000]),\n",
       " 'adapt_cost': tensor([0.0000, 0.2500, 0.4500]),\n",
       " 'depreciation': 0.6,\n",
       " 'discount': 0.95}"
      ]
     },
     "execution_count": 3,
     "metadata": {},
     "output_type": "execute_result"
    }
   ],
   "source": [
    "# Set the model and simulation parameters\n",
    "# Using a config file and/or dictionary\n",
    "model.set_model_parameters(parameterFilePath='./agents.yaml', **{\"step_target\": 6})\n",
    "\n",
    "# Inspect number_agents and step_target\n",
    "model.__dict__"
   ]
  },
  {
   "cell_type": "code",
   "execution_count": 4,
   "metadata": {},
   "outputs": [],
   "source": [
    "# Initialize the model\n",
    "model.initialize_model()"
   ]
  },
  {
   "cell_type": "code",
   "execution_count": 5,
   "metadata": {},
   "outputs": [
    {
     "name": "stdout",
     "output_type": "stream",
     "text": [
      "6\n"
     ]
    }
   ],
   "source": [
    "print(model.step_target)"
   ]
  },
  {
   "cell_type": "code",
   "execution_count": 6,
   "metadata": {},
   "outputs": [
    {
     "name": "stdout",
     "output_type": "stream",
     "text": [
      "performing step 1 of 6\n",
      "creating bidirectional link between nodes 19 (src) and tensor([92]) (dst)\n",
      "created 1 of 1 links requested\n",
      "performing step 2 of 6\n",
      "creating bidirectional link between nodes 7 (src) and tensor([43]) (dst)\n",
      "created 1 of 1 links requested\n",
      "performing step 3 of 6\n",
      "creating bidirectional link between nodes 1 (src) and tensor([17]) (dst)\n",
      "created 1 of 1 links requested\n",
      "performing step 4 of 6\n",
      "creating bidirectional link between nodes 24 (src) and tensor([67]) (dst)\n",
      "created 1 of 1 links requested\n",
      "performing step 5 of 6\n",
      "creating bidirectional link between nodes 14 (src) and tensor([64]) (dst)\n",
      "created 1 of 1 links requested\n",
      "performing step 6 of 6\n",
      "creating bidirectional link between nodes 37 (src) and tensor([18]) (dst)\n",
      "created 1 of 1 links requested\n"
     ]
    }
   ],
   "source": [
    "model.run()"
   ]
  },
  {
   "cell_type": "markdown",
   "metadata": {},
   "source": [
    "## Test restart the model"
   ]
  },
  {
   "cell_type": "code",
   "execution_count": 1,
   "metadata": {},
   "outputs": [],
   "source": [
    "import dgl_ptm\n",
    "import os\n",
    "os.environ[\"DGLBACKEND\"] = \"pytorch\""
   ]
  },
  {
   "cell_type": "code",
   "execution_count": 2,
   "metadata": {},
   "outputs": [
    {
     "name": "stdout",
     "output_type": "stream",
     "text": [
      "performing step 1 of 6\n",
      "creating bidirectional link between nodes 71 (src) and tensor([84]) (dst)\n",
      "created 1 of 1 links requested\n",
      "performing step 2 of 6\n",
      "dst node 80 is an end node\n",
      "no FoF link possible for src dst nodes 65 and 80.\n",
      "created 0 of 1 links requested\n",
      "performing step 3 of 6\n",
      "dst node 72 is an end node\n",
      "no FoF link possible for src dst nodes 4 and 72.\n",
      "created 0 of 1 links requested\n",
      "performing step 4 of 6\n",
      "dst node 83 is an end node\n",
      "no FoF link possible for src dst nodes 48 and 83.\n",
      "created 0 of 1 links requested\n",
      "performing step 5 of 6\n",
      "dst node 95 is an end node\n",
      "no FoF link possible for src dst nodes 4 and 95.\n",
      "created 0 of 1 links requested\n",
      "performing step 6 of 6\n",
      "dst node 12 is an end node\n",
      "no FoF link possible for src dst nodes 52 and 12.\n",
      "created 0 of 1 links requested\n"
     ]
    }
   ],
   "source": [
    "# by default every time steps is saved\n",
    "model = dgl_ptm.PovertyTrapModel(model_identifier='test')\n",
    "model.set_model_parameters(**{\"step_target\": 10}) # increase step_target\n",
    "model.initialize_model()\n",
    "model.step_target = 6 # only runs the first 6 time steps\n",
    "model.run()"
   ]
  },
  {
   "cell_type": "code",
   "execution_count": 3,
   "metadata": {},
   "outputs": [
    {
     "name": "stdout",
     "output_type": "stream",
     "text": [
      "performing step 7 of 10\n",
      "creating bidirectional link between nodes 2 (src) and tensor([3]) (dst)\n",
      "created 1 of 1 links requested\n",
      "performing step 8 of 10\n",
      "dst node 85 is an end node\n",
      "no FoF link possible for src dst nodes 14 and 85.\n",
      "created 0 of 1 links requested\n",
      "performing step 9 of 10\n",
      "all FoF nodes are already direcctly connected to node 65.\n",
      "no FoF link possible for src dst nodes 65 and 71.\n",
      "created 0 of 1 links requested\n",
      "performing step 10 of 10\n",
      "creating bidirectional link between nodes 85 (src) and tensor([4]) (dst)\n",
      "created 1 of 1 links requested\n"
     ]
    }
   ],
   "source": [
    "del model\n",
    "model = dgl_ptm.PovertyTrapModel(model_identifier='test', restart=True)\n",
    "model.set_model_parameters(**{\"step_target\": 10}) # increase step_target\n",
    "model.run()"
   ]
  },
  {
   "cell_type": "code",
   "execution_count": 4,
   "metadata": {},
   "outputs": [],
   "source": [
    "del model"
   ]
  },
  {
   "cell_type": "code",
   "execution_count": 5,
   "metadata": {},
   "outputs": [
    {
     "name": "stdout",
     "output_type": "stream",
     "text": [
      "performing step 1 of 5\n",
      "creating bidirectional link between nodes 58 (src) and tensor([17]) (dst)\n",
      "created 1 of 1 links requested\n",
      "performing step 2 of 5\n",
      "dst node 57 is an end node\n",
      "no FoF link possible for src dst nodes 48 and 57.\n",
      "created 0 of 1 links requested\n",
      "performing step 3 of 5\n",
      "creating bidirectional link between nodes 45 (src) and tensor([60]) (dst)\n",
      "created 1 of 1 links requested\n",
      "performing step 4 of 5\n",
      "creating bidirectional link between nodes 77 (src) and tensor([31]) (dst)\n",
      "created 1 of 1 links requested\n",
      "performing step 5 of 5\n",
      "dst node 33 is an end node\n",
      "no FoF link possible for src dst nodes 14 and 33.\n",
      "created 0 of 1 links requested\n"
     ]
    }
   ],
   "source": [
    "model = dgl_ptm.PovertyTrapModel(model_identifier='test2', savestate=3)\n",
    "model.set_model_parameters(**{\"step_target\": 10}) # increase step_target\n",
    "model.initialize_model()\n",
    "model.step_target = 5 # only runs a few time steps\n",
    "model.run()"
   ]
  },
  {
   "cell_type": "code",
   "execution_count": 6,
   "metadata": {},
   "outputs": [
    {
     "name": "stdout",
     "output_type": "stream",
     "text": [
      "performing step 4 of 10\n",
      "creating bidirectional link between nodes 77 (src) and tensor([31]) (dst)\n",
      "created 1 of 1 links requested\n",
      "performing step 5 of 10\n",
      "dst node 33 is an end node\n",
      "no FoF link possible for src dst nodes 14 and 33.\n",
      "created 0 of 1 links requested\n",
      "performing step 6 of 10\n",
      "dst node 12 is an end node\n",
      "no FoF link possible for src dst nodes 52 and 12.\n",
      "created 0 of 1 links requested\n",
      "performing step 7 of 10\n",
      "creating bidirectional link between nodes 1 (src) and tensor([87]) (dst)\n",
      "created 1 of 1 links requested\n",
      "performing step 8 of 10\n",
      "creating bidirectional link between nodes 90 (src) and tensor([60]) (dst)\n",
      "created 1 of 1 links requested\n",
      "performing step 9 of 10\n",
      "all FoF nodes are already direcctly connected to node 58.\n",
      "no FoF link possible for src dst nodes 58 and 17.\n",
      "created 0 of 1 links requested\n",
      "performing step 10 of 10\n",
      "dst node 27 is an end node\n",
      "no FoF link possible for src dst nodes 89 and 27.\n",
      "created 0 of 1 links requested\n"
     ]
    }
   ],
   "source": [
    "del model\n",
    "model = dgl_ptm.PovertyTrapModel(model_identifier='test2', restart=True)\n",
    "model.set_model_parameters(**{\"step_target\": 10}) # increase step_target\n",
    "model.steering_parameters[\"mode\"] = \"w\"\n",
    "model.run()"
   ]
  },
  {
   "cell_type": "code",
   "execution_count": null,
   "metadata": {},
   "outputs": [],
   "source": []
  }
 ],
 "metadata": {
  "kernelspec": {
   "display_name": "Python 3 (ipykernel)",
   "language": "python",
   "name": "python3"
  },
  "language_info": {
   "codemirror_mode": {
    "name": "ipython",
    "version": 3
   },
   "file_extension": ".py",
   "mimetype": "text/x-python",
   "name": "python",
   "nbconvert_exporter": "python",
   "pygments_lexer": "ipython3",
   "version": "3.11.7"
  }
 },
 "nbformat": 4,
 "nbformat_minor": 4
}

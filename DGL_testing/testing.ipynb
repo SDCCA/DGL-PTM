{
 "cells": [
  {
   "cell_type": "code",
   "execution_count": 1,
   "metadata": {},
   "outputs": [],
   "source": [
    "import dgl_ptm\n",
    "import os\n",
    "os.environ[\"DGLBACKEND\"] = \"pytorch\""
   ]
  },
  {
   "cell_type": "code",
   "execution_count": 2,
   "metadata": {},
   "outputs": [],
   "source": [
    "model = dgl_ptm.PovertyTrapModel(model_identifier='test')"
   ]
  },
  {
   "cell_type": "code",
   "execution_count": 3,
   "metadata": {},
   "outputs": [],
   "source": [
    "model.set_model_parameters(default=True)"
   ]
  },
  {
   "cell_type": "code",
   "execution_count": 4,
   "metadata": {},
   "outputs": [],
   "source": [
    "model.initialize_model()"
   ]
  },
  {
   "cell_type": "code",
   "execution_count": 5,
   "metadata": {},
   "outputs": [
    {
     "name": "stdout",
     "output_type": "stream",
     "text": [
      "performing step 0 of 20\n",
      "dst node 62 is an end node\n",
      "no FoF link possible for src dst nodes 1 and 62.\n",
      "created 0 of 1 links requested\n",
      "torch.float32\n",
      "performing step 1 of 20\n",
      "creating bidirectional link between nodes 5 (src) and tensor([6]) (dst)\n",
      "created 1 of 1 links requested\n",
      "torch.float32\n",
      "performing step 2 of 20\n",
      "creating bidirectional link between nodes 3 (src) and tensor([67]) (dst)\n",
      "created 1 of 1 links requested\n",
      "torch.float32\n",
      "performing step 3 of 20\n",
      "creating bidirectional link between nodes 1 (src) and tensor([23]) (dst)\n",
      "created 1 of 1 links requested\n",
      "torch.float32\n",
      "performing step 4 of 20\n",
      "dst node 72 is an end node\n",
      "no FoF link possible for src dst nodes 7 and 72.\n",
      "created 0 of 1 links requested\n",
      "torch.float32\n",
      "performing step 5 of 20\n",
      "creating bidirectional link between nodes 22 (src) and tensor([5]) (dst)\n",
      "created 1 of 1 links requested\n",
      "torch.float32\n",
      "performing step 6 of 20\n",
      "creating bidirectional link between nodes 2 (src) and tensor([26]) (dst)\n",
      "created 1 of 1 links requested\n",
      "torch.float32\n",
      "performing step 7 of 20\n",
      "dst node 25 is an end node\n",
      "no FoF link possible for src dst nodes 2 and 25.\n",
      "created 0 of 1 links requested\n",
      "torch.float32\n",
      "performing step 8 of 20\n",
      "creating bidirectional link between nodes 27 (src) and tensor([34]) (dst)\n",
      "created 1 of 1 links requested\n",
      "torch.float32\n",
      "performing step 9 of 20\n",
      "dst node 50 is an end node\n",
      "no FoF link possible for src dst nodes 4 and 50.\n",
      "created 0 of 1 links requested\n",
      "torch.float32\n",
      "performing step 10 of 20\n",
      "creating bidirectional link between nodes 3 (src) and tensor([58]) (dst)\n",
      "created 1 of 1 links requested\n",
      "torch.float32\n",
      "performing step 11 of 20\n",
      "creating bidirectional link between nodes 1 (src) and tensor([19]) (dst)\n",
      "created 1 of 1 links requested\n",
      "torch.float32\n",
      "performing step 12 of 20\n",
      "dst node 29 is an end node\n",
      "no FoF link possible for src dst nodes 33 and 29.\n",
      "created 0 of 1 links requested\n",
      "torch.float32\n",
      "performing step 13 of 20\n",
      "dst node 8 is an end node\n",
      "no FoF link possible for src dst nodes 67 and 8.\n",
      "created 0 of 1 links requested\n",
      "torch.float32\n",
      "performing step 14 of 20\n",
      "dst node 41 is an end node\n",
      "no FoF link possible for src dst nodes 91 and 41.\n",
      "created 0 of 1 links requested\n",
      "torch.float32\n",
      "performing step 15 of 20\n",
      "dst node 82 is an end node\n",
      "no FoF link possible for src dst nodes 2 and 82.\n",
      "created 0 of 1 links requested\n",
      "torch.float32\n",
      "performing step 16 of 20\n",
      "creating bidirectional link between nodes 3 (src) and tensor([17]) (dst)\n",
      "created 1 of 1 links requested\n",
      "torch.float32\n",
      "performing step 17 of 20\n",
      "creating bidirectional link between nodes 1 (src) and tensor([46]) (dst)\n",
      "created 1 of 1 links requested\n",
      "torch.float32\n",
      "performing step 18 of 20\n",
      "creating bidirectional link between nodes 17 (src) and tensor([56]) (dst)\n",
      "created 1 of 1 links requested\n",
      "torch.float32\n",
      "performing step 19 of 20\n",
      "creating bidirectional link between nodes 85 (src) and tensor([2]) (dst)\n",
      "created 1 of 1 links requested\n",
      "torch.float32\n",
      "performing step 20 of 20\n",
      "dst node 24 is an end node\n",
      "no FoF link possible for src dst nodes 1 and 24.\n",
      "created 0 of 1 links requested\n",
      "torch.float32\n"
     ]
    }
   ],
   "source": [
    "model.run()"
   ]
  },
  {
   "cell_type": "code",
   "execution_count": null,
   "metadata": {},
   "outputs": [],
   "source": []
  }
 ],
 "metadata": {
  "kernelspec": {
   "display_name": "dgl",
   "language": "python",
   "name": "python3"
  },
  "language_info": {
   "codemirror_mode": {
    "name": "ipython",
    "version": 3
   },
   "file_extension": ".py",
   "mimetype": "text/x-python",
   "name": "python",
   "nbconvert_exporter": "python",
   "pygments_lexer": "ipython3",
   "version": "3.10.12"
  },
  "orig_nbformat": 4
 },
 "nbformat": 4,
 "nbformat_minor": 2
}

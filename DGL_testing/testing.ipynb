{
 "cells": [
  {
   "cell_type": "code",
   "execution_count": 1,
   "metadata": {},
   "outputs": [],
   "source": [
    "import dgl_ptm\n",
    "import os\n",
    "os.environ[\"DGLBACKEND\"] = \"pytorch\""
   ]
  },
  {
   "cell_type": "code",
   "execution_count": 2,
   "metadata": {},
   "outputs": [
    {
     "data": {
      "text/plain": [
       "{'_model_identifier': 'test2',\n",
       " 'device': 'cpu',\n",
       " 'number_agents': 100,\n",
       " 'gamma_vals': [0.3, 0.45],\n",
       " 'sigma_dist': SigmaDist(type='uniform', parameters=tensor([0.1000, 1.9000]), round=True, decimals=1),\n",
       " 'cost_vals': [0.0, 0.45],\n",
       " 'technology_levels': [0, 1],\n",
       " 'technology_dist': TechnologyDist(type='bernoulli', parameters=[0.5, None], round=False, decimals=None),\n",
       " 'a_theta_dist': AThetaDist(type='uniform', parameters=tensor([0.1000, 1.0000]), round=False, decimals=None),\n",
       " 'sensitivity_dist': SensitivityDist(type='uniform', parameters=tensor([0., 1.]), round=False, decimals=None),\n",
       " 'capital_dist': CapitalDist(type='uniform', parameters=tensor([0., 1.]), round=False, decimals=None),\n",
       " 'alpha_dist': AlphaDist(type='normal', parameters=tensor([1.0800, 0.0740]), round=False, decimals=None),\n",
       " 'lambda_dist': LambdaDist(type='uniform', parameters=tensor([0.1000, 0.9000]), round=True, decimals=1),\n",
       " 'initial_graph_type': 'barabasi-albert',\n",
       " 'model_graph': None,\n",
       " 'step_count': 0,\n",
       " 'step_target': 5,\n",
       " 'steering_parameters': SteeringParams(deletion_prob=0.05, edata=['all'], epath='./edge_data', format='xarray', mode='w', ndata=['all_except', ['a_table']], npath='./agent_data.zarr', ratio=0.1, wealth_method='singular_transfer', income_method='default', consume_method='default', capital_update_method='default', characteristic_distance=35, homophily_parameter=0.69, perception_method='default', adapt_m=tensor([0.0000, 0.5000, 0.9000]), adapt_cost=tensor([0.0000, 0.2500, 0.4500]), depreciation=0.6, discount=0.95, m_theta_dist=MThetaDist(type='multinomial', parameters=[tensor([0.0200, 0.0300, 0.0500, 0.9000]), tensor([0.7000, 0.8000, 0.9000, 1.0000])], round=False, decimals=None), tech_gamma=tensor([0.3000, 0.3500, 0.4500]), tech_cost=tensor([0.0000, 0.1500, 0.6500]), truncation_weight=1e-10, step_type='custom'),\n",
       " 'model_data': {}}"
      ]
     },
     "execution_count": 2,
     "metadata": {},
     "output_type": "execute_result"
    }
   ],
   "source": [
    "# Create an instance of the model class\n",
    "model = dgl_ptm.PovertyTrapModel(model_identifier='test2')\n",
    "\n",
    "# Inspect default configs\n",
    "model.__dict__"
   ]
  },
  {
   "cell_type": "code",
   "execution_count": 3,
   "metadata": {},
   "outputs": [
    {
     "data": {
      "text/plain": [
       "{'_model_identifier': 'test2',\n",
       " 'device': 'cpu',\n",
       " 'number_agents': 100,\n",
       " 'initial_graph_type': 'barabasi-albert',\n",
       " 'model_data': {},\n",
       " 'model_graph': None,\n",
       " 'step_count': 0,\n",
       " 'step_target': 6,\n",
       " 'steering_parameters': {'deletion_prob': 0.05,\n",
       "  'edata': ['all'],\n",
       "  'epath': 'test2/edge_data',\n",
       "  'format': 'xarray',\n",
       "  'mode': 'w',\n",
       "  'ndata': ['all_except', ['a_table']],\n",
       "  'npath': 'test2/agent_data.zarr',\n",
       "  'ratio': 0.1,\n",
       "  'wealth_method': 'singular_transfer',\n",
       "  'income_method': 'default',\n",
       "  'consume_method': 'default',\n",
       "  'capital_update_method': 'default',\n",
       "  'characteristic_distance': 35,\n",
       "  'homophily_parameter': 0.69,\n",
       "  'perception_method': 'default',\n",
       "  'adapt_m': tensor([0.0000, 0.5000, 0.9000]),\n",
       "  'adapt_cost': tensor([0.0000, 0.2500, 0.4500]),\n",
       "  'depreciation': 0.6,\n",
       "  'discount': 0.95,\n",
       "  'm_theta_dist': {'type': 'multinomial',\n",
       "   'parameters': [tensor([0.0200, 0.0300, 0.0500, 0.9000]),\n",
       "    tensor([0.7000, 0.8000, 0.9000, 1.0000])],\n",
       "   'round': False,\n",
       "   'decimals': None},\n",
       "  'tech_gamma': tensor([0.3000, 0.3500, 0.4500]),\n",
       "  'tech_cost': tensor([0.0000, 0.1500, 0.6500]),\n",
       "  'truncation_weight': 1e-10,\n",
       "  'step_type': 'custom'},\n",
       " 'alpha_dist': {'type': 'normal',\n",
       "  'parameters': tensor([1.0800, 0.0740]),\n",
       "  'round': False,\n",
       "  'decimals': None},\n",
       " 'capital_dist': {'type': 'uniform',\n",
       "  'parameters': tensor([0., 1.]),\n",
       "  'round': False,\n",
       "  'decimals': None},\n",
       " 'cost_vals': [0.0, 0.45],\n",
       " 'gamma_vals': [0.3, 0.45],\n",
       " 'lambda_dist': {'type': 'uniform',\n",
       "  'parameters': tensor([0.1000, 0.9000]),\n",
       "  'round': True,\n",
       "  'decimals': 1},\n",
       " 'sigma_dist': {'type': 'uniform',\n",
       "  'parameters': tensor([0.1000, 1.9000]),\n",
       "  'round': True,\n",
       "  'decimals': 1},\n",
       " 'technology_dist': {'type': 'bernoulli',\n",
       "  'parameters': [0.5, None],\n",
       "  'round': False,\n",
       "  'decimals': None},\n",
       " 'technology_levels': [0, 1],\n",
       " 'a_theta_dist': {'type': 'uniform',\n",
       "  'parameters': tensor([0.1000, 1.0000]),\n",
       "  'round': False,\n",
       "  'decimals': None},\n",
       " 'sensitivity_dist': {'type': 'uniform',\n",
       "  'parameters': tensor([0., 1.]),\n",
       "  'round': False,\n",
       "  'decimals': None},\n",
       " 'adapt_m': tensor([0.0000, 0.5000, 0.9000]),\n",
       " 'adapt_cost': tensor([0.0000, 0.2500, 0.4500]),\n",
       " 'depreciation': 0.6,\n",
       " 'discount': 0.95}"
      ]
     },
     "execution_count": 3,
     "metadata": {},
     "output_type": "execute_result"
    }
   ],
   "source": [
    "# Set the model and simulation parameters\n",
    "# Using a config file and/or dictionary\n",
    "model.set_model_parameters(parameterFilePath=None, **{\"step_target\": 6})\n",
    "\n",
    "# Inspect number_agents and step_target\n",
    "model.__dict__"
   ]
  },
  {
   "cell_type": "code",
   "execution_count": 4,
   "metadata": {},
   "outputs": [],
   "source": [
    "# Initialize the model\n",
    "model.initialize_model()"
   ]
  },
  {
   "cell_type": "code",
   "execution_count": 5,
   "metadata": {},
   "outputs": [],
   "source": [
    "model.step_target = 5"
   ]
  },
  {
   "cell_type": "code",
   "execution_count": 6,
   "metadata": {},
   "outputs": [
    {
     "name": "stdout",
     "output_type": "stream",
     "text": [
      "performing step 1 of 5\n",
      "creating bidirectional link between nodes 93 (src) and tensor([1]) (dst)\n",
      "created 1 of 1 links requested\n"
     ]
    },
    {
     "ename": "RuntimeError",
     "evalue": "execution of step failed for step 1",
     "output_type": "error",
     "traceback": [
      "\u001b[0;31m---------------------------------------------------------------------------\u001b[0m",
      "\u001b[0;31mFileNotFoundError\u001b[0m                         Traceback (most recent call last)",
      "File \u001b[0;32m/mnt/c/Users/PranavChandramouli/OneDrive - Netherlands eScience Center/Projects/Social_Dynamics/DGL-PTM/dgl_ptm/dgl_ptm/model/initialize_model.py:299\u001b[0m, in \u001b[0;36mPovertyTrapModel.step\u001b[0;34m(self)\u001b[0m\n\u001b[1;32m    298\u001b[0m     \u001b[38;5;28mself\u001b[39m\u001b[38;5;241m.\u001b[39mstep_count \u001b[38;5;241m+\u001b[39m\u001b[38;5;241m=\u001b[39m\u001b[38;5;241m1\u001b[39m\n\u001b[0;32m--> 299\u001b[0m     \u001b[43mptm_step\u001b[49m\u001b[43m(\u001b[49m\u001b[38;5;28;43mself\u001b[39;49m\u001b[38;5;241;43m.\u001b[39;49m\u001b[43mmodel_graph\u001b[49m\u001b[43m,\u001b[49m\u001b[38;5;28;43mself\u001b[39;49m\u001b[38;5;241;43m.\u001b[39;49m\u001b[43mdevice\u001b[49m\u001b[43m,\u001b[49m\u001b[38;5;28;43mself\u001b[39;49m\u001b[38;5;241;43m.\u001b[39;49m\u001b[43mmodel_data\u001b[49m\u001b[43m,\u001b[49m\u001b[38;5;28;43mself\u001b[39;49m\u001b[38;5;241;43m.\u001b[39;49m\u001b[43mstep_count\u001b[49m\u001b[43m,\u001b[49m\u001b[38;5;28;43mself\u001b[39;49m\u001b[38;5;241;43m.\u001b[39;49m\u001b[43msteering_parameters\u001b[49m\u001b[43m)\u001b[49m\n\u001b[1;32m    300\u001b[0m \u001b[38;5;28;01mexcept\u001b[39;00m:\n\u001b[1;32m    301\u001b[0m     \u001b[38;5;66;03m#TODO add model dump here. Also check against previous save to avoid overwriting\u001b[39;00m\n",
      "File \u001b[0;32m/mnt/c/Users/PranavChandramouli/OneDrive - Netherlands eScience Center/Projects/Social_Dynamics/DGL-PTM/dgl_ptm/dgl_ptm/model/step.py:34\u001b[0m, in \u001b[0;36mptm_step\u001b[0;34m(agent_graph, device, model_data, timestep, params)\u001b[0m\n\u001b[1;32m     33\u001b[0m local_attachment(agent_graph, n_FoF_links \u001b[38;5;241m=\u001b[39m \u001b[38;5;241m1\u001b[39m, edge_prop \u001b[38;5;241m=\u001b[39m \u001b[38;5;124m'\u001b[39m\u001b[38;5;124mweight\u001b[39m\u001b[38;5;124m'\u001b[39m, p_attach\u001b[38;5;241m=\u001b[39m\u001b[38;5;241m1.\u001b[39m  )\n\u001b[0;32m---> 34\u001b[0m \u001b[43mlink_deletion\u001b[49m\u001b[43m(\u001b[49m\u001b[43magent_graph\u001b[49m\u001b[43m,\u001b[49m\u001b[43m \u001b[49m\u001b[43mdeletion_prob\u001b[49m\u001b[43m \u001b[49m\u001b[38;5;241;43m=\u001b[39;49m\u001b[43m \u001b[49m\u001b[43mparams\u001b[49m\u001b[43m[\u001b[49m\u001b[38;5;124;43m'\u001b[39;49m\u001b[38;5;124;43mdeletion_prob\u001b[39;49m\u001b[38;5;124;43m'\u001b[39;49m\u001b[43m]\u001b[49m\u001b[43m)\u001b[49m\n\u001b[1;32m     35\u001b[0m global_attachment(agent_graph, device, ratio \u001b[38;5;241m=\u001b[39m params[\u001b[38;5;124m'\u001b[39m\u001b[38;5;124mratio\u001b[39m\u001b[38;5;124m'\u001b[39m])\n",
      "File \u001b[0;32m/mnt/c/Users/PranavChandramouli/OneDrive - Netherlands eScience Center/Projects/Social_Dynamics/DGL-PTM/dgl_ptm/dgl_ptm/network/link_deletion.py:16\u001b[0m, in \u001b[0;36mlink_deletion\u001b[0;34m(agent_graph, deletion_prob)\u001b[0m\n\u001b[1;32m      5\u001b[0m \u001b[38;5;250m\u001b[39m\u001b[38;5;124;03m'''\u001b[39;00m\n\u001b[1;32m      6\u001b[0m \u001b[38;5;124;03m    link_deletion - deletes links between agents with a deletion probability 'deletion_prob' \u001b[39;00m\n\u001b[1;32m      7\u001b[0m \u001b[38;5;124;03m                    by sampling against a random uniform distribution.\u001b[39;00m\n\u001b[0;32m   (...)\u001b[0m\n\u001b[1;32m     14\u001b[0m \u001b[38;5;124;03m        agent_graph: Updated agent_graph with reduced edges based on 'deletion_prob'\u001b[39;00m\n\u001b[1;32m     15\u001b[0m \u001b[38;5;124;03m'''\u001b[39;00m\n\u001b[0;32m---> 16\u001b[0m agent_graph\u001b[38;5;241m.\u001b[39mremove_edges(\u001b[43m_edgeids_2_delete\u001b[49m\u001b[43m(\u001b[49m\u001b[43magent_graph\u001b[49m\u001b[43m,\u001b[49m\u001b[43m \u001b[49m\u001b[43mdeletion_prob\u001b[49m\u001b[43m)\u001b[49m)\n",
      "File \u001b[0;32m/mnt/c/Users/PranavChandramouli/OneDrive - Netherlands eScience Center/Projects/Social_Dynamics/DGL-PTM/dgl_ptm/dgl_ptm/network/link_deletion.py:29\u001b[0m, in \u001b[0;36m_edgeids_2_delete\u001b[0;34m(agent_graph, deletion_prob)\u001b[0m\n\u001b[1;32m     19\u001b[0m \u001b[38;5;250m\u001b[39m\u001b[38;5;124;03m'''\u001b[39;00m\n\u001b[1;32m     20\u001b[0m \u001b[38;5;124;03m    Identify edges to delete based on a probability and triangular matrix manipulation\u001b[39;00m\n\u001b[1;32m     21\u001b[0m \n\u001b[0;32m   (...)\u001b[0m\n\u001b[1;32m     27\u001b[0m \u001b[38;5;124;03m        agent_graph.edge_ids: edge_ids for agent edges to be deleted\u001b[39;00m\n\u001b[1;32m     28\u001b[0m \u001b[38;5;124;03m'''\u001b[39;00m\n\u001b[0;32m---> 29\u001b[0m upper_triangular \u001b[38;5;241m=\u001b[39m _sparse_upper_triangular(\u001b[43magent_graph\u001b[49m\u001b[38;5;241;43m.\u001b[39;49m\u001b[43madj\u001b[49m\u001b[43m(\u001b[49m\u001b[43m)\u001b[49m)\n\u001b[1;32m     30\u001b[0m mask_edges \u001b[38;5;241m=\u001b[39m torch\u001b[38;5;241m.\u001b[39mrand(upper_triangular\u001b[38;5;241m.\u001b[39mval\u001b[38;5;241m.\u001b[39msize()[\u001b[38;5;241m0\u001b[39m]) \u001b[38;5;241m<\u001b[39m deletion_prob \u001b[38;5;66;03m# * triu_adj.val TODO: Is this needed?\u001b[39;00m\n",
      "File \u001b[0;32m~/miniconda3/envs/dgl_ptm/lib/python3.10/site-packages/dgl/heterograph.py:3823\u001b[0m, in \u001b[0;36mDGLGraph.adj\u001b[0;34m(self, etype, eweight_name)\u001b[0m\n\u001b[1;32m   3821\u001b[0m \u001b[38;5;28;01mimport\u001b[39;00m \u001b[38;5;21;01mtorch\u001b[39;00m\n\u001b[0;32m-> 3823\u001b[0m \u001b[38;5;28;01mfrom\u001b[39;00m \u001b[38;5;21;01m.\u001b[39;00m\u001b[38;5;21;01msparse\u001b[39;00m \u001b[38;5;28;01mimport\u001b[39;00m spmatrix\n\u001b[1;32m   3825\u001b[0m etype \u001b[38;5;241m=\u001b[39m \u001b[38;5;28mself\u001b[39m\u001b[38;5;241m.\u001b[39mto_canonical_etype(etype)\n",
      "File \u001b[0;32m~/miniconda3/envs/dgl_ptm/lib/python3.10/site-packages/dgl/sparse/__init__.py:43\u001b[0m\n\u001b[1;32m     40\u001b[0m         \u001b[38;5;28;01mraise\u001b[39;00m \u001b[38;5;167;01mImportError\u001b[39;00m(\u001b[38;5;124m\"\u001b[39m\u001b[38;5;124mCannot load DGL C++ sparse library\u001b[39m\u001b[38;5;124m\"\u001b[39m)\n\u001b[0;32m---> 43\u001b[0m \u001b[43mload_dgl_sparse\u001b[49m\u001b[43m(\u001b[49m\u001b[43m)\u001b[49m\n",
      "File \u001b[0;32m~/miniconda3/envs/dgl_ptm/lib/python3.10/site-packages/dgl/sparse/__init__.py:35\u001b[0m, in \u001b[0;36mload_dgl_sparse\u001b[0;34m()\u001b[0m\n\u001b[1;32m     34\u001b[0m \u001b[38;5;28;01mif\u001b[39;00m \u001b[38;5;129;01mnot\u001b[39;00m os\u001b[38;5;241m.\u001b[39mpath\u001b[38;5;241m.\u001b[39mexists(path):\n\u001b[0;32m---> 35\u001b[0m     \u001b[38;5;28;01mraise\u001b[39;00m \u001b[38;5;167;01mFileNotFoundError\u001b[39;00m(\u001b[38;5;124mf\u001b[39m\u001b[38;5;124m\"\u001b[39m\u001b[38;5;124mCannot find DGL C++ sparse library at \u001b[39m\u001b[38;5;132;01m{\u001b[39;00mpath\u001b[38;5;132;01m}\u001b[39;00m\u001b[38;5;124m\"\u001b[39m)\n\u001b[1;32m     37\u001b[0m \u001b[38;5;28;01mtry\u001b[39;00m:\n",
      "\u001b[0;31mFileNotFoundError\u001b[0m: Cannot find DGL C++ sparse library at /home/cpranav93/miniconda3/envs/dgl_ptm/lib/python3.10/site-packages/dgl/dgl_sparse/libdgl_sparse_pytorch_2.0.0.so",
      "\nDuring handling of the above exception, another exception occurred:\n",
      "\u001b[0;31mRuntimeError\u001b[0m                              Traceback (most recent call last)",
      "Cell \u001b[0;32mIn[6], line 1\u001b[0m\n\u001b[0;32m----> 1\u001b[0m \u001b[43mmodel\u001b[49m\u001b[38;5;241;43m.\u001b[39;49m\u001b[43mrun\u001b[49m\u001b[43m(\u001b[49m\u001b[43m)\u001b[49m\n",
      "File \u001b[0;32m/mnt/c/Users/PranavChandramouli/OneDrive - Netherlands eScience Center/Projects/Social_Dynamics/DGL-PTM/dgl_ptm/dgl_ptm/model/initialize_model.py:310\u001b[0m, in \u001b[0;36mPovertyTrapModel.run\u001b[0;34m(self)\u001b[0m\n\u001b[1;32m    308\u001b[0m \u001b[38;5;28;01mwhile\u001b[39;00m \u001b[38;5;28mself\u001b[39m\u001b[38;5;241m.\u001b[39mstep_count \u001b[38;5;241m<\u001b[39m \u001b[38;5;28mself\u001b[39m\u001b[38;5;241m.\u001b[39mstep_target:\n\u001b[1;32m    309\u001b[0m     \u001b[38;5;28mprint\u001b[39m(\u001b[38;5;124mf\u001b[39m\u001b[38;5;124m'\u001b[39m\u001b[38;5;124mperforming step \u001b[39m\u001b[38;5;132;01m{\u001b[39;00m\u001b[38;5;28mself\u001b[39m\u001b[38;5;241m.\u001b[39mstep_count\u001b[38;5;241m+\u001b[39m\u001b[38;5;241m1\u001b[39m\u001b[38;5;132;01m}\u001b[39;00m\u001b[38;5;124m of \u001b[39m\u001b[38;5;132;01m{\u001b[39;00m\u001b[38;5;28mself\u001b[39m\u001b[38;5;241m.\u001b[39mstep_target\u001b[38;5;132;01m}\u001b[39;00m\u001b[38;5;124m'\u001b[39m)\n\u001b[0;32m--> 310\u001b[0m     \u001b[38;5;28;43mself\u001b[39;49m\u001b[38;5;241;43m.\u001b[39;49m\u001b[43mstep\u001b[49m\u001b[43m(\u001b[49m\u001b[43m)\u001b[49m\n",
      "File \u001b[0;32m/mnt/c/Users/PranavChandramouli/OneDrive - Netherlands eScience Center/Projects/Social_Dynamics/DGL-PTM/dgl_ptm/dgl_ptm/model/initialize_model.py:304\u001b[0m, in \u001b[0;36mPovertyTrapModel.step\u001b[0;34m(self)\u001b[0m\n\u001b[1;32m    299\u001b[0m     ptm_step(\u001b[38;5;28mself\u001b[39m\u001b[38;5;241m.\u001b[39mmodel_graph,\u001b[38;5;28mself\u001b[39m\u001b[38;5;241m.\u001b[39mdevice,\u001b[38;5;28mself\u001b[39m\u001b[38;5;241m.\u001b[39mmodel_data,\u001b[38;5;28mself\u001b[39m\u001b[38;5;241m.\u001b[39mstep_count,\u001b[38;5;28mself\u001b[39m\u001b[38;5;241m.\u001b[39msteering_parameters)\n\u001b[1;32m    300\u001b[0m \u001b[38;5;28;01mexcept\u001b[39;00m:\n\u001b[1;32m    301\u001b[0m     \u001b[38;5;66;03m#TODO add model dump here. Also check against previous save to avoid overwriting\u001b[39;00m\n\u001b[0;32m--> 304\u001b[0m     \u001b[38;5;28;01mraise\u001b[39;00m \u001b[38;5;167;01mRuntimeError\u001b[39;00m(\u001b[38;5;124mf\u001b[39m\u001b[38;5;124m'\u001b[39m\u001b[38;5;124mexecution of step failed for step \u001b[39m\u001b[38;5;132;01m{\u001b[39;00m\u001b[38;5;28mself\u001b[39m\u001b[38;5;241m.\u001b[39mstep_count\u001b[38;5;132;01m}\u001b[39;00m\u001b[38;5;124m'\u001b[39m)\n",
      "\u001b[0;31mRuntimeError\u001b[0m: execution of step failed for step 1"
     ]
    }
   ],
   "source": [
    "model.run()"
   ]
  },
  {
   "cell_type": "code",
   "execution_count": null,
   "metadata": {},
   "outputs": [],
   "source": []
  }
 ],
 "metadata": {
  "kernelspec": {
   "display_name": "Python 3 (ipykernel)",
   "language": "python",
   "name": "python3"
  },
  "language_info": {
   "codemirror_mode": {
    "name": "ipython",
    "version": 3
   },
   "file_extension": ".py",
   "mimetype": "text/x-python",
   "name": "python",
   "nbconvert_exporter": "python",
   "pygments_lexer": "ipython3",
   "version": "3.10.13"
  }
 },
 "nbformat": 4,
 "nbformat_minor": 4
}

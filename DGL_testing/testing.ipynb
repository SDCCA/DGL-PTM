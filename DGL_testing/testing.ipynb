{
 "cells": [
  {
   "cell_type": "code",
   "execution_count": 1,
   "metadata": {},
   "outputs": [],
   "source": [
    "import dgl_ptm\n",
    "import os\n",
    "os.environ[\"DGLBACKEND\"] = \"pytorch\""
   ]
  },
  {
   "cell_type": "code",
   "execution_count": 2,
   "metadata": {},
   "outputs": [],
   "source": [
    "# Create an instance of the model class\n",
    "model = dgl_ptm.PovertyTrapModel(model_identifier='test')\n",
    "\n",
    "# Set the model and simulation parameters\n",
    "# Using DEFAULT values\n",
    "model.set_model_parameters(default=True)\n",
    "\n",
    "# OR\n",
    "# using a CONFIG file\n",
    "# model.set_model_parameters(default=True, parameterFilePath='../dgl_ptm/dgl_ptm/config.yaml')\n",
    "\n",
    "# Initialize the model\n",
    "model.initialize_model()"
   ]
  },
  {
   "cell_type": "code",
   "execution_count": 6,
   "metadata": {},
   "outputs": [],
   "source": [
    "model.step_target = 5"
   ]
  },
  {
   "cell_type": "code",
   "execution_count": 7,
   "metadata": {},
   "outputs": [
    {
     "name": "stdout",
     "output_type": "stream",
     "text": [
      "performing step 1 of 5\n",
      "creating bidirectional link between nodes 36 (src) and tensor([84]) (dst)\n",
      "created 1 of 1 links requested\n",
      "performing step 2 of 5\n",
      "creating bidirectional link between nodes 24 (src) and tensor([1]) (dst)\n",
      "created 1 of 1 links requested\n",
      "performing step 3 of 5\n",
      "creating bidirectional link between nodes 27 (src) and tensor([33]) (dst)\n",
      "created 1 of 1 links requested\n",
      "performing step 4 of 5\n",
      "creating bidirectional link between nodes 36 (src) and tensor([62]) (dst)\n",
      "created 1 of 1 links requested\n",
      "performing step 5 of 5\n",
      "all FoF nodes are already direcctly connected to node 24.\n",
      "no FoF link possible for src dst nodes 24 and 2.\n",
      "created 0 of 1 links requested\n"
     ]
    }
   ],
   "source": [
    "model.run()"
   ]
  }
 ],
 "metadata": {
  "kernelspec": {
   "display_name": "dgl",
   "language": "python",
   "name": "python3"
  },
  "language_info": {
   "codemirror_mode": {
    "name": "ipython",
    "version": 3
   },
   "file_extension": ".py",
   "mimetype": "text/x-python",
   "name": "python",
   "nbconvert_exporter": "python",
   "pygments_lexer": "ipython3",
   "version": "3.10.12"
  },
  "orig_nbformat": 4
 },
 "nbformat": 4,
 "nbformat_minor": 2
}

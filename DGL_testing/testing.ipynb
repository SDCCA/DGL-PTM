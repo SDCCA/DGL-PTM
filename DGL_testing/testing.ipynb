{
 "cells": [
  {
   "cell_type": "code",
   "execution_count": 1,
   "metadata": {},
   "outputs": [],
   "source": [
    "import dgl_ptm\n",
    "import os\n",
    "os.environ[\"DGLBACKEND\"] = \"pytorch\""
   ]
  },
  {
   "cell_type": "code",
   "execution_count": 2,
   "metadata": {},
   "outputs": [
    {
     "data": {
      "text/plain": [
       "{'_model_identifier': 'test2',\n",
       " 'number_agents': 100,\n",
       " 'gamma_vals': [0.3, 0.45],\n",
       " 'sigma_dist': SigmaDist(type='uniform', parameters=tensor([0.1000, 1.9000]), round=True, decimals=1),\n",
       " 'cost_vals': [0.0, 0.45],\n",
       " 'technology_levels': [0, 1],\n",
       " 'technology_dist': TechnologyDist(type='bernoulli', parameters=[0.5, None], round=False, decimals=None),\n",
       " 'a_theta_dist': AThetaDist(type='uniform', parameters=tensor([0.1000, 1.0000]), round=False, decimals=None),\n",
       " 'sensitivity_dist': SensitivityDist(type='uniform', parameters=tensor([0., 1.]), round=False, decimals=None),\n",
       " 'capital_dist': CapitalDist(type='uniform', parameters=tensor([0., 1.]), round=False, decimals=None),\n",
       " 'alpha_dist': AlphaDist(type='normal', parameters=tensor([1.0800, 0.0740]), round=False, decimals=None),\n",
       " 'lambda_dist': LambdaDist(type='uniform', parameters=tensor([0.1000, 0.9000]), round=True, decimals=1),\n",
       " 'initial_graph_type': 'barabasi-albert',\n",
       " 'model_graph': None,\n",
       " 'step_count': 0,\n",
       " 'step_target': 5,\n",
       " 'steering_parameters': SteeringParams(deletion_prob=0.05, edata=['all'], epath='./edge_data', format='xarray', mode='w', ndata=['all_except', ['a_table']], npath='./agent_data.zarr', ratio=0.1, wealth_method='singular_transfer', income_method='default', consume_method='default', capital_update_method='default', characteristic_distance=35, homophily_parameter=0.69, perception_method='default', adapt_m=tensor([0.0000, 0.5000, 0.9000]), adapt_cost=tensor([0.0000, 0.2500, 0.4500]), depreciation=0.6, discount=0.95, m_theta_dist=MThetaDist(type='multinomial', parameters=[tensor([0.0200, 0.0300, 0.0500, 0.9000]), tensor([0.7000, 0.8000, 0.9000, 1.0000])], round=False, decimals=None), weight_a=0.69, weight_b=35, tech_gamma=tensor([0.3000, 0.3500, 0.4500]), tech_cost=tensor([0.0000, 0.1500, 0.6500]), truncation_weight=1e-10, step_type='custom'),\n",
       " 'model_data': {}}"
      ]
     },
     "execution_count": 2,
     "metadata": {},
     "output_type": "execute_result"
    }
   ],
   "source": [
    "# Create an instance of the model class\n",
    "model = dgl_ptm.PovertyTrapModel(model_identifier='test2')\n",
    "\n",
    "# Inspect default configs\n",
    "model.__dict__"
   ]
  },
  {
   "cell_type": "code",
   "execution_count": 3,
   "metadata": {},
   "outputs": [
    {
     "data": {
      "text/plain": [
       "{'_model_identifier': 'test2',\n",
       " 'number_agents': 200,\n",
       " 'initial_graph_type': 'barabasi-albert',\n",
       " 'model_data': {},\n",
       " 'model_graph': None,\n",
       " 'step_count': 0,\n",
       " 'step_target': 6,\n",
       " 'steering_parameters': {'deletion_prob': 0.05,\n",
       "  'edata': ['all'],\n",
       "  'epath': 'test2/edge_data',\n",
       "  'format': 'xarray',\n",
       "  'mode': 'w',\n",
       "  'ndata': ['all_except', ['a_table']],\n",
       "  'npath': 'test2/agent_data.zarr',\n",
       "  'ratio': 0.1,\n",
       "  'wealth_method': 'singular_transfer',\n",
       "  'income_method': 'default',\n",
       "  'consume_method': 'default',\n",
       "  'capital_update_method': 'default',\n",
       "  'characteristic_distance': 35,\n",
       "  'homophily_parameter': 0.69,\n",
       "  'perception_method': 'default',\n",
       "  'adapt_m': tensor([0.0000, 0.5000, 0.9000]),\n",
       "  'adapt_cost': tensor([0.0000, 0.2500, 0.4500]),\n",
       "  'depreciation': 0.6,\n",
       "  'discount': 0.95,\n",
       "  'm_theta_dist': {'type': 'multinomial',\n",
       "   'parameters': [tensor([0.0200, 0.0300, 0.0500, 0.9000]),\n",
       "    tensor([0.7000, 0.8000, 0.9000, 1.0000])],\n",
       "   'round': False,\n",
       "   'decimals': None},\n",
       "  'weight_a': 0.69,\n",
       "  'weight_b': 35,\n",
       "  'tech_gamma': tensor([0.3000, 0.3500, 0.4500]),\n",
       "  'tech_cost': tensor([0.0000, 0.1500, 0.6500]),\n",
       "  'truncation_weight': 1e-10,\n",
       "  'step_type': 'custom'},\n",
       " 'alpha_dist': {'type': 'normal',\n",
       "  'parameters': tensor([1.0800, 0.0740]),\n",
       "  'round': False,\n",
       "  'decimals': None},\n",
       " 'capital_dist': {'type': 'uniform',\n",
       "  'parameters': tensor([0., 1.]),\n",
       "  'round': False,\n",
       "  'decimals': None},\n",
       " 'cost_vals': [0.0, 0.45],\n",
       " 'gamma_vals': [0.3, 0.45],\n",
       " 'lambda_dist': {'type': 'uniform',\n",
       "  'parameters': tensor([0.1000, 0.9000]),\n",
       "  'round': True,\n",
       "  'decimals': 1},\n",
       " 'sigma_dist': {'type': 'uniform',\n",
       "  'parameters': tensor([0.1000, 1.9000]),\n",
       "  'round': True,\n",
       "  'decimals': 1},\n",
       " 'technology_dist': {'type': 'bernoulli',\n",
       "  'parameters': [0.5, None],\n",
       "  'round': False,\n",
       "  'decimals': None},\n",
       " 'technology_levels': [0, 1],\n",
       " 'a_theta_dist': {'type': 'uniform',\n",
       "  'parameters': tensor([0.1000, 1.0000]),\n",
       "  'round': False,\n",
       "  'decimals': None},\n",
       " 'sensitivity_dist': {'type': 'uniform',\n",
       "  'parameters': tensor([0., 1.]),\n",
       "  'round': False,\n",
       "  'decimals': None},\n",
       " 'adapt_m': tensor([0.0000, 0.5000, 0.9000]),\n",
       " 'adapt_cost': tensor([0.0000, 0.2500, 0.4500]),\n",
       " 'depreciation': 0.6,\n",
       " 'discount': 0.95}"
      ]
     },
     "execution_count": 3,
     "metadata": {},
     "output_type": "execute_result"
    }
   ],
   "source": [
    "# Set the model and simulation parameters\n",
    "# Using a config file and/or dictionary\n",
    "model.set_model_parameters(parameterFilePath='./agents.yaml', **{\"step_target\": 6})\n",
    "\n",
    "# Inspect number_agents and step_target\n",
    "model.__dict__"
   ]
  },
  {
   "cell_type": "code",
   "execution_count": 4,
   "metadata": {},
   "outputs": [],
   "source": [
    "# Initialize the model\n",
    "model.initialize_model()"
   ]
  },
  {
   "cell_type": "code",
   "execution_count": 5,
   "metadata": {},
   "outputs": [],
   "source": [
    "model.step_target = 5"
   ]
  },
  {
   "cell_type": "code",
   "execution_count": 6,
   "metadata": {},
   "outputs": [
    {
     "name": "stdout",
     "output_type": "stream",
     "text": [
      "performing step 1 of 5\n",
      "creating bidirectional link between nodes 7 (src) and tensor([37]) (dst)\n",
      "created 1 of 1 links requested\n",
      "performing step 2 of 5\n",
      "dst node 186 is an end node\n",
      "no FoF link possible for src dst nodes 7 and 186.\n",
      "created 0 of 1 links requested\n",
      "performing step 3 of 5\n",
      "creating bidirectional link between nodes 168 (src) and tensor([48]) (dst)\n",
      "created 1 of 1 links requested\n",
      "performing step 4 of 5\n",
      "dst node 184 is an end node\n",
      "no FoF link possible for src dst nodes 105 and 184.\n",
      "created 0 of 1 links requested\n",
      "performing step 5 of 5\n",
      "creating bidirectional link between nodes 122 (src) and tensor([153]) (dst)\n",
      "created 1 of 1 links requested\n"
     ]
    }
   ],
   "source": [
    "model.run()"
   ]
  },
  {
   "cell_type": "code",
   "execution_count": null,
   "metadata": {},
   "outputs": [],
   "source": []
  }
 ],
 "metadata": {
  "kernelspec": {
   "display_name": "Python 3 (ipykernel)",
   "language": "python",
   "name": "python3"
  },
  "language_info": {
   "codemirror_mode": {
    "name": "ipython",
    "version": 3
   },
   "file_extension": ".py",
   "mimetype": "text/x-python",
   "name": "python",
   "nbconvert_exporter": "python",
   "pygments_lexer": "ipython3",
   "version": "3.10.13"
  }
 },
 "nbformat": 4,
 "nbformat_minor": 4
}

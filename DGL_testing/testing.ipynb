{
 "cells": [
  {
   "cell_type": "code",
   "execution_count": 1,
   "metadata": {},
   "outputs": [
    {
     "name": "stdout",
     "output_type": "stream",
     "text": [
      "Intel MKL WARNING: Support of Intel(R) Streaming SIMD Extensions 4.2 (Intel(R) SSE4.2) enabled only processors has been deprecated. Intel oneAPI Math Kernel Library 2025.0 will require Intel(R) Advanced Vector Extensions (Intel(R) AVX) instructions.\n",
      "Intel MKL WARNING: Support of Intel(R) Streaming SIMD Extensions 4.2 (Intel(R) SSE4.2) enabled only processors has been deprecated. Intel oneAPI Math Kernel Library 2025.0 will require Intel(R) Advanced Vector Extensions (Intel(R) AVX) instructions.\n"
     ]
    }
   ],
   "source": [
    "import sys\n",
    "sys.path.append('/Users/victoria/Documents/Scripts/Python/DGL-PTM/dgl_ptm')\n",
    "import dgl_ptm\n",
    "import os\n",
    "os.environ[\"DGLBACKEND\"] = \"pytorch\""
   ]
  },
  {
   "cell_type": "code",
   "execution_count": 2,
   "metadata": {},
   "outputs": [],
   "source": [
    "model = dgl_ptm.PovertyTrapModel(model_identifier='default')"
   ]
  },
  {
   "cell_type": "code",
   "execution_count": 3,
   "metadata": {},
   "outputs": [
    {
     "name": "stdout",
     "output_type": "stream",
     "text": [
      "{'npath': './agent_data.zarr', 'epath': './edge_data', 'ndata': ['all_except', ['a_table']], 'edata': ['all'], 'mode': 'xarray', 'wealth_method': 'singular_transfer', 'income_method': 'pseudo_income_generation', 'tech_gamma': tensor([0.3000, 0.3500, 0.4500]), 'tech_cost': tensor([0.0000, 0.1500, 0.6500]), 'consume_method': 'pseudo_consumption', 'adapt_m': tensor([0.0000, 0.5000, 0.9000]), 'adapt_cost': tensor([0.0000, 0.2500, 0.4500]), 'depreciation': 0.6, 'discount': 0.95, 'm_theta_dist': {'type': 'multinomial', 'parameters': [[0.01, 0.1, 0.79, 0.1], [0.1, 0.5, 0.8, 1]], 'round': False, 'decimals': None}, 'del_prob': 0.05, 'ratio': 0.1, 'weight_a': 0.69, 'weight_b': 35, 'truncation_weight': 1e-10, 'step_type': 'default'}\n"
     ]
    }
   ],
   "source": [
    "model.set_model_parameters(default=True)\n",
    "print(model.steering_parameters)"
   ]
  },
  {
   "cell_type": "code",
   "execution_count": 4,
   "metadata": {},
   "outputs": [],
   "source": [
    "model.initialize_model()"
   ]
  },
  {
   "cell_type": "code",
   "execution_count": 5,
   "metadata": {},
   "outputs": [
    {
     "name": "stdout",
     "output_type": "stream",
     "text": [
      "performing step 0 of 20\n",
      "creating bidirectional link between nodes 1 (src) and tensor([20]) (dst)\n",
      "created 1 of 1 links requested\n",
      "performing step 1 of 20\n",
      "creating bidirectional link between nodes 42 (src) and tensor([29]) (dst)\n",
      "created 1 of 1 links requested\n",
      "performing step 2 of 20\n",
      "dst node 84 is an end node\n",
      "no FoF link possible for src dst nodes 1 and 84.\n",
      "created 0 of 1 links requested\n",
      "performing step 3 of 20\n",
      "creating bidirectional link between nodes 48 (src) and tensor([92]) (dst)\n",
      "created 1 of 1 links requested\n",
      "performing step 4 of 20\n",
      "creating bidirectional link between nodes 11 (src) and tensor([23]) (dst)\n",
      "created 1 of 1 links requested\n",
      "performing step 5 of 20\n",
      "creating bidirectional link between nodes 13 (src) and tensor([20]) (dst)\n",
      "created 1 of 1 links requested\n",
      "performing step 6 of 20\n",
      "dst node 86 is an end node\n",
      "no FoF link possible for src dst nodes 58 and 86.\n",
      "created 0 of 1 links requested\n",
      "performing step 7 of 20\n",
      "creating bidirectional link between nodes 75 (src) and tensor([56]) (dst)\n",
      "created 1 of 1 links requested\n",
      "performing step 8 of 20\n",
      "creating bidirectional link between nodes 2 (src) and tensor([64]) (dst)\n",
      "created 1 of 1 links requested\n",
      "performing step 9 of 20\n",
      "dst node 33 is an end node\n",
      "no FoF link possible for src dst nodes 29 and 33.\n",
      "created 0 of 1 links requested\n",
      "performing step 10 of 20\n",
      "dst node 16 is an end node\n",
      "no FoF link possible for src dst nodes 14 and 16.\n",
      "created 0 of 1 links requested\n",
      "performing step 11 of 20\n",
      "dst node 42 is an end node\n",
      "no FoF link possible for src dst nodes 29 and 42.\n",
      "created 0 of 1 links requested\n",
      "performing step 12 of 20\n",
      "dst node 51 is an end node\n",
      "no FoF link possible for src dst nodes 36 and 51.\n",
      "created 0 of 1 links requested\n",
      "performing step 13 of 20\n",
      "creating bidirectional link between nodes 69 (src) and tensor([54]) (dst)\n",
      "created 1 of 1 links requested\n",
      "performing step 14 of 20\n",
      "creating bidirectional link between nodes 58 (src) and tensor([51]) (dst)\n",
      "created 1 of 1 links requested\n",
      "performing step 15 of 20\n",
      "creating bidirectional link between nodes 9 (src) and tensor([73]) (dst)\n",
      "created 1 of 1 links requested\n",
      "performing step 16 of 20\n",
      "all FoF nodes are already direcctly connected to node 9.\n",
      "no FoF link possible for src dst nodes 9 and 73.\n",
      "created 0 of 1 links requested\n",
      "performing step 17 of 20\n",
      "dst node 66 is an end node\n",
      "no FoF link possible for src dst nodes 74 and 66.\n",
      "created 0 of 1 links requested\n",
      "performing step 18 of 20\n",
      "dst node 75 is an end node\n",
      "no FoF link possible for src dst nodes 56 and 75.\n",
      "created 0 of 1 links requested\n",
      "performing step 19 of 20\n",
      "dst node 33 is an end node\n",
      "no FoF link possible for src dst nodes 29 and 33.\n",
      "created 0 of 1 links requested\n",
      "performing step 20 of 20\n",
      "dst node 52 is an end node\n",
      "no FoF link possible for src dst nodes 99 and 52.\n",
      "created 0 of 1 links requested\n"
     ]
    }
   ],
   "source": [
    "model.run()"
   ]
  },
  {
   "cell_type": "code",
   "execution_count": 6,
   "metadata": {},
   "outputs": [],
   "source": [
    "model = dgl_ptm.PovertyTrapModel(model_identifier='test')"
   ]
  },
  {
   "cell_type": "code",
   "execution_count": 9,
   "metadata": {},
   "outputs": [
    {
     "name": "stdout",
     "output_type": "stream",
     "text": [
      "100\n",
      "{'npath': './agent_data.zarr', 'epath': './edge_data', 'ndata': ['all'], 'edata': ['all'], 'mode': 'xarray', 'wealth_method': 'singular_transfer', 'income_method': 'pseudo_income_generation', 'tech_gamma': tensor([0.3000, 0.3500, 0.4500]), 'tech_cost': tensor([0.0000, 0.1500, 0.6500]), 'consume_method': 'pseudo_consumption', 'depreciation': 0.6, 'discount': 0.95, 'del_prob': 0.05, 'ratio': 0.1, 'weight_a': 0.69, 'weight_b': 35, 'truncation_weight': 1e-10, 'step_type': 'custom'}\n"
     ]
    }
   ],
   "source": [
    "import torch\n",
    "model.set_model_parameters(default=False, **{'steering_parameters': {'npath':'./agent_data.zarr',\n",
    "                            'epath':'./edge_data', \n",
    "                            'ndata':['all_except',['a_table']],\n",
    "                            'edata':['all'],\n",
    "                            'mode':'xarray',\n",
    "                            'wealth_method':'singular_transfer',\n",
    "                            'income_method':'income_generation',\n",
    "                            'tech_gamma': torch.tensor([0.3,0.35,0.45]),\n",
    "                            'tech_cost': torch.tensor([0,0.15,0.65]),\n",
    "                            'consume_method':'optimized_consumption',\n",
    "                            'adapt_m':torch.tensor([0,0.5,0.9]),\n",
    "                            'adapt_cost':torch.tensor([0,0.25,0.45]),\n",
    "                            'depreciation': 0.6,\n",
    "                            'discount': 0.95,\n",
    "                            'm_theta_dist': {'type':'multinomial','parameters':[[0.01 ,0.1, 0.79, 0.1],[0.1, 0.5, 0.8, 1]],'round':False,'decimals':None},\n",
    "                            'del_prob':0.05,\n",
    "                            'ratio':0.1,\n",
    "                            'weight_a':0.69,\n",
    "                            'weight_b':35, \n",
    "                            'truncation_weight':1.0e-10,\n",
    "                            'step_type': 'custom'}})\n",
    "\n",
    "print(model.number_agents)  \n",
    "print(model.steering_parameters)                        "
   ]
  },
  {
   "cell_type": "code",
   "execution_count": 10,
   "metadata": {},
   "outputs": [
    {
     "ename": "KeyError",
     "evalue": "'adapt_m'",
     "output_type": "error",
     "traceback": [
      "\u001b[0;31m---------------------------------------------------------------------------\u001b[0m",
      "\u001b[0;31mKeyError\u001b[0m                                  Traceback (most recent call last)",
      "Cell \u001b[0;32mIn[10], line 1\u001b[0m\n\u001b[0;32m----> 1\u001b[0m model\u001b[39m.\u001b[39;49minitialize_model()\n",
      "File \u001b[0;32m~/Documents/Scripts/Python/DGL-PTM/dgl_ptm/dgl_ptm/model/initialize_model.py:195\u001b[0m, in \u001b[0;36mPovertyTrapModel.initialize_model\u001b[0;34m(self)\u001b[0m\n\u001b[1;32m    191\u001b[0m \u001b[39m\u001b[39m\u001b[39m\"\"\"\u001b[39;00m\n\u001b[1;32m    192\u001b[0m \u001b[39mconvenience fucntion to create network and initiliize agent properties in correct order, thereby initializing a model\u001b[39;00m\n\u001b[1;32m    193\u001b[0m \u001b[39m\"\"\"\u001b[39;00m\n\u001b[1;32m    194\u001b[0m \u001b[39mself\u001b[39m\u001b[39m.\u001b[39mcreate_network()\n\u001b[0;32m--> 195\u001b[0m \u001b[39mself\u001b[39;49m\u001b[39m.\u001b[39;49minitialize_agent_properties()\n\u001b[1;32m    196\u001b[0m \u001b[39mself\u001b[39m\u001b[39m.\u001b[39minitialize_model_properties()\n\u001b[1;32m    197\u001b[0m weight_update(\u001b[39mself\u001b[39m\u001b[39m.\u001b[39mmodel_graph, \u001b[39mself\u001b[39m\u001b[39m.\u001b[39msteering_parameters[\u001b[39m'\u001b[39m\u001b[39mweight_a\u001b[39m\u001b[39m'\u001b[39m], \u001b[39mself\u001b[39m\u001b[39m.\u001b[39msteering_parameters[\u001b[39m'\u001b[39m\u001b[39mweight_b\u001b[39m\u001b[39m'\u001b[39m], \u001b[39mself\u001b[39m\u001b[39m.\u001b[39msteering_parameters[\u001b[39m'\u001b[39m\u001b[39mtruncation_weight\u001b[39m\u001b[39m'\u001b[39m])\n",
      "File \u001b[0;32m~/Documents/Scripts/Python/DGL-PTM/dgl_ptm/dgl_ptm/model/initialize_model.py:231\u001b[0m, in \u001b[0;36mPovertyTrapModel.initialize_agent_properties\u001b[0;34m(self)\u001b[0m\n\u001b[1;32m    229\u001b[0m agentsTheta \u001b[39m=\u001b[39m \u001b[39mself\u001b[39m\u001b[39m.\u001b[39m_initialize_agents_theta()\n\u001b[1;32m    230\u001b[0m agentsSensitivity \u001b[39m=\u001b[39m \u001b[39mself\u001b[39m\u001b[39m.\u001b[39m_initialize_agents_sensitivity()\n\u001b[0;32m--> 231\u001b[0m agentsAdaptTable \u001b[39m=\u001b[39m \u001b[39mself\u001b[39;49m\u001b[39m.\u001b[39;49m_initialize_agents_adapttable()\n\u001b[1;32m    232\u001b[0m agentsTecLevel, agentsGamma, agentsCost \u001b[39m=\u001b[39m \u001b[39mself\u001b[39m\u001b[39m.\u001b[39m_initialize_agents_tec()\n\u001b[1;32m    234\u001b[0m \u001b[39mif\u001b[39;00m \u001b[39misinstance\u001b[39m(\u001b[39mself\u001b[39m\u001b[39m.\u001b[39mmodel_graph,dgl\u001b[39m.\u001b[39mDGLGraph):\n",
      "File \u001b[0;32m~/Documents/Scripts/Python/DGL-PTM/dgl_ptm/dgl_ptm/model/initialize_model.py:255\u001b[0m, in \u001b[0;36mPovertyTrapModel._initialize_agents_adapttable\u001b[0;34m(self)\u001b[0m\n\u001b[1;32m    251\u001b[0m \u001b[39mdef\u001b[39;00m \u001b[39m_initialize_agents_adapttable\u001b[39m(\u001b[39mself\u001b[39m):\n\u001b[1;32m    252\u001b[0m \u001b[39m    \u001b[39m\u001b[39m\"\"\"\u001b[39;00m\n\u001b[1;32m    253\u001b[0m \u001b[39m    Initialize agents adaptation measure knowledge, currently uniform.\u001b[39;00m\n\u001b[1;32m    254\u001b[0m \u001b[39m    \"\"\"\u001b[39;00m\n\u001b[0;32m--> 255\u001b[0m     agentsAdaptTable \u001b[39m=\u001b[39mtorch\u001b[39m.\u001b[39mstack([\u001b[39mself\u001b[39;49m\u001b[39m.\u001b[39;49msteering_parameters[\u001b[39m'\u001b[39;49m\u001b[39madapt_m\u001b[39;49m\u001b[39m'\u001b[39;49m],\u001b[39mself\u001b[39m\u001b[39m.\u001b[39msteering_parameters[\u001b[39m'\u001b[39m\u001b[39madapt_cost\u001b[39m\u001b[39m'\u001b[39m]])\u001b[39m.\u001b[39mrepeat(\u001b[39mself\u001b[39m\u001b[39m.\u001b[39mnumber_agents,\u001b[39m1\u001b[39m,\u001b[39m1\u001b[39m)\n\u001b[1;32m    256\u001b[0m     \u001b[39mreturn\u001b[39;00m agentsAdaptTable\n",
      "\u001b[0;31mKeyError\u001b[0m: 'adapt_m'"
     ]
    }
   ],
   "source": [
    "model.initialize_model()"
   ]
  },
  {
   "cell_type": "code",
   "execution_count": null,
   "metadata": {},
   "outputs": [
    {
     "name": "stdout",
     "output_type": "stream",
     "text": [
      "tensor([1.9567, 2.9776, 2.1575, 3.4204, 2.7872])\n",
      "tensor([1, 2, 2, 2, 2])\n",
      "torch.float32\n",
      "tensor([1, 2, 2, 2, 2])\n"
     ]
    }
   ],
   "source": [
    "import torch\n",
    "import numpy as np\n",
    "TechTable =  np.array([[0.3,0],[0.35,0.15],[0.45, 0.65]])\n",
    "wealth=torch.tensor([ 6.4072, 17.6514,  8.5695, 27.9308, 13.7166])\n",
    "alpha=torch.tensor([1.0997, 0.9967, 1.0678, 0.9097, 1.0579])\n",
    "gamma = torch.tensor([0.3,0.35,0.45])\n",
    "cost = torch.tensor([0,0.15,0.65])\n",
    "\n",
    "income,index = torch.max((alpha[:,None]*wealth[:,None]**TechTable[:,0] - TechTable[:,1]), axis=1)\n",
    "income=income.to(torch.float32)\n",
    "\n",
    "print(income)\n",
    "print(index)\n",
    "\n",
    "\n",
    "income,tech_index = torch.max((alpha[:,None]*wealth[:,None]**gamma - cost), axis=1)\n",
    "\n",
    "print(income.dtype)\n",
    "print(index)"
   ]
  },
  {
   "cell_type": "code",
   "execution_count": null,
   "metadata": {},
   "outputs": [
    {
     "name": "stdout",
     "output_type": "stream",
     "text": [
      "tensor([9.0460, 5.8420, 4.0483, 2.4734, 7.5922, 3.3757, 0.2560, 9.5808, 8.8816,\n",
      "        7.0898])\n",
      "tensor(0.5000)\n"
     ]
    }
   ],
   "source": [
    "def sample_distribution_tensor(type, distParameters, nSamples, round=False, decimals=None):\n",
    "    \"\"\"\n",
    "    create and return samples from different distributions\n",
    "\n",
    "    :param type: Type of distribution to sample\n",
    "    :param distParameters: array of parameters as required/supported by requested distribution type\n",
    "    :param nSamples: number of samples to return (as 1d tensor)\n",
    "    :param round: optional, whether the samples are to be rounded\n",
    "    :param decimals: optional, required if round is specified. decimal places to round to\n",
    "    \"\"\"\n",
    "    if type == 'uniform':\n",
    "        dist = torch.distributions.uniform.Uniform(torch.tensor(distParameters[0]),torch.tensor(distParameters[1])).sample(torch.tensor([nSamples]))\n",
    "    elif type == 'normal':\n",
    "        dist = torch.distributions.normal.Normal(torch.tensor(distParameters[0]),torch.tensor(distParameters[1])).sample(torch.tensor([nSamples]))\n",
    "    elif type == 'bernoulli':\n",
    "        dist = torch.distributions.bernoulli.Bernoulli(probs=distParameters[0],logits=distParameters[1],validate_args=None).sample(torch.tensor([nSamples]))\n",
    "    elif type == 'multinomial':\n",
    "        dist = torch.gather(torch.Tensor(distParameters[1]), 0, torch.multinomial(torch.tensor(distParameters[0]), nSamples, replacement=True))\n",
    "\n",
    "    else:\n",
    "        raise NotImplementedError('Currently only uniform, normal, multinomial, and bernoulli distributions are supported')\n",
    "\n",
    "    if round:\n",
    "        if decimals == None:\n",
    "            raise ValueError('rounding requires decimals of rounding accuracy to be specified')\n",
    "        else:\n",
    "            return torch.round(dist,decimals=decimals)\n",
    "    else:\n",
    "        return dist\n",
    "\n",
    "theta_dist = {'type':'multinomial','parameters':[[0.01 ,0.1, 0.79, 0.1],[0.1, 0.5, 0.8, 1]],'round':False,'decimals':None} \n",
    "theta_vals = torch.tensor([0.1, 0.5, 0.8, 1])\n",
    "capital_dist = {'type':'uniform','parameters':[0.1,10.],'round':False,'decimals':None}\n",
    "\n",
    "\n",
    "agentsCapital = sample_distribution_tensor(capital_dist['type'],capital_dist['parameters'],10,capital_dist['round'],decimals=capital_dist['decimals'])\n",
    "print(agentsCapital)\n",
    "modelTheta = sample_distribution_tensor(theta_dist['type'],theta_dist['parameters'],10,round=theta_dist['round'],decimals=theta_dist['decimals'])\n",
    "print(modelTheta[1])\n"
   ]
  },
  {
   "cell_type": "code",
   "execution_count": null,
   "metadata": {},
   "outputs": [
    {
     "name": "stdout",
     "output_type": "stream",
     "text": [
      "[tensor(1.2311), tensor(1.1246), tensor(0.7160)]\n",
      "tensor([1.2311, 1.1246, 0.7160])\n"
     ]
    }
   ],
   "source": [
    "tech_gamma=torch.tensor([0.3,0.35,0.45])\n",
    "tech_cost=torch.tensor([0,0.15,0.65])\n",
    "α=1\n",
    "k=2\n",
    "\n",
    "\n",
    "\n",
    "f = []\n",
    "for i in range(tech_gamma.size(dim=0)): \n",
    "    #in the end, they may need their own tech tables\n",
    "    entry = α * k**tech_gamma[i] - tech_cost[i]\n",
    "    f.append(entry)\n",
    "print(f)\n",
    "entry = α * k**tech_gamma - tech_cost\n",
    "print(entry)\n"
   ]
  },
  {
   "cell_type": "code",
   "execution_count": null,
   "metadata": {},
   "outputs": [
    {
     "data": {
      "text/plain": [
       "tensor([[[0.3000, 0.3500, 0.4500],\n",
       "         [0.0000, 0.1500, 0.6500]],\n",
       "\n",
       "        [[0.3000, 0.3500, 0.4500],\n",
       "         [0.0000, 0.1500, 0.6500]],\n",
       "\n",
       "        [[0.3000, 0.3500, 0.4500],\n",
       "         [0.0000, 0.1500, 0.6500]],\n",
       "\n",
       "        [[0.3000, 0.3500, 0.4500],\n",
       "         [0.0000, 0.1500, 0.6500]]])"
      ]
     },
     "execution_count": 23,
     "metadata": {},
     "output_type": "execute_result"
    }
   ],
   "source": [
    "torch.stack([tech_gamma,tech_cost]).repeat(4,1,1)\n"
   ]
  },
  {
   "cell_type": "code",
   "execution_count": 13,
   "metadata": {},
   "outputs": [
    {
     "name": "stdout",
     "output_type": "stream",
     "text": [
      "[0.1, 0.5, 0.8, 1]\n",
      "['a', 'b', 'c']\n",
      "['b', 'c']\n",
      "['b']\n"
     ]
    }
   ],
   "source": [
    "data={'a':0,'b':4,'c':12}\n",
    "params={'steering_parameters':{'m_theta_dist': {'type':'multinomial','parameters':[[0.01 ,0.1, 0.79, 0.1],[0.1, 0.5, 0.8, 1]],'round':False,'decimals':None},\n",
    "                            'del_prob':0.05},'ndtata':['all']}\n",
    "\n",
    "print(params['steering_parameters']['m_theta_dist']['parameters'][1])\n",
    "\n",
    "\n",
    "def printdata(ndata):\n",
    "    if ndata == ['all']:\n",
    "        ndata = list(data.keys())\n",
    "\n",
    "    if ndata[0] == 'allexcept':\n",
    "        ndata = list(data.keys() - ndata[1])\n",
    "    print(ndata)\n",
    "\n",
    "\n",
    "printdata(['all'])\n",
    "printdata(['allexcept',['a']])\n",
    "printdata(['allexcept',['a','c']])"
   ]
  }
 ],
 "metadata": {
  "kernelspec": {
   "display_name": "Python 3.10.12 ('dgl_ptm')",
   "language": "python",
   "name": "python3"
  },
  "language_info": {
   "codemirror_mode": {
    "name": "ipython",
    "version": 3
   },
   "file_extension": ".py",
   "mimetype": "text/x-python",
   "name": "python",
   "nbconvert_exporter": "python",
   "pygments_lexer": "ipython3",
   "version": "3.10.13"
  },
  "orig_nbformat": 4,
  "vscode": {
   "interpreter": {
    "hash": "1477468427ea6fe7f3c6460347a373a01cc68daae53faf91f7d9fb578ee805b7"
   }
  }
 },
 "nbformat": 4,
 "nbformat_minor": 2
}
